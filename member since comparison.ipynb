{
 "cells": [
  {
   "cell_type": "code",
   "execution_count": 1,
   "metadata": {
    "collapsed": false
   },
   "outputs": [
    {
     "name": "stdout",
     "output_type": "stream",
     "text": [
      "Populating the interactive namespace from numpy and matplotlib\n"
     ]
    }
   ],
   "source": [
    "import pandas\n",
    "import datetime\n",
    "%pylab inline"
   ]
  },
  {
   "cell_type": "code",
   "execution_count": 2,
   "metadata": {
    "collapsed": false,
    "scrolled": true
   },
   "outputs": [],
   "source": [
    "ab_df = pandas.read_csv('2016-02-16/listings.csv.gz', compression='gzip', usecols=['host_id','host_since','smart_location','number_of_reviews'])\n",
    "ab_df['any_reviews']  = ab_df['number_of_reviews'].apply(lambda x: int(x!=0))\n",
    "ab_df_reviewful = ab_df[ab_df['any_reviews'] == 1]\n",
    "hosts = ab_df.groupby(by='host_id',as_index=True).agg({'host_since':lambda x: min(x),'smart_location': lambda x: min(x)})\n",
    "hosts_refver = ab_df_reviewful.groupby(by='host_id',as_index=True).agg({'host_since':lambda x: min(x),'smart_location': lambda x: min(x)})"
   ]
  },
  {
   "cell_type": "code",
   "execution_count": 3,
   "metadata": {
    "collapsed": false
   },
   "outputs": [
    {
     "name": "stderr",
     "output_type": "stream",
     "text": [
      "/usr/local/lib/python3.4/dist-packages/ipykernel/__main__.py:11: SettingWithCopyWarning: \n",
      "A value is trying to be set on a copy of a slice from a DataFrame.\n",
      "Try using .loc[row_indexer,col_indexer] = value instead\n",
      "\n",
      "See the the caveats in the documentation: http://pandas.pydata.org/pandas-docs/stable/indexing.html#indexing-view-versus-copy\n",
      "/usr/local/lib/python3.4/dist-packages/ipykernel/__main__.py:12: SettingWithCopyWarning: \n",
      "A value is trying to be set on a copy of a slice from a DataFrame.\n",
      "Try using .loc[row_indexer,col_indexer] = value instead\n",
      "\n",
      "See the the caveats in the documentation: http://pandas.pydata.org/pandas-docs/stable/indexing.html#indexing-view-versus-copy\n",
      "/usr/local/lib/python3.4/dist-packages/ipykernel/__main__.py:13: SettingWithCopyWarning: \n",
      "A value is trying to be set on a copy of a slice from a DataFrame.\n",
      "Try using .loc[row_indexer,col_indexer] = value instead\n",
      "\n",
      "See the the caveats in the documentation: http://pandas.pydata.org/pandas-docs/stable/indexing.html#indexing-view-versus-copy\n"
     ]
    }
   ],
   "source": [
    "cs_df = pandas.read_csv('couchsurfing/clean_hosts.csv',usecols=['people_id','member_since','city','state','status','verified_status','references_int'])\n",
    "\n",
    "def get_year(s):\n",
    "    try:\n",
    "        return datetime.datetime(int(s.split(\"Member since \")[1]), 1, 1)\n",
    "    except:\n",
    "        return None\n",
    "    \n",
    "cs_df['member_since'] = cs_df['member_since'].apply(get_year)\n",
    "cs_df_defhosts = cs_df[cs_df['status'] == 'Accepting Guests']\n",
    "cs_df_defhosts['any_verification'] = cs_df_defhosts['verified_status'].apply(lambda x: int(x != 'Not Verified'))\n",
    "cs_df_defhosts['any_references'] = cs_df_defhosts['references_int'].apply(lambda x: int(x != 0))\n",
    "cs_df_defhosts['any_ref_ver'] = cs_df_defhosts[['any_references','any_verification']].apply(lambda row: row[0] or row[1], axis=1)\n",
    "cs_df_defhosts_refver = cs_df_defhosts[cs_df_defhosts['any_ref_ver'] == 1]"
   ]
  },
  {
   "cell_type": "code",
   "execution_count": 4,
   "metadata": {
    "collapsed": false
   },
   "outputs": [
    {
     "data": {
      "text/plain": [
       "array(['Accepting Guests', 'Maybe Accepting Guests',\n",
       "       'Not Accepting Guests', 'Wants to Meet Up'], dtype=object)"
      ]
     },
     "execution_count": 4,
     "metadata": {},
     "output_type": "execute_result"
    }
   ],
   "source": [
    "unique(cs_df['status'].values)"
   ]
  },
  {
   "cell_type": "code",
   "execution_count": 5,
   "metadata": {
    "collapsed": false
   },
   "outputs": [],
   "source": [
    "hosts['host_since'] = hosts['host_since'].apply(lambda x: datetime.datetime.strptime(x,'%Y-%m-%d') if isinstance(x,str) else x)\n",
    "hosts_refver['host_since'] = hosts_refver['host_since'].apply(lambda x: datetime.datetime.strptime(x,'%Y-%m-%d') if isinstance(x,str) else x)"
   ]
  },
  {
   "cell_type": "code",
   "execution_count": 6,
   "metadata": {
    "collapsed": false
   },
   "outputs": [],
   "source": [
    "ab_since_global = hosts.groupby(by='host_since').agg(len)\n",
    "ab_since_global_refver = hosts_refver.groupby(by='host_since').agg(len)"
   ]
  },
  {
   "cell_type": "code",
   "execution_count": 7,
   "metadata": {
    "collapsed": false
   },
   "outputs": [],
   "source": [
    "ab_daily_roll = pandas.rolling_mean(ab_since_global, window=10)"
   ]
  },
  {
   "cell_type": "code",
   "execution_count": 8,
   "metadata": {
    "collapsed": false
   },
   "outputs": [
    {
     "data": {
      "text/plain": [
       "(array([ 733408.,  733773.,  734138.,  734503.,  734869.,  735234.,\n",
       "         735599.,  735964.]), <a list of 8 Text xticklabel objects>)"
      ]
     },
     "execution_count": 8,
     "metadata": {},
     "output_type": "execute_result"
    },
    {
     "data": {
      "image/png": "[encoded data removed]",
      "text/plain": [
       "<matplotlib.figure.Figure at 0x7f6b52f7f9b0>"
      ]
     },
     "metadata": {},
     "output_type": "display_data"
    }
   ],
   "source": [
    "ax = ab_daily_roll.plot(legend=False, title='Airbnb daily host sign-ups \\n United States', figsize=(8,6))\n",
    "plt.xticks(rotation=45)"
   ]
  },
  {
   "cell_type": "code",
   "execution_count": 9,
   "metadata": {
    "collapsed": false
   },
   "outputs": [],
   "source": [
    "cs_since_global = cs_df.groupby(by='member_since').count()\n",
    "cs_since_global_defhosts = cs_df_defhosts.groupby(by='member_since').count()\n",
    "cs_since_global_defhosts_refver = cs_df_defhosts_refver.groupby(by='member_since').count()"
   ]
  },
  {
   "cell_type": "code",
   "execution_count": 10,
   "metadata": {
    "collapsed": false
   },
   "outputs": [
    {
     "data": {
      "text/html": [
       "<div style=\"max-height:1000px;max-width:1500px;overflow:auto;\">\n",
       "<table border=\"1\" class=\"dataframe\">\n",
       "  <thead>\n",
       "    <tr style=\"text-align: right;\">\n",
       "      <th></th>\n",
       "      <th>city</th>\n",
       "      <th>people_id</th>\n",
       "      <th>state</th>\n",
       "      <th>status</th>\n",
       "      <th>verified_status</th>\n",
       "      <th>references_int</th>\n",
       "    </tr>\n",
       "    <tr>\n",
       "      <th>member_since</th>\n",
       "      <th></th>\n",
       "      <th></th>\n",
       "      <th></th>\n",
       "      <th></th>\n",
       "      <th></th>\n",
       "      <th></th>\n",
       "    </tr>\n",
       "  </thead>\n",
       "  <tbody>\n",
       "    <tr>\n",
       "      <th>2003-01-01</th>\n",
       "      <td>     53</td>\n",
       "      <td>     53</td>\n",
       "      <td>     53</td>\n",
       "      <td>     53</td>\n",
       "      <td>     53</td>\n",
       "      <td>     53</td>\n",
       "    </tr>\n",
       "    <tr>\n",
       "      <th>2004-01-01</th>\n",
       "      <td>   1396</td>\n",
       "      <td>   1398</td>\n",
       "      <td>   1398</td>\n",
       "      <td>   1398</td>\n",
       "      <td>   1398</td>\n",
       "      <td>   1398</td>\n",
       "    </tr>\n",
       "    <tr>\n",
       "      <th>2005-01-01</th>\n",
       "      <td>   6854</td>\n",
       "      <td>   6856</td>\n",
       "      <td>   6856</td>\n",
       "      <td>   6856</td>\n",
       "      <td>   6856</td>\n",
       "      <td>   6856</td>\n",
       "    </tr>\n",
       "    <tr>\n",
       "      <th>2006-01-01</th>\n",
       "      <td>  10307</td>\n",
       "      <td>  10321</td>\n",
       "      <td>  10321</td>\n",
       "      <td>  10321</td>\n",
       "      <td>  10321</td>\n",
       "      <td>  10321</td>\n",
       "    </tr>\n",
       "    <tr>\n",
       "      <th>2007-01-01</th>\n",
       "      <td>  23286</td>\n",
       "      <td>  23307</td>\n",
       "      <td>  23307</td>\n",
       "      <td>  23307</td>\n",
       "      <td>  23307</td>\n",
       "      <td>  23307</td>\n",
       "    </tr>\n",
       "    <tr>\n",
       "      <th>2008-01-01</th>\n",
       "      <td>  39086</td>\n",
       "      <td>  39110</td>\n",
       "      <td>  39110</td>\n",
       "      <td>  39110</td>\n",
       "      <td>  39110</td>\n",
       "      <td>  39110</td>\n",
       "    </tr>\n",
       "    <tr>\n",
       "      <th>2009-01-01</th>\n",
       "      <td>  47375</td>\n",
       "      <td>  47427</td>\n",
       "      <td>  47427</td>\n",
       "      <td>  47427</td>\n",
       "      <td>  47427</td>\n",
       "      <td>  47427</td>\n",
       "    </tr>\n",
       "    <tr>\n",
       "      <th>2010-01-01</th>\n",
       "      <td>  47326</td>\n",
       "      <td>  47385</td>\n",
       "      <td>  47385</td>\n",
       "      <td>  47385</td>\n",
       "      <td>  47385</td>\n",
       "      <td>  47385</td>\n",
       "    </tr>\n",
       "    <tr>\n",
       "      <th>2011-01-01</th>\n",
       "      <td>  36424</td>\n",
       "      <td>  36491</td>\n",
       "      <td>  36491</td>\n",
       "      <td>  36491</td>\n",
       "      <td>  36491</td>\n",
       "      <td>  36491</td>\n",
       "    </tr>\n",
       "    <tr>\n",
       "      <th>2012-01-01</th>\n",
       "      <td> 230716</td>\n",
       "      <td> 230865</td>\n",
       "      <td> 230865</td>\n",
       "      <td> 230865</td>\n",
       "      <td> 230865</td>\n",
       "      <td> 230865</td>\n",
       "    </tr>\n",
       "    <tr>\n",
       "      <th>2013-01-01</th>\n",
       "      <td> 306919</td>\n",
       "      <td> 307045</td>\n",
       "      <td> 307045</td>\n",
       "      <td> 307045</td>\n",
       "      <td> 307045</td>\n",
       "      <td> 307045</td>\n",
       "    </tr>\n",
       "    <tr>\n",
       "      <th>2014-01-01</th>\n",
       "      <td> 370380</td>\n",
       "      <td> 371131</td>\n",
       "      <td> 371131</td>\n",
       "      <td> 371131</td>\n",
       "      <td> 371131</td>\n",
       "      <td> 371131</td>\n",
       "    </tr>\n",
       "    <tr>\n",
       "      <th>2015-01-01</th>\n",
       "      <td> 258728</td>\n",
       "      <td> 275593</td>\n",
       "      <td> 275593</td>\n",
       "      <td> 275593</td>\n",
       "      <td> 275593</td>\n",
       "      <td> 275593</td>\n",
       "    </tr>\n",
       "    <tr>\n",
       "      <th>2016-01-01</th>\n",
       "      <td>  60427</td>\n",
       "      <td>  65693</td>\n",
       "      <td>  65693</td>\n",
       "      <td>  65693</td>\n",
       "      <td>  65693</td>\n",
       "      <td>  65693</td>\n",
       "    </tr>\n",
       "  </tbody>\n",
       "</table>\n",
       "</div>"
      ],
      "text/plain": [
       "                city  people_id   state  status  verified_status  \\\n",
       "member_since                                                       \n",
       "2003-01-01        53         53      53      53               53   \n",
       "2004-01-01      1396       1398    1398    1398             1398   \n",
       "2005-01-01      6854       6856    6856    6856             6856   \n",
       "2006-01-01     10307      10321   10321   10321            10321   \n",
       "2007-01-01     23286      23307   23307   23307            23307   \n",
       "2008-01-01     39086      39110   39110   39110            39110   \n",
       "2009-01-01     47375      47427   47427   47427            47427   \n",
       "2010-01-01     47326      47385   47385   47385            47385   \n",
       "2011-01-01     36424      36491   36491   36491            36491   \n",
       "2012-01-01    230716     230865  230865  230865           230865   \n",
       "2013-01-01    306919     307045  307045  307045           307045   \n",
       "2014-01-01    370380     371131  371131  371131           371131   \n",
       "2015-01-01    258728     275593  275593  275593           275593   \n",
       "2016-01-01     60427      65693   65693   65693            65693   \n",
       "\n",
       "              references_int  \n",
       "member_since                  \n",
       "2003-01-01                53  \n",
       "2004-01-01              1398  \n",
       "2005-01-01              6856  \n",
       "2006-01-01             10321  \n",
       "2007-01-01             23307  \n",
       "2008-01-01             39110  \n",
       "2009-01-01             47427  \n",
       "2010-01-01             47385  \n",
       "2011-01-01             36491  \n",
       "2012-01-01            230865  \n",
       "2013-01-01            307045  \n",
       "2014-01-01            371131  \n",
       "2015-01-01            275593  \n",
       "2016-01-01             65693  "
      ]
     },
     "execution_count": 10,
     "metadata": {},
     "output_type": "execute_result"
    }
   ],
   "source": [
    "cs_since_global"
   ]
  },
  {
   "cell_type": "code",
   "execution_count": 11,
   "metadata": {
    "collapsed": false
   },
   "outputs": [
    {
     "data": {
      "text/html": [
       "<div style=\"max-height:1000px;max-width:1500px;overflow:auto;\">\n",
       "<table border=\"1\" class=\"dataframe\">\n",
       "  <thead>\n",
       "    <tr style=\"text-align: right;\">\n",
       "      <th></th>\n",
       "      <th>city</th>\n",
       "      <th>people_id</th>\n",
       "      <th>state</th>\n",
       "      <th>status</th>\n",
       "      <th>verified_status</th>\n",
       "      <th>references_int</th>\n",
       "      <th>any_verification</th>\n",
       "      <th>any_references</th>\n",
       "      <th>any_ref_ver</th>\n",
       "    </tr>\n",
       "    <tr>\n",
       "      <th>member_since</th>\n",
       "      <th></th>\n",
       "      <th></th>\n",
       "      <th></th>\n",
       "      <th></th>\n",
       "      <th></th>\n",
       "      <th></th>\n",
       "      <th></th>\n",
       "      <th></th>\n",
       "      <th></th>\n",
       "    </tr>\n",
       "  </thead>\n",
       "  <tbody>\n",
       "    <tr>\n",
       "      <th>2003-01-01</th>\n",
       "      <td>    31</td>\n",
       "      <td>    31</td>\n",
       "      <td>    31</td>\n",
       "      <td>    31</td>\n",
       "      <td>    31</td>\n",
       "      <td>    31</td>\n",
       "      <td>    31</td>\n",
       "      <td>    31</td>\n",
       "      <td>    31</td>\n",
       "    </tr>\n",
       "    <tr>\n",
       "      <th>2004-01-01</th>\n",
       "      <td>   867</td>\n",
       "      <td>   868</td>\n",
       "      <td>   868</td>\n",
       "      <td>   868</td>\n",
       "      <td>   868</td>\n",
       "      <td>   868</td>\n",
       "      <td>   868</td>\n",
       "      <td>   868</td>\n",
       "      <td>   868</td>\n",
       "    </tr>\n",
       "    <tr>\n",
       "      <th>2005-01-01</th>\n",
       "      <td>  3835</td>\n",
       "      <td>  3837</td>\n",
       "      <td>  3837</td>\n",
       "      <td>  3837</td>\n",
       "      <td>  3837</td>\n",
       "      <td>  3837</td>\n",
       "      <td>  3837</td>\n",
       "      <td>  3837</td>\n",
       "      <td>  3837</td>\n",
       "    </tr>\n",
       "    <tr>\n",
       "      <th>2006-01-01</th>\n",
       "      <td>  6038</td>\n",
       "      <td>  6046</td>\n",
       "      <td>  6046</td>\n",
       "      <td>  6046</td>\n",
       "      <td>  6046</td>\n",
       "      <td>  6046</td>\n",
       "      <td>  6046</td>\n",
       "      <td>  6046</td>\n",
       "      <td>  6046</td>\n",
       "    </tr>\n",
       "    <tr>\n",
       "      <th>2007-01-01</th>\n",
       "      <td> 13958</td>\n",
       "      <td> 13967</td>\n",
       "      <td> 13967</td>\n",
       "      <td> 13967</td>\n",
       "      <td> 13967</td>\n",
       "      <td> 13967</td>\n",
       "      <td> 13967</td>\n",
       "      <td> 13967</td>\n",
       "      <td> 13967</td>\n",
       "    </tr>\n",
       "    <tr>\n",
       "      <th>2008-01-01</th>\n",
       "      <td> 23593</td>\n",
       "      <td> 23604</td>\n",
       "      <td> 23604</td>\n",
       "      <td> 23604</td>\n",
       "      <td> 23604</td>\n",
       "      <td> 23604</td>\n",
       "      <td> 23604</td>\n",
       "      <td> 23604</td>\n",
       "      <td> 23604</td>\n",
       "    </tr>\n",
       "    <tr>\n",
       "      <th>2009-01-01</th>\n",
       "      <td> 28885</td>\n",
       "      <td> 28905</td>\n",
       "      <td> 28905</td>\n",
       "      <td> 28905</td>\n",
       "      <td> 28905</td>\n",
       "      <td> 28905</td>\n",
       "      <td> 28905</td>\n",
       "      <td> 28905</td>\n",
       "      <td> 28905</td>\n",
       "    </tr>\n",
       "    <tr>\n",
       "      <th>2010-01-01</th>\n",
       "      <td> 29183</td>\n",
       "      <td> 29206</td>\n",
       "      <td> 29206</td>\n",
       "      <td> 29206</td>\n",
       "      <td> 29206</td>\n",
       "      <td> 29206</td>\n",
       "      <td> 29206</td>\n",
       "      <td> 29206</td>\n",
       "      <td> 29206</td>\n",
       "    </tr>\n",
       "    <tr>\n",
       "      <th>2011-01-01</th>\n",
       "      <td> 20815</td>\n",
       "      <td> 20840</td>\n",
       "      <td> 20840</td>\n",
       "      <td> 20840</td>\n",
       "      <td> 20840</td>\n",
       "      <td> 20840</td>\n",
       "      <td> 20840</td>\n",
       "      <td> 20840</td>\n",
       "      <td> 20840</td>\n",
       "    </tr>\n",
       "    <tr>\n",
       "      <th>2012-01-01</th>\n",
       "      <td> 14171</td>\n",
       "      <td> 14206</td>\n",
       "      <td> 14206</td>\n",
       "      <td> 14206</td>\n",
       "      <td> 14206</td>\n",
       "      <td> 14206</td>\n",
       "      <td> 14206</td>\n",
       "      <td> 14206</td>\n",
       "      <td> 14206</td>\n",
       "    </tr>\n",
       "    <tr>\n",
       "      <th>2013-01-01</th>\n",
       "      <td> 74462</td>\n",
       "      <td> 74498</td>\n",
       "      <td> 74498</td>\n",
       "      <td> 74498</td>\n",
       "      <td> 74498</td>\n",
       "      <td> 74498</td>\n",
       "      <td> 74498</td>\n",
       "      <td> 74498</td>\n",
       "      <td> 74498</td>\n",
       "    </tr>\n",
       "    <tr>\n",
       "      <th>2014-01-01</th>\n",
       "      <td> 19811</td>\n",
       "      <td> 19876</td>\n",
       "      <td> 19876</td>\n",
       "      <td> 19876</td>\n",
       "      <td> 19876</td>\n",
       "      <td> 19876</td>\n",
       "      <td> 19876</td>\n",
       "      <td> 19876</td>\n",
       "      <td> 19876</td>\n",
       "    </tr>\n",
       "    <tr>\n",
       "      <th>2015-01-01</th>\n",
       "      <td> 10564</td>\n",
       "      <td> 10945</td>\n",
       "      <td> 10945</td>\n",
       "      <td> 10945</td>\n",
       "      <td> 10945</td>\n",
       "      <td> 10945</td>\n",
       "      <td> 10945</td>\n",
       "      <td> 10945</td>\n",
       "      <td> 10945</td>\n",
       "    </tr>\n",
       "    <tr>\n",
       "      <th>2016-01-01</th>\n",
       "      <td>  2480</td>\n",
       "      <td>  2614</td>\n",
       "      <td>  2614</td>\n",
       "      <td>  2614</td>\n",
       "      <td>  2614</td>\n",
       "      <td>  2614</td>\n",
       "      <td>  2614</td>\n",
       "      <td>  2614</td>\n",
       "      <td>  2614</td>\n",
       "    </tr>\n",
       "  </tbody>\n",
       "</table>\n",
       "</div>"
      ],
      "text/plain": [
       "               city  people_id  state  status  verified_status  \\\n",
       "member_since                                                     \n",
       "2003-01-01       31         31     31      31               31   \n",
       "2004-01-01      867        868    868     868              868   \n",
       "2005-01-01     3835       3837   3837    3837             3837   \n",
       "2006-01-01     6038       6046   6046    6046             6046   \n",
       "2007-01-01    13958      13967  13967   13967            13967   \n",
       "2008-01-01    23593      23604  23604   23604            23604   \n",
       "2009-01-01    28885      28905  28905   28905            28905   \n",
       "2010-01-01    29183      29206  29206   29206            29206   \n",
       "2011-01-01    20815      20840  20840   20840            20840   \n",
       "2012-01-01    14171      14206  14206   14206            14206   \n",
       "2013-01-01    74462      74498  74498   74498            74498   \n",
       "2014-01-01    19811      19876  19876   19876            19876   \n",
       "2015-01-01    10564      10945  10945   10945            10945   \n",
       "2016-01-01     2480       2614   2614    2614             2614   \n",
       "\n",
       "              references_int  any_verification  any_references  any_ref_ver  \n",
       "member_since                                                                 \n",
       "2003-01-01                31                31              31           31  \n",
       "2004-01-01               868               868             868          868  \n",
       "2005-01-01              3837              3837            3837         3837  \n",
       "2006-01-01              6046              6046            6046         6046  \n",
       "2007-01-01             13967             13967           13967        13967  \n",
       "2008-01-01             23604             23604           23604        23604  \n",
       "2009-01-01             28905             28905           28905        28905  \n",
       "2010-01-01             29206             29206           29206        29206  \n",
       "2011-01-01             20840             20840           20840        20840  \n",
       "2012-01-01             14206             14206           14206        14206  \n",
       "2013-01-01             74498             74498           74498        74498  \n",
       "2014-01-01             19876             19876           19876        19876  \n",
       "2015-01-01             10945             10945           10945        10945  \n",
       "2016-01-01              2614              2614            2614         2614  "
      ]
     },
     "execution_count": 11,
     "metadata": {},
     "output_type": "execute_result"
    }
   ],
   "source": [
    "cs_since_global_defhosts"
   ]
  },
  {
   "cell_type": "code",
   "execution_count": 12,
   "metadata": {
    "collapsed": false
   },
   "outputs": [
    {
     "data": {
      "text/html": [
       "<div style=\"max-height:1000px;max-width:1500px;overflow:auto;\">\n",
       "<table border=\"1\" class=\"dataframe\">\n",
       "  <thead>\n",
       "    <tr style=\"text-align: right;\">\n",
       "      <th></th>\n",
       "      <th>city</th>\n",
       "      <th>people_id</th>\n",
       "      <th>state</th>\n",
       "      <th>status</th>\n",
       "      <th>verified_status</th>\n",
       "      <th>references_int</th>\n",
       "      <th>any_verification</th>\n",
       "      <th>any_references</th>\n",
       "      <th>any_ref_ver</th>\n",
       "    </tr>\n",
       "    <tr>\n",
       "      <th>member_since</th>\n",
       "      <th></th>\n",
       "      <th></th>\n",
       "      <th></th>\n",
       "      <th></th>\n",
       "      <th></th>\n",
       "      <th></th>\n",
       "      <th></th>\n",
       "      <th></th>\n",
       "      <th></th>\n",
       "    </tr>\n",
       "  </thead>\n",
       "  <tbody>\n",
       "    <tr>\n",
       "      <th>2003-01-01</th>\n",
       "      <td>   10</td>\n",
       "      <td>   10</td>\n",
       "      <td>   10</td>\n",
       "      <td>   10</td>\n",
       "      <td>   10</td>\n",
       "      <td>   10</td>\n",
       "      <td>   10</td>\n",
       "      <td>   10</td>\n",
       "      <td>   10</td>\n",
       "    </tr>\n",
       "    <tr>\n",
       "      <th>2004-01-01</th>\n",
       "      <td>  142</td>\n",
       "      <td>  142</td>\n",
       "      <td>  142</td>\n",
       "      <td>  142</td>\n",
       "      <td>  142</td>\n",
       "      <td>  142</td>\n",
       "      <td>  142</td>\n",
       "      <td>  142</td>\n",
       "      <td>  142</td>\n",
       "    </tr>\n",
       "    <tr>\n",
       "      <th>2005-01-01</th>\n",
       "      <td>  681</td>\n",
       "      <td>  682</td>\n",
       "      <td>  682</td>\n",
       "      <td>  682</td>\n",
       "      <td>  682</td>\n",
       "      <td>  682</td>\n",
       "      <td>  682</td>\n",
       "      <td>  682</td>\n",
       "      <td>  682</td>\n",
       "    </tr>\n",
       "    <tr>\n",
       "      <th>2006-01-01</th>\n",
       "      <td> 1619</td>\n",
       "      <td> 1626</td>\n",
       "      <td> 1626</td>\n",
       "      <td> 1626</td>\n",
       "      <td> 1626</td>\n",
       "      <td> 1626</td>\n",
       "      <td> 1626</td>\n",
       "      <td> 1626</td>\n",
       "      <td> 1626</td>\n",
       "    </tr>\n",
       "    <tr>\n",
       "      <th>2007-01-01</th>\n",
       "      <td> 4124</td>\n",
       "      <td> 4131</td>\n",
       "      <td> 4131</td>\n",
       "      <td> 4131</td>\n",
       "      <td> 4131</td>\n",
       "      <td> 4131</td>\n",
       "      <td> 4131</td>\n",
       "      <td> 4131</td>\n",
       "      <td> 4131</td>\n",
       "    </tr>\n",
       "    <tr>\n",
       "      <th>2008-01-01</th>\n",
       "      <td> 6669</td>\n",
       "      <td> 6679</td>\n",
       "      <td> 6679</td>\n",
       "      <td> 6679</td>\n",
       "      <td> 6679</td>\n",
       "      <td> 6679</td>\n",
       "      <td> 6679</td>\n",
       "      <td> 6679</td>\n",
       "      <td> 6679</td>\n",
       "    </tr>\n",
       "    <tr>\n",
       "      <th>2009-01-01</th>\n",
       "      <td> 7630</td>\n",
       "      <td> 7646</td>\n",
       "      <td> 7646</td>\n",
       "      <td> 7646</td>\n",
       "      <td> 7646</td>\n",
       "      <td> 7646</td>\n",
       "      <td> 7646</td>\n",
       "      <td> 7646</td>\n",
       "      <td> 7646</td>\n",
       "    </tr>\n",
       "    <tr>\n",
       "      <th>2010-01-01</th>\n",
       "      <td> 7872</td>\n",
       "      <td> 7887</td>\n",
       "      <td> 7887</td>\n",
       "      <td> 7887</td>\n",
       "      <td> 7887</td>\n",
       "      <td> 7887</td>\n",
       "      <td> 7887</td>\n",
       "      <td> 7887</td>\n",
       "      <td> 7887</td>\n",
       "    </tr>\n",
       "    <tr>\n",
       "      <th>2011-01-01</th>\n",
       "      <td> 6777</td>\n",
       "      <td> 6796</td>\n",
       "      <td> 6796</td>\n",
       "      <td> 6796</td>\n",
       "      <td> 6796</td>\n",
       "      <td> 6796</td>\n",
       "      <td> 6796</td>\n",
       "      <td> 6796</td>\n",
       "      <td> 6796</td>\n",
       "    </tr>\n",
       "    <tr>\n",
       "      <th>2012-01-01</th>\n",
       "      <td> 5747</td>\n",
       "      <td> 5769</td>\n",
       "      <td> 5769</td>\n",
       "      <td> 5769</td>\n",
       "      <td> 5769</td>\n",
       "      <td> 5769</td>\n",
       "      <td> 5769</td>\n",
       "      <td> 5769</td>\n",
       "      <td> 5769</td>\n",
       "    </tr>\n",
       "    <tr>\n",
       "      <th>2013-01-01</th>\n",
       "      <td> 5097</td>\n",
       "      <td> 5111</td>\n",
       "      <td> 5111</td>\n",
       "      <td> 5111</td>\n",
       "      <td> 5111</td>\n",
       "      <td> 5111</td>\n",
       "      <td> 5111</td>\n",
       "      <td> 5111</td>\n",
       "      <td> 5111</td>\n",
       "    </tr>\n",
       "    <tr>\n",
       "      <th>2014-01-01</th>\n",
       "      <td> 3919</td>\n",
       "      <td> 3942</td>\n",
       "      <td> 3942</td>\n",
       "      <td> 3942</td>\n",
       "      <td> 3942</td>\n",
       "      <td> 3942</td>\n",
       "      <td> 3942</td>\n",
       "      <td> 3942</td>\n",
       "      <td> 3942</td>\n",
       "    </tr>\n",
       "    <tr>\n",
       "      <th>2015-01-01</th>\n",
       "      <td> 3192</td>\n",
       "      <td> 3281</td>\n",
       "      <td> 3281</td>\n",
       "      <td> 3281</td>\n",
       "      <td> 3281</td>\n",
       "      <td> 3281</td>\n",
       "      <td> 3281</td>\n",
       "      <td> 3281</td>\n",
       "      <td> 3281</td>\n",
       "    </tr>\n",
       "    <tr>\n",
       "      <th>2016-01-01</th>\n",
       "      <td>  539</td>\n",
       "      <td>  556</td>\n",
       "      <td>  556</td>\n",
       "      <td>  556</td>\n",
       "      <td>  556</td>\n",
       "      <td>  556</td>\n",
       "      <td>  556</td>\n",
       "      <td>  556</td>\n",
       "      <td>  556</td>\n",
       "    </tr>\n",
       "  </tbody>\n",
       "</table>\n",
       "</div>"
      ],
      "text/plain": [
       "              city  people_id  state  status  verified_status  references_int  \\\n",
       "member_since                                                                    \n",
       "2003-01-01      10         10     10      10               10              10   \n",
       "2004-01-01     142        142    142     142              142             142   \n",
       "2005-01-01     681        682    682     682              682             682   \n",
       "2006-01-01    1619       1626   1626    1626             1626            1626   \n",
       "2007-01-01    4124       4131   4131    4131             4131            4131   \n",
       "2008-01-01    6669       6679   6679    6679             6679            6679   \n",
       "2009-01-01    7630       7646   7646    7646             7646            7646   \n",
       "2010-01-01    7872       7887   7887    7887             7887            7887   \n",
       "2011-01-01    6777       6796   6796    6796             6796            6796   \n",
       "2012-01-01    5747       5769   5769    5769             5769            5769   \n",
       "2013-01-01    5097       5111   5111    5111             5111            5111   \n",
       "2014-01-01    3919       3942   3942    3942             3942            3942   \n",
       "2015-01-01    3192       3281   3281    3281             3281            3281   \n",
       "2016-01-01     539        556    556     556              556             556   \n",
       "\n",
       "              any_verification  any_references  any_ref_ver  \n",
       "member_since                                                 \n",
       "2003-01-01                  10              10           10  \n",
       "2004-01-01                 142             142          142  \n",
       "2005-01-01                 682             682          682  \n",
       "2006-01-01                1626            1626         1626  \n",
       "2007-01-01                4131            4131         4131  \n",
       "2008-01-01                6679            6679         6679  \n",
       "2009-01-01                7646            7646         7646  \n",
       "2010-01-01                7887            7887         7887  \n",
       "2011-01-01                6796            6796         6796  \n",
       "2012-01-01                5769            5769         5769  \n",
       "2013-01-01                5111            5111         5111  \n",
       "2014-01-01                3942            3942         3942  \n",
       "2015-01-01                3281            3281         3281  \n",
       "2016-01-01                 556             556          556  "
      ]
     },
     "execution_count": 12,
     "metadata": {},
     "output_type": "execute_result"
    }
   ],
   "source": [
    "cs_since_global_defhosts_refver"
   ]
  },
  {
   "cell_type": "markdown",
   "metadata": {},
   "source": [
    "# Average 2013"
   ]
  },
  {
   "cell_type": "code",
   "execution_count": 13,
   "metadata": {
    "collapsed": true
   },
   "outputs": [],
   "source": [
    "cs_since_global_2013mean = cs_since_global_defhosts.copy()"
   ]
  },
  {
   "cell_type": "code",
   "execution_count": 14,
   "metadata": {
    "collapsed": false
   },
   "outputs": [],
   "source": [
    "cs_since_global_2013mean.ix['2013-01-01'] = (cs_since_global_2013mean.ix['2012-01-01'] + cs_since_global_2013mean.ix['2014-01-01']) / 2"
   ]
  },
  {
   "cell_type": "code",
   "execution_count": 15,
   "metadata": {
    "collapsed": false
   },
   "outputs": [],
   "source": [
    "cs_year_roll = pandas.rolling_mean(cs_since_global['people_id'], window=2)\n",
    "cs_year_roll_defhosts = pandas.rolling_mean(cs_since_global_defhosts['people_id'], window=2)\n",
    "\n"
   ]
  },
  {
   "cell_type": "code",
   "execution_count": 16,
   "metadata": {
    "collapsed": false
   },
   "outputs": [
    {
     "data": {
      "text/plain": [
       "<matplotlib.axes._subplots.AxesSubplot at 0x7f6b5260d9b0>"
      ]
     },
     "execution_count": 16,
     "metadata": {},
     "output_type": "execute_result"
    },
    {
     "data": {
      "image/png": "[encoded data removed]",
      "text/plain": [
       "<matplotlib.figure.Figure at 0x7f6b54acc860>"
      ]
     },
     "metadata": {},
     "output_type": "display_data"
    }
   ],
   "source": [
    "cs_year_roll.plot(title=\"Couchsurfing Yearly sign-ups\\n United States\", figsize=(8,6))"
   ]
  },
  {
   "cell_type": "code",
   "execution_count": 17,
   "metadata": {
    "collapsed": false
   },
   "outputs": [
    {
     "data": {
      "text/plain": [
       "<matplotlib.axes._subplots.AxesSubplot at 0x7f6b5260d978>"
      ]
     },
     "execution_count": 17,
     "metadata": {},
     "output_type": "execute_result"
    },
    {
     "data": {
      "image/png": "[encoded data removed]",
      "text/plain": [
       "<matplotlib.figure.Figure at 0x7f6b5253f898>"
      ]
     },
     "metadata": {},
     "output_type": "display_data"
    }
   ],
   "source": [
    "cs_year_roll_defhosts.plot(title=\"Couchsurfing Yearly sign-ups\\n United States\\n Current Hosts Only\", figsize=(8,6))"
   ]
  },
  {
   "cell_type": "code",
   "execution_count": 18,
   "metadata": {
    "collapsed": false
   },
   "outputs": [],
   "source": [
    "ab_since_year = ab_since_global.groupby(by=lambda x: x.year).agg(sum)\n",
    "ab_since_year_refver = ab_since_global_refver.groupby(by=lambda x: x.year).agg(sum)\n",
    "cs_since_year = pandas.DataFrame(cs_since_global.groupby(by=lambda x: x.year).agg(sum)['people_id'])\n",
    "cs_since_year_defhosts = pandas.DataFrame(cs_since_global_defhosts.groupby(by=lambda x: x.year).agg(sum)['people_id'])\n",
    "cs_since_year_2013mean = pandas.DataFrame(cs_since_global_2013mean.groupby(by=lambda x: x.year).agg(sum)['people_id'])\n",
    "cs_since_year_defhosts_refver = pandas.DataFrame(cs_since_global_defhosts_refver.groupby(by=lambda x: x.year).agg(sum)['people_id'])"
   ]
  },
  {
   "cell_type": "code",
   "execution_count": 19,
   "metadata": {
    "collapsed": false
   },
   "outputs": [],
   "source": [
    "ab_since_year.columns = ['signups']\n",
    "ab_since_year_refver.columns = ['signups']\n",
    "cs_since_year.columns = ['signups']\n",
    "cs_since_year_defhosts.columns = ['signups']\n",
    "cs_since_year_2013mean.columns = ['signups']\n",
    "cs_since_year_defhosts_refver.columns = ['signups']"
   ]
  },
  {
   "cell_type": "code",
   "execution_count": 20,
   "metadata": {
    "collapsed": false
   },
   "outputs": [],
   "source": [
    "abcs = ab_since_year.join(cs_since_year,how='outer',lsuffix='_ab', rsuffix='_cs')\n",
    "abcs_all= abcs.join(cs_since_year_defhosts, rsuffix='_cs_definitehosts')\n",
    "abcs_defhost = ab_since_year.join(cs_since_year_defhosts,how='outer',lsuffix=\"_ab\", rsuffix='_cs_definitehosts')\n",
    "abcs_2013mean = ab_since_year.join(cs_since_year_2013mean,how='outer',lsuffix=\"_ab\", rsuffix='_cs_2013mean')\n",
    "abcs_defhost_refver = ab_since_year.join(cs_since_year_defhosts_refver,how='outer',lsuffix=\"_ab\", rsuffix='_cs_definitehosts_refver')\n",
    "abcs_both_refver = ab_since_year_refver.join(cs_since_year_defhosts_refver,how='outer',lsuffix=\"_ab\", rsuffix='_cs_definitehosts_refver')"
   ]
  },
  {
   "cell_type": "code",
   "execution_count": 21,
   "metadata": {
    "collapsed": false
   },
   "outputs": [
    {
     "data": {
      "text/plain": [
       "<matplotlib.axes._subplots.AxesSubplot at 0x7f6b524b9c88>"
      ]
     },
     "execution_count": 21,
     "metadata": {},
     "output_type": "execute_result"
    },
    {
     "data": {
      "image/png": "[encoded data removed]",
      "text/plain": [
       "<matplotlib.figure.Figure at 0x7f6b524b1390>"
      ]
     },
     "metadata": {},
     "output_type": "display_data"
    }
   ],
   "source": [
    "abcs.plot()"
   ]
  },
  {
   "cell_type": "code",
   "execution_count": 22,
   "metadata": {
    "collapsed": false
   },
   "outputs": [
    {
     "data": {
      "text/plain": [
       "<matplotlib.axes._subplots.AxesSubplot at 0x7f6b5246c588>"
      ]
     },
     "execution_count": 22,
     "metadata": {},
     "output_type": "execute_result"
    },
    {
     "data": {
      "image/png": "[encoded data removed]",
      "text/plain": [
       "<matplotlib.figure.Figure at 0x7f6b5247a5f8>"
      ]
     },
     "metadata": {},
     "output_type": "display_data"
    }
   ],
   "source": [
    "abcs_defhost.ix[:2015].plot()"
   ]
  },
  {
   "cell_type": "code",
   "execution_count": 23,
   "metadata": {
    "collapsed": false
   },
   "outputs": [
    {
     "data": {
      "text/plain": [
       "<matplotlib.axes._subplots.AxesSubplot at 0x7f6b523f4710>"
      ]
     },
     "execution_count": 23,
     "metadata": {},
     "output_type": "execute_result"
    },
    {
     "data": {
      "image/png": "[encoded data removed]",
      "text/plain": [
       "<matplotlib.figure.Figure at 0x7f6b523bcf28>"
      ]
     },
     "metadata": {},
     "output_type": "display_data"
    }
   ],
   "source": [
    "abcs_both_refver.ix[:2015].plot(title='Longitudinal Signups in:\\n Airbnb (≥ 1 review)\\n Couchsurfing (≥1 reference or verification)')"
   ]
  },
  {
   "cell_type": "code",
   "execution_count": 24,
   "metadata": {
    "collapsed": false
   },
   "outputs": [
    {
     "data": {
      "text/plain": [
       "<matplotlib.axes._subplots.AxesSubplot at 0x7f6b523da860>"
      ]
     },
     "execution_count": 24,
     "metadata": {},
     "output_type": "execute_result"
    },
    {
     "data": {
      "image/png": "[encoded data removed]",
      "text/plain": [
       "<matplotlib.figure.Figure at 0x7f6b523e3400>"
      ]
     },
     "metadata": {},
     "output_type": "display_data"
    }
   ],
   "source": [
    "abcs_2013mean.ix[:2015].plot()"
   ]
  },
  {
   "cell_type": "code",
   "execution_count": 25,
   "metadata": {
    "collapsed": false
   },
   "outputs": [
    {
     "data": {
      "text/plain": [
       "<matplotlib.axes._subplots.AxesSubplot at 0x7f6b52313f60>"
      ]
     },
     "execution_count": 25,
     "metadata": {},
     "output_type": "execute_result"
    },
    {
     "data": {
      "image/png": "[encoded data removed]",
      "text/plain": [
       "<matplotlib.figure.Figure at 0x7f6b5231ecc0>"
      ]
     },
     "metadata": {},
     "output_type": "display_data"
    }
   ],
   "source": [
    "abcs_defhost_refver.plot()"
   ]
  },
  {
   "cell_type": "code",
   "execution_count": 26,
   "metadata": {
    "collapsed": false
   },
   "outputs": [],
   "source": [
    "abcs_both_refver.fillna(0, inplace=True)"
   ]
  },
  {
   "cell_type": "markdown",
   "metadata": {},
   "source": [
    "signups - defintiely host, signups_cs - includes maybe accepting. No 2013 adjustment"
   ]
  },
  {
   "cell_type": "code",
   "execution_count": 27,
   "metadata": {
    "collapsed": false
   },
   "outputs": [
    {
     "data": {
      "text/html": [
       "<div style=\"max-height:1000px;max-width:1500px;overflow:auto;\">\n",
       "<table border=\"1\" class=\"dataframe\">\n",
       "  <thead>\n",
       "    <tr style=\"text-align: right;\">\n",
       "      <th></th>\n",
       "      <th>signups_ab</th>\n",
       "      <th>signups_cs</th>\n",
       "      <th>signups</th>\n",
       "    </tr>\n",
       "  </thead>\n",
       "  <tbody>\n",
       "    <tr>\n",
       "      <th>signups_ab</th>\n",
       "      <td> 1.000000</td>\n",
       "      <td> 0.814058</td>\n",
       "      <td>-0.053600</td>\n",
       "    </tr>\n",
       "    <tr>\n",
       "      <th>signups_cs</th>\n",
       "      <td> 0.814058</td>\n",
       "      <td> 1.000000</td>\n",
       "      <td> 0.478641</td>\n",
       "    </tr>\n",
       "    <tr>\n",
       "      <th>signups</th>\n",
       "      <td>-0.053600</td>\n",
       "      <td> 0.478641</td>\n",
       "      <td> 1.000000</td>\n",
       "    </tr>\n",
       "  </tbody>\n",
       "</table>\n",
       "</div>"
      ],
      "text/plain": [
       "            signups_ab  signups_cs   signups\n",
       "signups_ab    1.000000    0.814058 -0.053600\n",
       "signups_cs    0.814058    1.000000  0.478641\n",
       "signups      -0.053600    0.478641  1.000000"
      ]
     },
     "execution_count": 27,
     "metadata": {},
     "output_type": "execute_result"
    }
   ],
   "source": [
    "abcs_all.corr()"
   ]
  },
  {
   "cell_type": "code",
   "execution_count": 28,
   "metadata": {
    "collapsed": false
   },
   "outputs": [
    {
     "data": {
      "text/html": [
       "<div style=\"max-height:1000px;max-width:1500px;overflow:auto;\">\n",
       "<table border=\"1\" class=\"dataframe\">\n",
       "  <thead>\n",
       "    <tr style=\"text-align: right;\">\n",
       "      <th></th>\n",
       "      <th>signups_ab</th>\n",
       "      <th>signups_cs_2013mean</th>\n",
       "    </tr>\n",
       "  </thead>\n",
       "  <tbody>\n",
       "    <tr>\n",
       "      <th>signups_ab</th>\n",
       "      <td> 1.000000</td>\n",
       "      <td>-0.797019</td>\n",
       "    </tr>\n",
       "    <tr>\n",
       "      <th>signups_cs_2013mean</th>\n",
       "      <td>-0.797019</td>\n",
       "      <td> 1.000000</td>\n",
       "    </tr>\n",
       "  </tbody>\n",
       "</table>\n",
       "</div>"
      ],
      "text/plain": [
       "                     signups_ab  signups_cs_2013mean\n",
       "signups_ab             1.000000            -0.797019\n",
       "signups_cs_2013mean   -0.797019             1.000000"
      ]
     },
     "execution_count": 28,
     "metadata": {},
     "output_type": "execute_result"
    }
   ],
   "source": [
    "abcs_2013mean.ix[2008:2015].corr()"
   ]
  },
  {
   "cell_type": "code",
   "execution_count": 29,
   "metadata": {
    "collapsed": false
   },
   "outputs": [
    {
     "data": {
      "text/html": [
       "<div style=\"max-height:1000px;max-width:1500px;overflow:auto;\">\n",
       "<table border=\"1\" class=\"dataframe\">\n",
       "  <thead>\n",
       "    <tr style=\"text-align: right;\">\n",
       "      <th></th>\n",
       "      <th>signups_ab</th>\n",
       "      <th>signups_cs_definitehosts_refver</th>\n",
       "    </tr>\n",
       "  </thead>\n",
       "  <tbody>\n",
       "    <tr>\n",
       "      <th>signups_ab</th>\n",
       "      <td> 1.000000</td>\n",
       "      <td>-0.950764</td>\n",
       "    </tr>\n",
       "    <tr>\n",
       "      <th>signups_cs_definitehosts_refver</th>\n",
       "      <td>-0.950764</td>\n",
       "      <td> 1.000000</td>\n",
       "    </tr>\n",
       "  </tbody>\n",
       "</table>\n",
       "</div>"
      ],
      "text/plain": [
       "                                 signups_ab  signups_cs_definitehosts_refver\n",
       "signups_ab                         1.000000                        -0.950764\n",
       "signups_cs_definitehosts_refver   -0.950764                         1.000000"
      ]
     },
     "execution_count": 29,
     "metadata": {},
     "output_type": "execute_result"
    }
   ],
   "source": [
    "abcs_defhost_refver.ix[2008:2015].corr()"
   ]
  },
  {
   "cell_type": "code",
   "execution_count": 30,
   "metadata": {
    "collapsed": false
   },
   "outputs": [
    {
     "data": {
      "text/html": [
       "<div style=\"max-height:1000px;max-width:1500px;overflow:auto;\">\n",
       "<table border=\"1\" class=\"dataframe\">\n",
       "  <thead>\n",
       "    <tr style=\"text-align: right;\">\n",
       "      <th></th>\n",
       "      <th>signups_ab</th>\n",
       "      <th>signups_cs_definitehosts_refver</th>\n",
       "    </tr>\n",
       "  </thead>\n",
       "  <tbody>\n",
       "    <tr>\n",
       "      <th>signups_ab</th>\n",
       "      <td> 1.000000</td>\n",
       "      <td> 0.134996</td>\n",
       "    </tr>\n",
       "    <tr>\n",
       "      <th>signups_cs_definitehosts_refver</th>\n",
       "      <td> 0.134996</td>\n",
       "      <td> 1.000000</td>\n",
       "    </tr>\n",
       "  </tbody>\n",
       "</table>\n",
       "</div>"
      ],
      "text/plain": [
       "                                 signups_ab  signups_cs_definitehosts_refver\n",
       "signups_ab                         1.000000                         0.134996\n",
       "signups_cs_definitehosts_refver    0.134996                         1.000000"
      ]
     },
     "execution_count": 30,
     "metadata": {},
     "output_type": "execute_result"
    }
   ],
   "source": [
    "abcs_both_refver.corr()"
   ]
  },
  {
   "cell_type": "code",
   "execution_count": 31,
   "metadata": {
    "collapsed": false
   },
   "outputs": [
    {
     "data": {
      "text/html": [
       "<div style=\"max-height:1000px;max-width:1500px;overflow:auto;\">\n",
       "<table border=\"1\" class=\"dataframe\">\n",
       "  <thead>\n",
       "    <tr style=\"text-align: right;\">\n",
       "      <th></th>\n",
       "      <th>signups_ab</th>\n",
       "      <th>signups_cs_definitehosts_refver</th>\n",
       "    </tr>\n",
       "  </thead>\n",
       "  <tbody>\n",
       "    <tr>\n",
       "      <th>2008</th>\n",
       "      <td>   173</td>\n",
       "      <td> 6679</td>\n",
       "    </tr>\n",
       "    <tr>\n",
       "      <th>2009</th>\n",
       "      <td>  1114</td>\n",
       "      <td> 7646</td>\n",
       "    </tr>\n",
       "    <tr>\n",
       "      <th>2010</th>\n",
       "      <td>  3621</td>\n",
       "      <td> 7887</td>\n",
       "    </tr>\n",
       "    <tr>\n",
       "      <th>2011</th>\n",
       "      <td> 10898</td>\n",
       "      <td> 6796</td>\n",
       "    </tr>\n",
       "    <tr>\n",
       "      <th>2012</th>\n",
       "      <td> 19499</td>\n",
       "      <td> 5769</td>\n",
       "    </tr>\n",
       "    <tr>\n",
       "      <th>2013</th>\n",
       "      <td> 27776</td>\n",
       "      <td> 5111</td>\n",
       "    </tr>\n",
       "    <tr>\n",
       "      <th>2014</th>\n",
       "      <td> 39586</td>\n",
       "      <td> 3942</td>\n",
       "    </tr>\n",
       "    <tr>\n",
       "      <th>2015</th>\n",
       "      <td> 51692</td>\n",
       "      <td> 3281</td>\n",
       "    </tr>\n",
       "  </tbody>\n",
       "</table>\n",
       "</div>"
      ],
      "text/plain": [
       "      signups_ab  signups_cs_definitehosts_refver\n",
       "2008         173                             6679\n",
       "2009        1114                             7646\n",
       "2010        3621                             7887\n",
       "2011       10898                             6796\n",
       "2012       19499                             5769\n",
       "2013       27776                             5111\n",
       "2014       39586                             3942\n",
       "2015       51692                             3281"
      ]
     },
     "execution_count": 31,
     "metadata": {},
     "output_type": "execute_result"
    }
   ],
   "source": [
    "abcs_both_refver.ix[2008:2015]"
   ]
  },
  {
   "cell_type": "markdown",
   "metadata": {
    "collapsed": true
   },
   "source": [
    "BY CITY\n",
    "========"
   ]
  },
  {
   "cell_type": "code",
   "execution_count": 32,
   "metadata": {
    "collapsed": false
   },
   "outputs": [],
   "source": [
    "state_dict = dict( (('Alabama', 'AL'),\n",
    "       ('Alaska', 'AK'),\n",
    "       ('Arizona', 'AZ'),\n",
    "       ('Arkansas', 'AR'),\n",
    "       ('California', 'CA'),\n",
    "       ('Colorado', 'CO'),\n",
    "       ('Connecticut', 'CT'),\n",
    "       ('Delaware', 'DE'),\n",
    "       ('District of Columbia', 'DC'),\n",
    "       ('Florida', 'FL'),\n",
    "       ('Georgia', 'GA'),\n",
    "       ('Hawaii', 'HI'),\n",
    "       ('Idaho', 'ID'),\n",
    "       ('Illinois', 'IL'),\n",
    "       ('Indiana', 'IN'),\n",
    "       ('Iowa', 'IA'),\n",
    "       ('Kansas', 'KS'),\n",
    "       ('Kentucky', 'KY'),\n",
    "       ('Louisiana', 'LA'),\n",
    "       ('Maine', 'ME'),\n",
    "       ('Maryland', 'MD'),\n",
    "       ('Massachusetts', 'MA'),\n",
    "       ('Michigan', 'MI'),\n",
    "       ('Minnesota', 'MN'),\n",
    "       ('Mississippi', 'MS'),\n",
    "       ('Missouri', 'MO'),\n",
    "       ('Montana', 'MT'),\n",
    "       ('Nebraska', 'NE'),\n",
    "       ('Nevada', 'NV'),\n",
    "       ('New Hampshire', 'NH'),\n",
    "       ('New Jersey', 'NJ'),\n",
    "       ('New Mexico', 'NM'),\n",
    "       ('New York', 'NY'),\n",
    "       ('North Carolina', 'NC'),\n",
    "       ('North Dakota', 'ND'),\n",
    "       ('Ohio', 'OH'),\n",
    "       ('Oklahoma', 'OK'),\n",
    "       ('Oregon', 'OR'),\n",
    "       ('Pennsylvania', 'PA'),\n",
    "       ('Rhode Island', 'RI'),\n",
    "       ('South Carolina', 'SC'),\n",
    "       ('South Dakota', 'SD'),\n",
    "       ('Tennessee', 'TN'),\n",
    "       ('Texas', 'TX'),\n",
    "       ('Utah', 'UT'),\n",
    "       ('Vermont', 'VT'),\n",
    "       ('Virginia', 'VA'),\n",
    "       ('Washington', 'WA'),\n",
    "       ('West Virginia', 'WV'),\n",
    "       ('Wisconsin', 'WI'),\n",
    "       ('Wyoming', 'WY')) )\n",
    "\n",
    "def state_lookup(s):\n",
    "\n",
    "    if len(s) ==2:\n",
    "        return s.lower()\n",
    "    else:\n",
    "        try:\n",
    "            return state_dict[s].lower()\n",
    "        except KeyError:\n",
    "            print(s)\n",
    "            return float('nan')"
   ]
  },
  {
   "cell_type": "code",
   "execution_count": 33,
   "metadata": {
    "collapsed": false
   },
   "outputs": [
    {
     "data": {
      "text/plain": [
       "1439277"
      ]
     },
     "execution_count": 33,
     "metadata": {},
     "output_type": "execute_result"
    }
   ],
   "source": [
    "len(cs_df)\n",
    "cs_df.dropna(inplace=True)\n",
    "len(cs_df)"
   ]
  },
  {
   "cell_type": "code",
   "execution_count": 34,
   "metadata": {
    "collapsed": false
   },
   "outputs": [
    {
     "name": "stdout",
     "output_type": "stream",
     "text": [
      "54258\n",
      "54018\n"
     ]
    },
    {
     "name": "stderr",
     "output_type": "stream",
     "text": [
      "/usr/local/lib/python3.4/dist-packages/ipykernel/__main__.py:2: SettingWithCopyWarning: \n",
      "A value is trying to be set on a copy of a slice from a DataFrame\n",
      "\n",
      "See the the caveats in the documentation: http://pandas.pydata.org/pandas-docs/stable/indexing.html#indexing-view-versus-copy\n",
      "  from ipykernel import kernelapp as app\n"
     ]
    }
   ],
   "source": [
    "print(len(cs_df_defhosts_refver))\n",
    "cs_df_defhosts_refver.dropna(inplace=True)\n",
    "print(len(cs_df_defhosts_refver))"
   ]
  },
  {
   "cell_type": "code",
   "execution_count": 35,
   "metadata": {
    "collapsed": false
   },
   "outputs": [
    {
     "data": {
      "text/html": [
       "<div style=\"max-height:1000px;max-width:1500px;overflow:auto;\">\n",
       "<table border=\"1\" class=\"dataframe\">\n",
       "  <thead>\n",
       "    <tr style=\"text-align: right;\">\n",
       "      <th></th>\n",
       "      <th>city</th>\n",
       "      <th>member_since</th>\n",
       "      <th>people_id</th>\n",
       "      <th>state</th>\n",
       "      <th>status</th>\n",
       "      <th>verified_status</th>\n",
       "      <th>references_int</th>\n",
       "    </tr>\n",
       "  </thead>\n",
       "  <tbody>\n",
       "    <tr>\n",
       "      <th>0</th>\n",
       "      <td>     Wadley</td>\n",
       "      <td>2009-01-01</td>\n",
       "      <td> /people/stopsmoking384</td>\n",
       "      <td>      AL</td>\n",
       "      <td>       Accepting Guests</td>\n",
       "      <td> Not Verified</td>\n",
       "      <td> 0</td>\n",
       "    </tr>\n",
       "    <tr>\n",
       "      <th>1</th>\n",
       "      <td> Adamsville</td>\n",
       "      <td>2013-01-01</td>\n",
       "      <td>  /people/randolphposey</td>\n",
       "      <td>      AL</td>\n",
       "      <td>       Accepting Guests</td>\n",
       "      <td> Not Verified</td>\n",
       "      <td> 0</td>\n",
       "    </tr>\n",
       "    <tr>\n",
       "      <th>2</th>\n",
       "      <td> Graysville</td>\n",
       "      <td>2012-01-01</td>\n",
       "      <td>          /people/bart4</td>\n",
       "      <td>      AL</td>\n",
       "      <td> Maybe Accepting Guests</td>\n",
       "      <td> Not Verified</td>\n",
       "      <td> 0</td>\n",
       "    </tr>\n",
       "    <tr>\n",
       "      <th>3</th>\n",
       "      <td>  Abbeville</td>\n",
       "      <td>2012-01-01</td>\n",
       "      <td>   /people/benia.acoose</td>\n",
       "      <td> Alabama</td>\n",
       "      <td> Maybe Accepting Guests</td>\n",
       "      <td> Not Verified</td>\n",
       "      <td> 0</td>\n",
       "    </tr>\n",
       "    <tr>\n",
       "      <th>4</th>\n",
       "      <td>  Abbeville</td>\n",
       "      <td>2009-01-01</td>\n",
       "      <td>      /people/krsmrsh14</td>\n",
       "      <td> Alabama</td>\n",
       "      <td>       Accepting Guests</td>\n",
       "      <td> Not Verified</td>\n",
       "      <td> 0</td>\n",
       "    </tr>\n",
       "  </tbody>\n",
       "</table>\n",
       "</div>"
      ],
      "text/plain": [
       "         city member_since               people_id    state  \\\n",
       "0      Wadley   2009-01-01  /people/stopsmoking384       AL   \n",
       "1  Adamsville   2013-01-01   /people/randolphposey       AL   \n",
       "2  Graysville   2012-01-01           /people/bart4       AL   \n",
       "3   Abbeville   2012-01-01    /people/benia.acoose  Alabama   \n",
       "4   Abbeville   2009-01-01       /people/krsmrsh14  Alabama   \n",
       "\n",
       "                   status verified_status  references_int  \n",
       "0        Accepting Guests    Not Verified               0  \n",
       "1        Accepting Guests    Not Verified               0  \n",
       "2  Maybe Accepting Guests    Not Verified               0  \n",
       "3  Maybe Accepting Guests    Not Verified               0  \n",
       "4        Accepting Guests    Not Verified               0  "
      ]
     },
     "execution_count": 35,
     "metadata": {},
     "output_type": "execute_result"
    }
   ],
   "source": [
    "cs_df.head()"
   ]
  },
  {
   "cell_type": "code",
   "execution_count": 36,
   "metadata": {
    "collapsed": false
   },
   "outputs": [
    {
     "name": "stdout",
     "output_type": "stream",
     "text": [
      "Attica\n",
      "Littoral\n",
      "Taiwan\n",
      "Colorado\n",
      "\n",
      "Tasman\n",
      "Iran\n",
      "Milwaukee\n",
      "Minas Gerais\n"
     ]
    }
   ],
   "source": [
    "cs_df['state'] = cs_df['state'].map(state_lookup)\n",
    "cs_df['city'] = cs_df['city'].apply(lambda x: x.strip().lower())\n",
    "cs_df.dropna(inplace=True)\n",
    "cs_df['state'] = cs_df['state'].apply(lambda x: x.strip().lower())\n",
    "cs_df['citystate'] = cs_df['city'] + '_' + cs_df['state']\n",
    "cs_df['year'] = cs_df['member_since'].apply(lambda x: x.year)"
   ]
  },
  {
   "cell_type": "code",
   "execution_count": 37,
   "metadata": {
    "collapsed": false
   },
   "outputs": [
    {
     "data": {
      "text/plain": [
       "147       Pelham\n",
       "158    Alabaster\n",
       "220       Pelham\n",
       "381       Oxford\n",
       "399    Andalusia\n",
       "409    Andalusia\n",
       "430         Arab\n",
       "484     Ashville\n",
       "487       Athens\n",
       "851       Auburn\n",
       "928       Auburn\n",
       "929       Auburn\n",
       "930       Auburn\n",
       "931       Auburn\n",
       "933       Auburn\n",
       "...\n",
       "1462644             Houston\n",
       "1462646             Madison\n",
       "1462649            Sarasota\n",
       "1462650             Atlanta\n",
       "1462652         Los Angeles\n",
       "1462653             Seattle\n",
       "1462654           Fairbanks\n",
       "1462655         Little Rock\n",
       "1462659               Fargo\n",
       "1462664         Chapel Hill\n",
       "1462665            New York\n",
       "1462668            New York\n",
       "1462669            New York\n",
       "1462670    Livingston Manor\n",
       "1462672            New York\n",
       "Name: city, Length: 54018, dtype: object"
      ]
     },
     "execution_count": 37,
     "metadata": {},
     "output_type": "execute_result"
    }
   ],
   "source": [
    "cs_df_defhosts_refver['city']"
   ]
  },
  {
   "cell_type": "code",
   "execution_count": 38,
   "metadata": {
    "collapsed": false
   },
   "outputs": [
    {
     "name": "stderr",
     "output_type": "stream",
     "text": [
      "/usr/local/lib/python3.4/dist-packages/ipykernel/__main__.py:1: SettingWithCopyWarning: \n",
      "A value is trying to be set on a copy of a slice from a DataFrame.\n",
      "Try using .loc[row_indexer,col_indexer] = value instead\n",
      "\n",
      "See the the caveats in the documentation: http://pandas.pydata.org/pandas-docs/stable/indexing.html#indexing-view-versus-copy\n",
      "  if __name__ == '__main__':\n",
      "/usr/local/lib/python3.4/dist-packages/ipykernel/__main__.py:2: SettingWithCopyWarning: \n",
      "A value is trying to be set on a copy of a slice from a DataFrame.\n",
      "Try using .loc[row_indexer,col_indexer] = value instead\n",
      "\n",
      "See the the caveats in the documentation: http://pandas.pydata.org/pandas-docs/stable/indexing.html#indexing-view-versus-copy\n",
      "  from ipykernel import kernelapp as app\n",
      "/usr/local/lib/python3.4/dist-packages/ipykernel/__main__.py:3: SettingWithCopyWarning: \n",
      "A value is trying to be set on a copy of a slice from a DataFrame.\n",
      "Try using .loc[row_indexer,col_indexer] = value instead\n",
      "\n",
      "See the the caveats in the documentation: http://pandas.pydata.org/pandas-docs/stable/indexing.html#indexing-view-versus-copy\n",
      "  app.launch_new_instance()\n",
      "/usr/local/lib/python3.4/dist-packages/ipykernel/__main__.py:4: SettingWithCopyWarning: \n",
      "A value is trying to be set on a copy of a slice from a DataFrame.\n",
      "Try using .loc[row_indexer,col_indexer] = value instead\n",
      "\n",
      "See the the caveats in the documentation: http://pandas.pydata.org/pandas-docs/stable/indexing.html#indexing-view-versus-copy\n",
      "/usr/local/lib/python3.4/dist-packages/ipykernel/__main__.py:5: SettingWithCopyWarning: \n",
      "A value is trying to be set on a copy of a slice from a DataFrame.\n",
      "Try using .loc[row_indexer,col_indexer] = value instead\n",
      "\n",
      "See the the caveats in the documentation: http://pandas.pydata.org/pandas-docs/stable/indexing.html#indexing-view-versus-copy\n"
     ]
    }
   ],
   "source": [
    "cs_df_defhosts_refver['state'] = cs_df_defhosts_refver['state'].map(state_lookup)\n",
    "cs_df_defhosts_refver['city'] = cs_df_defhosts_refver['city'].apply(lambda x: x.strip().lower())\n",
    "cs_df_defhosts_refver['state'] = cs_df_defhosts_refver['state'].apply(lambda x: x.strip().lower())\n",
    "cs_df_defhosts_refver['citystate'] = cs_df_defhosts_refver['city'] + '_' + cs_df_defhosts_refver['state']\n",
    "cs_df_defhosts_refver['year'] = cs_df_defhosts_refver['member_since'].apply(lambda x: x.year)"
   ]
  },
  {
   "cell_type": "code",
   "execution_count": 39,
   "metadata": {
    "collapsed": false
   },
   "outputs": [
    {
     "data": {
      "text/plain": [
       "1439269"
      ]
     },
     "execution_count": 39,
     "metadata": {},
     "output_type": "execute_result"
    }
   ],
   "source": [
    "len(cs_df)\n",
    "cs_df.dropna(inplace=True)\n",
    "len(cs_df)"
   ]
  },
  {
   "cell_type": "code",
   "execution_count": 40,
   "metadata": {
    "collapsed": false
   },
   "outputs": [],
   "source": [
    "cs_df_all = cs_df[['citystate','year','people_id']]\n",
    "cs_df_definite = cs_df[cs_df['status'] == 'Accepting Guests'][['citystate','year','people_id']]"
   ]
  },
  {
   "cell_type": "code",
   "execution_count": 41,
   "metadata": {
    "collapsed": false
   },
   "outputs": [],
   "source": [
    "cs_citystate = cs_df_definite.groupby(by=['citystate','year']).agg(len)"
   ]
  },
  {
   "cell_type": "code",
   "execution_count": 42,
   "metadata": {
    "collapsed": false
   },
   "outputs": [
    {
     "data": {
      "text/plain": [
       "54018"
      ]
     },
     "execution_count": 42,
     "metadata": {},
     "output_type": "execute_result"
    }
   ],
   "source": [
    "len(cs_df_defhosts_refver)"
   ]
  },
  {
   "cell_type": "code",
   "execution_count": 43,
   "metadata": {
    "collapsed": false
   },
   "outputs": [],
   "source": [
    "cs_df_defhosts_refver.to_csv('cleaned csv/cs_defhosts_refver.csv',columns=['people_id','year','citystate'])"
   ]
  },
  {
   "cell_type": "code",
   "execution_count": 44,
   "metadata": {
    "collapsed": true
   },
   "outputs": [],
   "source": [
    "cs_df_defhosts_refver_selectcol = cs_df_defhosts_refver[['citystate','year','people_id']]\n",
    "cs_citystate_refver = cs_df_defhosts_refver_selectcol.groupby(by=['citystate','year']).agg(len)"
   ]
  },
  {
   "cell_type": "code",
   "execution_count": 45,
   "metadata": {
    "collapsed": false
   },
   "outputs": [],
   "source": [
    "cs_citystate_refver.columns = ['signups']"
   ]
  },
  {
   "cell_type": "markdown",
   "metadata": {},
   "source": [
    "# Average out the 2013 anomaly"
   ]
  },
  {
   "cell_type": "code",
   "execution_count": 46,
   "metadata": {
    "collapsed": false
   },
   "outputs": [],
   "source": [
    "cs_citystate.columns = ['signups']"
   ]
  },
  {
   "cell_type": "code",
   "execution_count": 47,
   "metadata": {
    "collapsed": false
   },
   "outputs": [
    {
     "data": {
      "text/plain": [
       "year\n",
       "2003       31\n",
       "2004      867\n",
       "2005     3835\n",
       "2006     6038\n",
       "2007    13958\n",
       "2008    23593\n",
       "2009    28885\n",
       "2010    29183\n",
       "2011    20815\n",
       "2012    14171\n",
       "2013    74461\n",
       "2014    19811\n",
       "2015    10563\n",
       "2016     2480\n",
       "dtype: float64"
      ]
     },
     "execution_count": 47,
     "metadata": {},
     "output_type": "execute_result"
    }
   ],
   "source": [
    "cs_citystate.unstack()['signups'].sum()"
   ]
  },
  {
   "cell_type": "code",
   "execution_count": 48,
   "metadata": {
    "collapsed": false
   },
   "outputs": [],
   "source": [
    "cs_citystate_unstacked = cs_citystate.unstack()\n",
    "cs_citystate_unstacked.fillna(0, inplace=True)\n",
    "mean2013 = (cs_citystate_unstacked['signups'][2012] +  cs_citystate_unstacked['signups'][2014]) /2"
   ]
  },
  {
   "cell_type": "code",
   "execution_count": 49,
   "metadata": {
    "collapsed": false
   },
   "outputs": [
    {
     "data": {
      "text/plain": [
       "16991.0"
      ]
     },
     "execution_count": 49,
     "metadata": {},
     "output_type": "execute_result"
    }
   ],
   "source": [
    "mean2013.sum()"
   ]
  },
  {
   "cell_type": "code",
   "execution_count": 50,
   "metadata": {
    "collapsed": true
   },
   "outputs": [],
   "source": [
    "cs_citystate_2013mean = cs_citystate_unstacked.copy()"
   ]
  },
  {
   "cell_type": "code",
   "execution_count": 51,
   "metadata": {
    "collapsed": false
   },
   "outputs": [
    {
     "data": {
      "text/plain": [
       "MultiIndex(levels=[['signups'], [2003, 2004, 2005, 2006, 2007, 2008, 2009, 2010, 2011, 2012, 2013, 2014, 2015, 2016]],\n",
       "           labels=[[0, 0, 0, 0, 0, 0, 0, 0, 0, 0, 0, 0, 0, 0], [0, 1, 2, 3, 4, 5, 6, 7, 8, 9, 10, 11, 12, 13]],\n",
       "           names=[None, 'year'])"
      ]
     },
     "execution_count": 51,
     "metadata": {},
     "output_type": "execute_result"
    }
   ],
   "source": [
    "cs_citystate_2013mean.columns"
   ]
  },
  {
   "cell_type": "code",
   "execution_count": 52,
   "metadata": {
    "collapsed": false
   },
   "outputs": [],
   "source": [
    "cs_citystate_2013mean.loc[:,('signups',2013)] = mean2013"
   ]
  },
  {
   "cell_type": "code",
   "execution_count": 53,
   "metadata": {
    "collapsed": false
   },
   "outputs": [
    {
     "data": {
      "text/plain": [
       "year\n",
       "2003       31\n",
       "2004      867\n",
       "2005     3835\n",
       "2006     6038\n",
       "2007    13958\n",
       "2008    23593\n",
       "2009    28885\n",
       "2010    29183\n",
       "2011    20815\n",
       "2012    14171\n",
       "2013    16991\n",
       "2014    19811\n",
       "2015    10563\n",
       "2016     2480\n",
       "dtype: float64"
      ]
     },
     "execution_count": 53,
     "metadata": {},
     "output_type": "execute_result"
    }
   ],
   "source": [
    "cs_citystate_2013mean['signups'].sum()"
   ]
  },
  {
   "cell_type": "code",
   "execution_count": 54,
   "metadata": {
    "collapsed": true
   },
   "outputs": [],
   "source": [
    "ab_loc = pandas.read_csv('2016-02-16/listings.csv.gz', compression='gzip', usecols=['host_id','host_since','city','state','number_of_reviews'])\n",
    "hosts_loc = ab_df.groupby(by='host_id',as_index=True).agg(min)\n",
    "\n",
    "ab_refver = ab_loc[ab_loc['number_of_reviews']>=1]\n"
   ]
  },
  {
   "cell_type": "code",
   "execution_count": 55,
   "metadata": {
    "collapsed": false
   },
   "outputs": [
    {
     "name": "stdout",
     "output_type": "stream",
     "text": [
      "337213\n",
      "336140\n",
      "224161\n",
      "223540\n"
     ]
    },
    {
     "name": "stderr",
     "output_type": "stream",
     "text": [
      "/usr/local/lib/python3.4/dist-packages/ipykernel/__main__.py:6: SettingWithCopyWarning: \n",
      "A value is trying to be set on a copy of a slice from a DataFrame\n",
      "\n",
      "See the the caveats in the documentation: http://pandas.pydata.org/pandas-docs/stable/indexing.html#indexing-view-versus-copy\n"
     ]
    }
   ],
   "source": [
    "print(len(ab_loc))\n",
    "ab_loc.dropna(inplace=True)\n",
    "print(len(ab_loc))\n",
    "\n",
    "print(len(ab_refver))\n",
    "ab_refver.dropna(inplace=True)\n",
    "print(len(ab_refver))"
   ]
  },
  {
   "cell_type": "code",
   "execution_count": 56,
   "metadata": {
    "collapsed": false
   },
   "outputs": [],
   "source": [
    "ab_loc['city'] = ab_loc['city'].apply(lambda x: x.strip().lower())\n",
    "ab_loc['state'] = ab_loc['state'].apply(lambda x: x.strip().lower())\n",
    "ab_loc['citystate'] = ab_loc['city'] + '_' + ab_loc['state']\n",
    "ab_loc['host_since'] = ab_loc['host_since'].apply(lambda x: datetime.datetime.strptime(x,'%Y-%m-%d') if isinstance(x,str) else x)\n",
    "ab_loc['year'] = ab_loc['host_since'].apply(lambda x: x.year)"
   ]
  },
  {
   "cell_type": "code",
   "execution_count": null,
   "metadata": {
    "collapsed": false
   },
   "outputs": [],
   "source": [
    "\n"
   ]
  },
  {
   "cell_type": "code",
   "execution_count": 57,
   "metadata": {
    "collapsed": false,
    "scrolled": true
   },
   "outputs": [
    {
     "name": "stderr",
     "output_type": "stream",
     "text": [
      "/usr/local/lib/python3.4/dist-packages/ipykernel/__main__.py:1: SettingWithCopyWarning: \n",
      "A value is trying to be set on a copy of a slice from a DataFrame.\n",
      "Try using .loc[row_indexer,col_indexer] = value instead\n",
      "\n",
      "See the the caveats in the documentation: http://pandas.pydata.org/pandas-docs/stable/indexing.html#indexing-view-versus-copy\n",
      "  if __name__ == '__main__':\n",
      "/usr/local/lib/python3.4/dist-packages/ipykernel/__main__.py:2: SettingWithCopyWarning: \n",
      "A value is trying to be set on a copy of a slice from a DataFrame.\n",
      "Try using .loc[row_indexer,col_indexer] = value instead\n",
      "\n",
      "See the the caveats in the documentation: http://pandas.pydata.org/pandas-docs/stable/indexing.html#indexing-view-versus-copy\n",
      "  from ipykernel import kernelapp as app\n",
      "/usr/local/lib/python3.4/dist-packages/ipykernel/__main__.py:3: SettingWithCopyWarning: \n",
      "A value is trying to be set on a copy of a slice from a DataFrame.\n",
      "Try using .loc[row_indexer,col_indexer] = value instead\n",
      "\n",
      "See the the caveats in the documentation: http://pandas.pydata.org/pandas-docs/stable/indexing.html#indexing-view-versus-copy\n",
      "  app.launch_new_instance()\n"
     ]
    }
   ],
   "source": [
    "ab_refver['city'] = ab_refver['city'].apply(lambda x: x.strip().lower())\n",
    "ab_refver['state'] = ab_refver['state'].apply(lambda x: x.strip().lower())\n",
    "ab_refver['citystate'] = ab_refver['city'] + '_' + ab_refver['state']\n",
    "ab_refver = ab_refver[(ab_refver['city'] != ab_refver['state']) & (ab_refver['state'] != 'puerto rico')]# notpuerto rico\n",
    "ab_refver['host_since'] = ab_refver['host_since'].apply(lambda x: datetime.datetime.strptime(x,'%Y-%m-%d') if isinstance(x,str) else x)\n",
    "ab_refver['year'] = ab_refver['host_since'].apply(lambda x: x.year)"
   ]
  },
  {
   "cell_type": "code",
   "execution_count": 58,
   "metadata": {
    "collapsed": false
   },
   "outputs": [],
   "source": [
    "ab_refver.to_csv('cleaned csv/ab_hosts_refver.csv')"
   ]
  },
  {
   "cell_type": "code",
   "execution_count": 59,
   "metadata": {
    "collapsed": false
   },
   "outputs": [],
   "source": [
    "ab_loc = ab_loc[['citystate','year','host_id']]\n",
    "ab_citystate = ab_loc.groupby(by=['citystate','year']).agg(len)\n",
    "\n",
    "ab_refver = ab_refver[['citystate','year','host_id']]\n",
    "ab_citystate_refver = ab_refver.groupby(by=['citystate','year']).agg(len)"
   ]
  },
  {
   "cell_type": "code",
   "execution_count": 60,
   "metadata": {
    "collapsed": false,
    "scrolled": false
   },
   "outputs": [],
   "source": [
    "ab_citystate.columns = ['signups']\n",
    "ab_citystate_refver.columns = ['signups']"
   ]
  },
  {
   "cell_type": "code",
   "execution_count": 61,
   "metadata": {
    "collapsed": false
   },
   "outputs": [],
   "source": [
    "abcs_citystate = pandas.merge(cs_citystate, ab_citystate, how='outer', left_index=True, right_index=True, suffixes=('_cs','_ab'))\n",
    "abcs_citystate_2013mean = pandas.merge(cs_citystate_2013mean.stack(), ab_citystate, how='outer', left_index=True, right_index=True, suffixes=('_cs','_ab'))\n",
    "abcs_citystate_refver = pandas.merge(cs_citystate_refver, ab_citystate_refver, how='outer', left_index=True, right_index=True, suffixes=('_cs','_ab'))\n"
   ]
  },
  {
   "cell_type": "code",
   "execution_count": 62,
   "metadata": {
    "collapsed": false
   },
   "outputs": [
    {
     "data": {
      "text/html": [
       "<div style=\"max-height:1000px;max-width:1500px;overflow:auto;\">\n",
       "<table border=\"1\" class=\"dataframe\">\n",
       "  <thead>\n",
       "    <tr style=\"text-align: right;\">\n",
       "      <th></th>\n",
       "      <th>signups_cs</th>\n",
       "      <th>signups_ab</th>\n",
       "    </tr>\n",
       "    <tr>\n",
       "      <th>year</th>\n",
       "      <th></th>\n",
       "      <th></th>\n",
       "    </tr>\n",
       "  </thead>\n",
       "  <tbody>\n",
       "    <tr>\n",
       "      <th>2005</th>\n",
       "      <td>  1</td>\n",
       "      <td> NaN</td>\n",
       "    </tr>\n",
       "    <tr>\n",
       "      <th>2006</th>\n",
       "      <td>  3</td>\n",
       "      <td> NaN</td>\n",
       "    </tr>\n",
       "    <tr>\n",
       "      <th>2007</th>\n",
       "      <td> 14</td>\n",
       "      <td> NaN</td>\n",
       "    </tr>\n",
       "    <tr>\n",
       "      <th>2008</th>\n",
       "      <td> 19</td>\n",
       "      <td>   1</td>\n",
       "    </tr>\n",
       "    <tr>\n",
       "      <th>2009</th>\n",
       "      <td> 25</td>\n",
       "      <td>  26</td>\n",
       "    </tr>\n",
       "    <tr>\n",
       "      <th>2010</th>\n",
       "      <td> 15</td>\n",
       "      <td>  25</td>\n",
       "    </tr>\n",
       "    <tr>\n",
       "      <th>2011</th>\n",
       "      <td> 21</td>\n",
       "      <td>  98</td>\n",
       "    </tr>\n",
       "    <tr>\n",
       "      <th>2012</th>\n",
       "      <td> 15</td>\n",
       "      <td>  75</td>\n",
       "    </tr>\n",
       "    <tr>\n",
       "      <th>2013</th>\n",
       "      <td> 75</td>\n",
       "      <td> 143</td>\n",
       "    </tr>\n",
       "    <tr>\n",
       "      <th>2014</th>\n",
       "      <td> 19</td>\n",
       "      <td> 143</td>\n",
       "    </tr>\n",
       "    <tr>\n",
       "      <th>2015</th>\n",
       "      <td> 12</td>\n",
       "      <td> 168</td>\n",
       "    </tr>\n",
       "    <tr>\n",
       "      <th>2016</th>\n",
       "      <td>  5</td>\n",
       "      <td>  48</td>\n",
       "    </tr>\n",
       "  </tbody>\n",
       "</table>\n",
       "</div>"
      ],
      "text/plain": [
       "      signups_cs  signups_ab\n",
       "year                        \n",
       "2005           1         NaN\n",
       "2006           3         NaN\n",
       "2007          14         NaN\n",
       "2008          19           1\n",
       "2009          25          26\n",
       "2010          15          25\n",
       "2011          21          98\n",
       "2012          15          75\n",
       "2013          75         143\n",
       "2014          19         143\n",
       "2015          12         168\n",
       "2016           5          48"
      ]
     },
     "execution_count": 62,
     "metadata": {},
     "output_type": "execute_result"
    }
   ],
   "source": [
    "abcs_citystate.ix['mountain view_ca']"
   ]
  },
  {
   "cell_type": "code",
   "execution_count": 63,
   "metadata": {
    "collapsed": false
   },
   "outputs": [],
   "source": [
    "abcs_citystate.fillna(0, inplace=True)\n",
    "abcs_citystate_2013mean.fillna(0, inplace=True)\n",
    "abcs_citystate_refver.fillna(0, inplace=True)"
   ]
  },
  {
   "cell_type": "code",
   "execution_count": 64,
   "metadata": {
    "collapsed": false,
    "scrolled": true
   },
   "outputs": [],
   "source": [
    "cs_cum = abcs_citystate.unstack()['signups_cs'].sum(axis=1)\n",
    "cs_cum_2013mean = abcs_citystate_2013mean.unstack()['signups_cs'].sum(axis=1)\n",
    "ab_cum = abcs_citystate.unstack()['signups_ab'].sum(axis=1)\n",
    "\n",
    "cs_cum_refver = abcs_citystate_refver.unstack()['signups_cs'].sum(axis=1)\n",
    "ab_cum_refver = abcs_citystate_refver.unstack()['signups_ab'].sum(axis=1)"
   ]
  },
  {
   "cell_type": "code",
   "execution_count": 65,
   "metadata": {
    "collapsed": false
   },
   "outputs": [],
   "source": [
    "abcs_cum_refver = pandas.DataFrame.from_records([cs_cum_refver,ab_cum_refver]).T\n",
    "abcs_cum_refver.columns = ['signups_cs','signups_ab']"
   ]
  },
  {
   "cell_type": "code",
   "execution_count": 66,
   "metadata": {
    "collapsed": false
   },
   "outputs": [],
   "source": [
    "abcs_cum_refver['citystate_matched'] = abcs_cum_refver.all(axis=1)"
   ]
  },
  {
   "cell_type": "code",
   "execution_count": 67,
   "metadata": {
    "collapsed": false
   },
   "outputs": [
    {
     "data": {
      "text/plain": [
       "4606"
      ]
     },
     "execution_count": 67,
     "metadata": {},
     "output_type": "execute_result"
    }
   ],
   "source": [
    "len(abcs_cum_refver[abcs_cum_refver['citystate_matched']==True])"
   ]
  },
  {
   "cell_type": "code",
   "execution_count": 68,
   "metadata": {
    "collapsed": false,
    "scrolled": true
   },
   "outputs": [
    {
     "data": {
      "text/html": [
       "<div style=\"max-height:1000px;max-width:1500px;overflow:auto;\">\n",
       "<table border=\"1\" class=\"dataframe\">\n",
       "  <thead>\n",
       "    <tr style=\"text-align: right;\">\n",
       "      <th></th>\n",
       "      <th>signups_cs</th>\n",
       "      <th>signups_ab</th>\n",
       "      <th>citystate_matched</th>\n",
       "    </tr>\n",
       "    <tr>\n",
       "      <th>citystate</th>\n",
       "      <th></th>\n",
       "      <th></th>\n",
       "      <th></th>\n",
       "    </tr>\n",
       "  </thead>\n",
       "  <tbody>\n",
       "    <tr>\n",
       "      <th>winston salem_nc</th>\n",
       "      <td> 34</td>\n",
       "      <td>  0</td>\n",
       "      <td> False</td>\n",
       "    </tr>\n",
       "    <tr>\n",
       "      <th>bowling green_oh</th>\n",
       "      <td> 28</td>\n",
       "      <td>  0</td>\n",
       "      <td> False</td>\n",
       "    </tr>\n",
       "    <tr>\n",
       "      <th>murray_ky</th>\n",
       "      <td> 17</td>\n",
       "      <td>  0</td>\n",
       "      <td> False</td>\n",
       "    </tr>\n",
       "    <tr>\n",
       "      <th>edwardsville_il</th>\n",
       "      <td> 13</td>\n",
       "      <td>  0</td>\n",
       "      <td> False</td>\n",
       "    </tr>\n",
       "    <tr>\n",
       "      <th>lees summit_mo</th>\n",
       "      <td> 10</td>\n",
       "      <td>  0</td>\n",
       "      <td> False</td>\n",
       "    </tr>\n",
       "    <tr>\n",
       "      <th>allendale_mi</th>\n",
       "      <td> 10</td>\n",
       "      <td>  0</td>\n",
       "      <td> False</td>\n",
       "    </tr>\n",
       "    <tr>\n",
       "      <th>meadville_pa</th>\n",
       "      <td>  9</td>\n",
       "      <td>  0</td>\n",
       "      <td> False</td>\n",
       "    </tr>\n",
       "    <tr>\n",
       "      <th>chevy chase village_md</th>\n",
       "      <td>  8</td>\n",
       "      <td>  0</td>\n",
       "      <td> False</td>\n",
       "    </tr>\n",
       "    <tr>\n",
       "      <th>hilliard_oh</th>\n",
       "      <td>  8</td>\n",
       "      <td>  0</td>\n",
       "      <td> False</td>\n",
       "    </tr>\n",
       "    <tr>\n",
       "      <th>garner_nc</th>\n",
       "      <td>  7</td>\n",
       "      <td>  0</td>\n",
       "      <td> False</td>\n",
       "    </tr>\n",
       "    <tr>\n",
       "      <th>fergus falls_mn</th>\n",
       "      <td>  7</td>\n",
       "      <td>  0</td>\n",
       "      <td> False</td>\n",
       "    </tr>\n",
       "    <tr>\n",
       "      <th>purchase_ny</th>\n",
       "      <td>  7</td>\n",
       "      <td>  0</td>\n",
       "      <td> False</td>\n",
       "    </tr>\n",
       "    <tr>\n",
       "      <th>o fallon_mo</th>\n",
       "      <td>  7</td>\n",
       "      <td>  0</td>\n",
       "      <td> False</td>\n",
       "    </tr>\n",
       "    <tr>\n",
       "      <th>grinnell_ia</th>\n",
       "      <td>  7</td>\n",
       "      <td>  0</td>\n",
       "      <td> False</td>\n",
       "    </tr>\n",
       "    <tr>\n",
       "      <th>delta junction_ak</th>\n",
       "      <td>  6</td>\n",
       "      <td>  0</td>\n",
       "      <td> False</td>\n",
       "    </tr>\n",
       "    <tr>\n",
       "      <th>dearborn heights_mi</th>\n",
       "      <td>  6</td>\n",
       "      <td>  0</td>\n",
       "      <td> False</td>\n",
       "    </tr>\n",
       "    <tr>\n",
       "      <th>bartlesville_ok</th>\n",
       "      <td>  6</td>\n",
       "      <td>  0</td>\n",
       "      <td> False</td>\n",
       "    </tr>\n",
       "    <tr>\n",
       "      <th>auburn hills_mi</th>\n",
       "      <td>  6</td>\n",
       "      <td>  0</td>\n",
       "      <td> False</td>\n",
       "    </tr>\n",
       "    <tr>\n",
       "      <th>poultney_vt</th>\n",
       "      <td>  6</td>\n",
       "      <td>  0</td>\n",
       "      <td> False</td>\n",
       "    </tr>\n",
       "    <tr>\n",
       "      <th>grand canyon village_az</th>\n",
       "      <td>  6</td>\n",
       "      <td>  0</td>\n",
       "      <td> False</td>\n",
       "    </tr>\n",
       "    <tr>\n",
       "      <th>longview_tx</th>\n",
       "      <td>  6</td>\n",
       "      <td>  0</td>\n",
       "      <td> False</td>\n",
       "    </tr>\n",
       "    <tr>\n",
       "      <th>etna_ca</th>\n",
       "      <td>  6</td>\n",
       "      <td>  0</td>\n",
       "      <td> False</td>\n",
       "    </tr>\n",
       "    <tr>\n",
       "      <th>centralia_wa</th>\n",
       "      <td>  6</td>\n",
       "      <td>  0</td>\n",
       "      <td> False</td>\n",
       "    </tr>\n",
       "    <tr>\n",
       "      <th>elk grove village_il</th>\n",
       "      <td>  5</td>\n",
       "      <td>  0</td>\n",
       "      <td> False</td>\n",
       "    </tr>\n",
       "    <tr>\n",
       "      <th>new haven_in</th>\n",
       "      <td>  5</td>\n",
       "      <td>  0</td>\n",
       "      <td> False</td>\n",
       "    </tr>\n",
       "    <tr>\n",
       "      <th>marion_in</th>\n",
       "      <td>  5</td>\n",
       "      <td>  0</td>\n",
       "      <td> False</td>\n",
       "    </tr>\n",
       "    <tr>\n",
       "      <th>west chester_oh</th>\n",
       "      <td>  5</td>\n",
       "      <td>  0</td>\n",
       "      <td> False</td>\n",
       "    </tr>\n",
       "    <tr>\n",
       "      <th>sherman_tx</th>\n",
       "      <td>  5</td>\n",
       "      <td>  0</td>\n",
       "      <td> False</td>\n",
       "    </tr>\n",
       "    <tr>\n",
       "      <th>lake jackson_tx</th>\n",
       "      <td>  5</td>\n",
       "      <td>  0</td>\n",
       "      <td> False</td>\n",
       "    </tr>\n",
       "    <tr>\n",
       "      <th>portales_nm</th>\n",
       "      <td>  5</td>\n",
       "      <td>  0</td>\n",
       "      <td> False</td>\n",
       "    </tr>\n",
       "    <tr>\n",
       "      <th>...</th>\n",
       "      <td>...</td>\n",
       "      <td>...</td>\n",
       "      <td>...</td>\n",
       "    </tr>\n",
       "    <tr>\n",
       "      <th>heiskell_tn</th>\n",
       "      <td>  0</td>\n",
       "      <td>  2</td>\n",
       "      <td> False</td>\n",
       "    </tr>\n",
       "    <tr>\n",
       "      <th>hever-overgaard_az</th>\n",
       "      <td>  0</td>\n",
       "      <td>  1</td>\n",
       "      <td> False</td>\n",
       "    </tr>\n",
       "    <tr>\n",
       "      <th>hibbing_mn</th>\n",
       "      <td>  0</td>\n",
       "      <td>  1</td>\n",
       "      <td> False</td>\n",
       "    </tr>\n",
       "    <tr>\n",
       "      <th>hillsboro beach_fl</th>\n",
       "      <td>  0</td>\n",
       "      <td>  5</td>\n",
       "      <td> False</td>\n",
       "    </tr>\n",
       "    <tr>\n",
       "      <th>highland mills_ny</th>\n",
       "      <td>  0</td>\n",
       "      <td>  2</td>\n",
       "      <td> False</td>\n",
       "    </tr>\n",
       "    <tr>\n",
       "      <th>hillcrest heights_md</th>\n",
       "      <td>  0</td>\n",
       "      <td>  2</td>\n",
       "      <td> False</td>\n",
       "    </tr>\n",
       "    <tr>\n",
       "      <th>hilham_tn</th>\n",
       "      <td>  0</td>\n",
       "      <td>  1</td>\n",
       "      <td> False</td>\n",
       "    </tr>\n",
       "    <tr>\n",
       "      <th>hiles_wi</th>\n",
       "      <td>  0</td>\n",
       "      <td>  1</td>\n",
       "      <td> False</td>\n",
       "    </tr>\n",
       "    <tr>\n",
       "      <th>highlands_nj</th>\n",
       "      <td>  0</td>\n",
       "      <td>  8</td>\n",
       "      <td> False</td>\n",
       "    </tr>\n",
       "    <tr>\n",
       "      <th>highlands_nc</th>\n",
       "      <td>  0</td>\n",
       "      <td> 10</td>\n",
       "      <td> False</td>\n",
       "    </tr>\n",
       "    <tr>\n",
       "      <th>highlands ranch_co</th>\n",
       "      <td>  0</td>\n",
       "      <td>  8</td>\n",
       "      <td> False</td>\n",
       "    </tr>\n",
       "    <tr>\n",
       "      <th>highland_wi</th>\n",
       "      <td>  0</td>\n",
       "      <td>  1</td>\n",
       "      <td> False</td>\n",
       "    </tr>\n",
       "    <tr>\n",
       "      <th>highland_md</th>\n",
       "      <td>  0</td>\n",
       "      <td>  1</td>\n",
       "      <td> False</td>\n",
       "    </tr>\n",
       "    <tr>\n",
       "      <th>highland village_tx</th>\n",
       "      <td>  0</td>\n",
       "      <td>  1</td>\n",
       "      <td> False</td>\n",
       "    </tr>\n",
       "    <tr>\n",
       "      <th>highland park, los angeles_ca</th>\n",
       "      <td>  0</td>\n",
       "      <td>  2</td>\n",
       "      <td> False</td>\n",
       "    </tr>\n",
       "    <tr>\n",
       "      <th>highland park, detroit_mi</th>\n",
       "      <td>  0</td>\n",
       "      <td>  1</td>\n",
       "      <td> False</td>\n",
       "    </tr>\n",
       "    <tr>\n",
       "      <th>highland lakes_nj</th>\n",
       "      <td>  0</td>\n",
       "      <td>  1</td>\n",
       "      <td> False</td>\n",
       "    </tr>\n",
       "    <tr>\n",
       "      <th>hickman_tn</th>\n",
       "      <td>  0</td>\n",
       "      <td>  1</td>\n",
       "      <td> False</td>\n",
       "    </tr>\n",
       "    <tr>\n",
       "      <th>highland lake_ny</th>\n",
       "      <td>  0</td>\n",
       "      <td>  1</td>\n",
       "      <td> False</td>\n",
       "    </tr>\n",
       "    <tr>\n",
       "      <th>highland heights_oh</th>\n",
       "      <td>  0</td>\n",
       "      <td>  1</td>\n",
       "      <td> False</td>\n",
       "    </tr>\n",
       "    <tr>\n",
       "      <th>highland falls_ny</th>\n",
       "      <td>  0</td>\n",
       "      <td>  7</td>\n",
       "      <td> False</td>\n",
       "    </tr>\n",
       "    <tr>\n",
       "      <th>high springs_fl</th>\n",
       "      <td>  0</td>\n",
       "      <td>  4</td>\n",
       "      <td> False</td>\n",
       "    </tr>\n",
       "    <tr>\n",
       "      <th>high falls_ny</th>\n",
       "      <td>  0</td>\n",
       "      <td> 32</td>\n",
       "      <td> False</td>\n",
       "    </tr>\n",
       "    <tr>\n",
       "      <th>high desert_nv</th>\n",
       "      <td>  0</td>\n",
       "      <td>  1</td>\n",
       "      <td> False</td>\n",
       "    </tr>\n",
       "    <tr>\n",
       "      <th>higginsport_oh</th>\n",
       "      <td>  0</td>\n",
       "      <td>  1</td>\n",
       "      <td> False</td>\n",
       "    </tr>\n",
       "    <tr>\n",
       "      <th>hideaway_tx</th>\n",
       "      <td>  0</td>\n",
       "      <td>  1</td>\n",
       "      <td> False</td>\n",
       "    </tr>\n",
       "    <tr>\n",
       "      <th>hidden valley_pa</th>\n",
       "      <td>  0</td>\n",
       "      <td>  7</td>\n",
       "      <td> False</td>\n",
       "    </tr>\n",
       "    <tr>\n",
       "      <th>hico_wv</th>\n",
       "      <td>  0</td>\n",
       "      <td>  3</td>\n",
       "      <td> False</td>\n",
       "    </tr>\n",
       "    <tr>\n",
       "      <th>hickory corners_mi</th>\n",
       "      <td>  0</td>\n",
       "      <td>  1</td>\n",
       "      <td> False</td>\n",
       "    </tr>\n",
       "    <tr>\n",
       "      <th>푸에르토 리코_사이판</th>\n",
       "      <td>  0</td>\n",
       "      <td>  1</td>\n",
       "      <td> False</td>\n",
       "    </tr>\n",
       "  </tbody>\n",
       "</table>\n",
       "<p>8392 rows × 3 columns</p>\n",
       "</div>"
      ],
      "text/plain": [
       "                               signups_cs  signups_ab citystate_matched\n",
       "citystate                                                              \n",
       "winston salem_nc                       34           0             False\n",
       "bowling green_oh                       28           0             False\n",
       "murray_ky                              17           0             False\n",
       "edwardsville_il                        13           0             False\n",
       "lees summit_mo                         10           0             False\n",
       "allendale_mi                           10           0             False\n",
       "meadville_pa                            9           0             False\n",
       "chevy chase village_md                  8           0             False\n",
       "hilliard_oh                             8           0             False\n",
       "garner_nc                               7           0             False\n",
       "fergus falls_mn                         7           0             False\n",
       "purchase_ny                             7           0             False\n",
       "o fallon_mo                             7           0             False\n",
       "grinnell_ia                             7           0             False\n",
       "delta junction_ak                       6           0             False\n",
       "dearborn heights_mi                     6           0             False\n",
       "bartlesville_ok                         6           0             False\n",
       "auburn hills_mi                         6           0             False\n",
       "poultney_vt                             6           0             False\n",
       "grand canyon village_az                 6           0             False\n",
       "longview_tx                             6           0             False\n",
       "etna_ca                                 6           0             False\n",
       "centralia_wa                            6           0             False\n",
       "elk grove village_il                    5           0             False\n",
       "new haven_in                            5           0             False\n",
       "marion_in                               5           0             False\n",
       "west chester_oh                         5           0             False\n",
       "sherman_tx                              5           0             False\n",
       "lake jackson_tx                         5           0             False\n",
       "portales_nm                             5           0             False\n",
       "...                                   ...         ...               ...\n",
       "heiskell_tn                             0           2             False\n",
       "hever-overgaard_az                      0           1             False\n",
       "hibbing_mn                              0           1             False\n",
       "hillsboro beach_fl                      0           5             False\n",
       "highland mills_ny                       0           2             False\n",
       "hillcrest heights_md                    0           2             False\n",
       "hilham_tn                               0           1             False\n",
       "hiles_wi                                0           1             False\n",
       "highlands_nj                            0           8             False\n",
       "highlands_nc                            0          10             False\n",
       "highlands ranch_co                      0           8             False\n",
       "highland_wi                             0           1             False\n",
       "highland_md                             0           1             False\n",
       "highland village_tx                     0           1             False\n",
       "highland park, los angeles_ca           0           2             False\n",
       "highland park, detroit_mi               0           1             False\n",
       "highland lakes_nj                       0           1             False\n",
       "hickman_tn                              0           1             False\n",
       "highland lake_ny                        0           1             False\n",
       "highland heights_oh                     0           1             False\n",
       "highland falls_ny                       0           7             False\n",
       "high springs_fl                         0           4             False\n",
       "high falls_ny                           0          32             False\n",
       "high desert_nv                          0           1             False\n",
       "higginsport_oh                          0           1             False\n",
       "hideaway_tx                             0           1             False\n",
       "hidden valley_pa                        0           7             False\n",
       "hico_wv                                 0           3             False\n",
       "hickory corners_mi                      0           1             False\n",
       "푸에르토 리코_사이판                             0           1             False\n",
       "\n",
       "[8392 rows x 3 columns]"
      ]
     },
     "execution_count": 68,
     "metadata": {},
     "output_type": "execute_result"
    }
   ],
   "source": [
    "abcs_cum_refver[abcs_cum_refver['citystate_matched']==False].sort('signups_cs', ascending=False)"
   ]
  },
  {
   "cell_type": "code",
   "execution_count": 69,
   "metadata": {
    "collapsed": false
   },
   "outputs": [
    {
     "data": {
      "text/plain": [
       "False"
      ]
     },
     "execution_count": 69,
     "metadata": {},
     "output_type": "execute_result"
    }
   ],
   "source": [
    "'east' in abcs_cum_refver[abcs_cum_refver['signups_cs'] > 1].index"
   ]
  },
  {
   "cell_type": "code",
   "execution_count": 70,
   "metadata": {
    "collapsed": false
   },
   "outputs": [
    {
     "data": {
      "text/plain": [
       "221705.0"
      ]
     },
     "execution_count": 70,
     "metadata": {},
     "output_type": "execute_result"
    }
   ],
   "source": [
    "abcs_cum_refver['signups_ab'].sum()"
   ]
  },
  {
   "cell_type": "code",
   "execution_count": 71,
   "metadata": {
    "collapsed": false
   },
   "outputs": [
    {
     "name": "stdout",
     "output_type": "stream",
     "text": [
      "all the hosts\n",
      "280329.0\n",
      "all the hosts in cities that dont cross site match\n",
      "26763.0\n",
      "percent remaining after matching\n",
      "0.904530034352\n"
     ]
    }
   ],
   "source": [
    "print('all the hosts')\n",
    "ah = abcs_cum_refver.sum().sum()\n",
    "print(ah)\n",
    "print('all the hosts in cities that dont cross site match')\n",
    "um = abcs_cum_refver[abcs_cum_refver['citystate_matched']==False].sum().sum()\n",
    "print(um)\n",
    "print('percent remaining after matching')\n",
    "print((ah-um) / ah)"
   ]
  },
  {
   "cell_type": "code",
   "execution_count": 72,
   "metadata": {
    "collapsed": false,
    "scrolled": true
   },
   "outputs": [],
   "source": [
    "dual_min = 100\n",
    "big_cities = abcs_citystate.unstack().ix[ab_cum >=dual_min].ix[cs_cum >=dual_min]\n",
    "small_cities = abcs_citystate.unstack().ix[ab_cum <dual_min].ix[cs_cum <dual_min]\n",
    "big_cities_2013mean = abcs_citystate_2013mean.unstack().ix[ab_cum >=dual_min].ix[cs_cum >=dual_min]\n",
    "small_cities_2013mean = abcs_citystate_2013mean.unstack().ix[ab_cum <dual_min].ix[cs_cum <dual_min]"
   ]
  },
  {
   "cell_type": "code",
   "execution_count": 73,
   "metadata": {
    "collapsed": false
   },
   "outputs": [],
   "source": [
    "dual_min_refver = 1\n",
    "big_cities_refver = abcs_citystate_refver.unstack().ix[ab_cum_refver >=dual_min_refver].ix[cs_cum_refver >=dual_min_refver]\n",
    "small_cities_refver = abcs_citystate_refver.unstack().ix[ab_cum_refver <dual_min_refver].ix[cs_cum_refver <dual_min_refver]"
   ]
  },
  {
   "cell_type": "markdown",
   "metadata": {},
   "source": [
    "# City Size in General, Correlations"
   ]
  },
  {
   "cell_type": "code",
   "execution_count": 74,
   "metadata": {
    "collapsed": false
   },
   "outputs": [
    {
     "data": {
      "text/html": [
       "<div style=\"max-height:1000px;max-width:1500px;overflow:auto;\">\n",
       "<table border=\"1\" class=\"dataframe\">\n",
       "  <thead>\n",
       "    <tr style=\"text-align: right;\">\n",
       "      <th></th>\n",
       "      <th>signups_cs</th>\n",
       "      <th>signups_ab</th>\n",
       "    </tr>\n",
       "  </thead>\n",
       "  <tbody>\n",
       "    <tr>\n",
       "      <th>signups_cs</th>\n",
       "      <td> 1.000000</td>\n",
       "      <td> 0.483983</td>\n",
       "    </tr>\n",
       "    <tr>\n",
       "      <th>signups_ab</th>\n",
       "      <td> 0.483983</td>\n",
       "      <td> 1.000000</td>\n",
       "    </tr>\n",
       "  </tbody>\n",
       "</table>\n",
       "</div>"
      ],
      "text/plain": [
       "            signups_cs  signups_ab\n",
       "signups_cs    1.000000    0.483983\n",
       "signups_ab    0.483983    1.000000"
      ]
     },
     "execution_count": 74,
     "metadata": {},
     "output_type": "execute_result"
    }
   ],
   "source": [
    "big_cities.stack().corr()"
   ]
  },
  {
   "cell_type": "code",
   "execution_count": 75,
   "metadata": {
    "collapsed": false
   },
   "outputs": [
    {
     "data": {
      "text/html": [
       "<div style=\"max-height:1000px;max-width:1500px;overflow:auto;\">\n",
       "<table border=\"1\" class=\"dataframe\">\n",
       "  <thead>\n",
       "    <tr style=\"text-align: right;\">\n",
       "      <th></th>\n",
       "      <th>signups_cs</th>\n",
       "      <th>signups_ab</th>\n",
       "    </tr>\n",
       "  </thead>\n",
       "  <tbody>\n",
       "    <tr>\n",
       "      <th>signups_cs</th>\n",
       "      <td> 1.000000</td>\n",
       "      <td>-0.028088</td>\n",
       "    </tr>\n",
       "    <tr>\n",
       "      <th>signups_ab</th>\n",
       "      <td>-0.028088</td>\n",
       "      <td> 1.000000</td>\n",
       "    </tr>\n",
       "  </tbody>\n",
       "</table>\n",
       "</div>"
      ],
      "text/plain": [
       "            signups_cs  signups_ab\n",
       "signups_cs    1.000000   -0.028088\n",
       "signups_ab   -0.028088    1.000000"
      ]
     },
     "execution_count": 75,
     "metadata": {},
     "output_type": "execute_result"
    }
   ],
   "source": [
    "small_cities.stack().corr()"
   ]
  },
  {
   "cell_type": "code",
   "execution_count": 76,
   "metadata": {
    "collapsed": false
   },
   "outputs": [
    {
     "data": {
      "text/html": [
       "<div style=\"max-height:1000px;max-width:1500px;overflow:auto;\">\n",
       "<table border=\"1\" class=\"dataframe\">\n",
       "  <thead>\n",
       "    <tr style=\"text-align: right;\">\n",
       "      <th></th>\n",
       "      <th>signups_cs</th>\n",
       "      <th>signups_ab</th>\n",
       "    </tr>\n",
       "  </thead>\n",
       "  <tbody>\n",
       "    <tr>\n",
       "      <th>signups_cs</th>\n",
       "      <td> 1.000000</td>\n",
       "      <td> 0.480205</td>\n",
       "    </tr>\n",
       "    <tr>\n",
       "      <th>signups_ab</th>\n",
       "      <td> 0.480205</td>\n",
       "      <td> 1.000000</td>\n",
       "    </tr>\n",
       "  </tbody>\n",
       "</table>\n",
       "</div>"
      ],
      "text/plain": [
       "            signups_cs  signups_ab\n",
       "signups_cs    1.000000    0.480205\n",
       "signups_ab    0.480205    1.000000"
      ]
     },
     "execution_count": 76,
     "metadata": {},
     "output_type": "execute_result"
    }
   ],
   "source": [
    "big_cities_2013mean.stack().corr()"
   ]
  },
  {
   "cell_type": "code",
   "execution_count": 77,
   "metadata": {
    "collapsed": false
   },
   "outputs": [
    {
     "data": {
      "text/html": [
       "<div style=\"max-height:1000px;max-width:1500px;overflow:auto;\">\n",
       "<table border=\"1\" class=\"dataframe\">\n",
       "  <thead>\n",
       "    <tr style=\"text-align: right;\">\n",
       "      <th></th>\n",
       "      <th>signups_cs</th>\n",
       "      <th>signups_ab</th>\n",
       "    </tr>\n",
       "  </thead>\n",
       "  <tbody>\n",
       "    <tr>\n",
       "      <th>signups_cs</th>\n",
       "      <td> 1.000000</td>\n",
       "      <td> 0.111111</td>\n",
       "    </tr>\n",
       "    <tr>\n",
       "      <th>signups_ab</th>\n",
       "      <td> 0.111111</td>\n",
       "      <td> 1.000000</td>\n",
       "    </tr>\n",
       "  </tbody>\n",
       "</table>\n",
       "</div>"
      ],
      "text/plain": [
       "            signups_cs  signups_ab\n",
       "signups_cs    1.000000    0.111111\n",
       "signups_ab    0.111111    1.000000"
      ]
     },
     "execution_count": 77,
     "metadata": {},
     "output_type": "execute_result"
    }
   ],
   "source": [
    "small_cities_2013mean.stack().corr()"
   ]
  },
  {
   "cell_type": "code",
   "execution_count": 78,
   "metadata": {
    "collapsed": false
   },
   "outputs": [
    {
     "data": {
      "text/html": [
       "<div style=\"max-height:1000px;max-width:1500px;overflow:auto;\">\n",
       "<table border=\"1\" class=\"dataframe\">\n",
       "  <thead>\n",
       "    <tr style=\"text-align: right;\">\n",
       "      <th></th>\n",
       "      <th>signups_cs</th>\n",
       "      <th>signups_ab</th>\n",
       "    </tr>\n",
       "  </thead>\n",
       "  <tbody>\n",
       "    <tr>\n",
       "      <th>signups_cs</th>\n",
       "      <td> 1.000000</td>\n",
       "      <td> 0.495994</td>\n",
       "    </tr>\n",
       "    <tr>\n",
       "      <th>signups_ab</th>\n",
       "      <td> 0.495994</td>\n",
       "      <td> 1.000000</td>\n",
       "    </tr>\n",
       "  </tbody>\n",
       "</table>\n",
       "</div>"
      ],
      "text/plain": [
       "            signups_cs  signups_ab\n",
       "signups_cs    1.000000    0.495994\n",
       "signups_ab    0.495994    1.000000"
      ]
     },
     "execution_count": 78,
     "metadata": {},
     "output_type": "execute_result"
    }
   ],
   "source": [
    "big_cities_refver.stack().corr()"
   ]
  },
  {
   "cell_type": "code",
   "execution_count": 79,
   "metadata": {
    "collapsed": false
   },
   "outputs": [
    {
     "data": {
      "text/html": [
       "<div style=\"max-height:1000px;max-width:1500px;overflow:auto;\">\n",
       "<table border=\"1\" class=\"dataframe\">\n",
       "  <thead>\n",
       "    <tr style=\"text-align: right;\">\n",
       "      <th></th>\n",
       "      <th>signups_cs</th>\n",
       "      <th>signups_ab</th>\n",
       "    </tr>\n",
       "  </thead>\n",
       "  <tbody>\n",
       "    <tr>\n",
       "      <th>signups_cs</th>\n",
       "      <td>NaN</td>\n",
       "      <td>NaN</td>\n",
       "    </tr>\n",
       "    <tr>\n",
       "      <th>signups_ab</th>\n",
       "      <td>NaN</td>\n",
       "      <td>NaN</td>\n",
       "    </tr>\n",
       "  </tbody>\n",
       "</table>\n",
       "</div>"
      ],
      "text/plain": [
       "            signups_cs  signups_ab\n",
       "signups_cs         NaN         NaN\n",
       "signups_ab         NaN         NaN"
      ]
     },
     "execution_count": 79,
     "metadata": {},
     "output_type": "execute_result"
    }
   ],
   "source": [
    "small_cities_refver.stack().corr()"
   ]
  },
  {
   "cell_type": "markdown",
   "metadata": {},
   "source": [
    "# City Size Graphs 2013-spikey"
   ]
  },
  {
   "cell_type": "code",
   "execution_count": 80,
   "metadata": {
    "collapsed": false,
    "scrolled": true
   },
   "outputs": [],
   "source": [
    "%%capture\n",
    "big_cities_groups = big_cities.stack().groupby(level=0)\n",
    "\n",
    "big_cities_corr_refver = big_cities_groups.agg(lambda x: x.corr().iloc[1,0])\n",
    "\n",
    "#this is not dangerous just because agg returned weird\n",
    "del big_cities_corr_refver['signups_ab']\n",
    "big_cities_corr_refver.columns = ['signup_abcs_correlation']\n",
    "\n",
    "big_cities_corr_refver.sort(columns='signup_abcs_correlation')\n",
    "\n",
    "big_cities_extremes = big_cities_corr_refver.sort(columns='signup_abcs_correlation').iloc[0:15,].append(big_cities_corr_refver.sort(columns='signup_abcs_correlation').iloc[-15:,])\n",
    "\n",
    "print('# Top and Bottom 10 Cities by Host Signup Correlation')\n",
    "\n",
    "for city, corr in big_cities_extremes.iterrows():\n",
    "    print(city, corr[0])\n",
    "    for dfcity, df in big_cities_groups:\n",
    "        if city==dfcity:\n",
    "            ax = df.plot(title='{} has corr {}'.format(city, corr[0]), rot=45)\n",
    "\n",
    "print('# Top and Bottom 10 Cities by AB size')\n",
    "\n",
    "big_cities_absize = big_cities_groups.agg(sum).sort('signups_ab', ascending=False)\n",
    "\n",
    "for city, row in big_cities_absize.iloc[:20].iterrows():\n",
    "    print(city, row[0])\n",
    "    for dfcity, df in big_cities_groups:\n",
    "        if city==dfcity:\n",
    "            ax = df.plot(title='{} has ab_hosts {}'.format(city, row[0]), rot=45)"
   ]
  },
  {
   "cell_type": "markdown",
   "metadata": {},
   "source": [
    "# Big Cities, with 1 References Verification Cutoff"
   ]
  },
  {
   "cell_type": "code",
   "execution_count": 81,
   "metadata": {
    "collapsed": false,
    "scrolled": true
   },
   "outputs": [
    {
     "name": "stdout",
     "output_type": "stream",
     "text": [
      "# Top and Bottom 10 Cities by Host Signup Correlation\n",
      "st george_ut 1.0\n",
      "floral park_ny 1.0\n",
      "forest_va 1.0\n",
      "clark fork_id 1.0\n",
      "fortuna_ca 1.0\n",
      "travelers rest_sc 1.0\n",
      "calais_vt 1.0\n",
      "watkins glen_ny 1.0\n",
      "findlay_oh 1.0\n",
      "hoover_al 1.0\n"
     ]
    }
   ],
   "source": [
    "big_cities_groups_refver = big_cities_refver.stack().groupby(level=0)\n",
    "\n",
    "big_cities_corr_refver = big_cities_groups_refver.agg(lambda x: x.corr().iloc[1,0])\n",
    "\n",
    "#this is not dangerous just because agg returned weird\n",
    "del big_cities_corr_refver['signups_ab']\n",
    "big_cities_corr_refver.columns = ['signup_abcs_correlation']\n",
    "\n",
    "big_cities_corr_refver.sort(columns='signup_abcs_correlation')\n",
    "\n",
    "big_cities_corr_refver.dropna(inplace=True)\n",
    "big_cities_extremes = big_cities_corr_refver.sort(columns='signup_abcs_correlation').iloc[0:10,]\n",
    "big_cities_bottom= big_cities_corr_refver.sort(columns='signup_abcs_correlation').iloc[-10:,]\n",
    "\n",
    "print('# Top and Bottom 10 Cities by Host Signup Correlation')\n",
    "\n",
    "for city, corr in big_cities_bottom.iterrows():\n",
    "    print(city, corr[0])\n",
    "    for dfcity, df in big_cities_groups:\n",
    "        if city==dfcity:\n",
    "            print(df)\n",
    "            ax = df.plot(title='{} has corr {}'.format(city, corr[0]), rot=45)\n",
    "\n"
   ]
  },
  {
   "cell_type": "markdown",
   "metadata": {
    "collapsed": true
   },
   "source": [
    "# Load Census Data"
   ]
  },
  {
   "cell_type": "code",
   "execution_count": 82,
   "metadata": {
    "collapsed": false
   },
   "outputs": [],
   "source": [
    "census_income = pandas.read_csv('geographic/nhgis0005_csv/nhgis0005_ds206_20145_2014_place.csv',encoding = \"ISO-8859-1\",usecols=['STATE','PLACE','ABDPE001','GISJOIN'])\n",
    "census_income.columns = ['gisjoin', 'state', 'place', 'income']\n",
    "\n",
    "census_pop = pandas.read_csv('geographic/nhgis0006_csv/nhgis0006_ds206_20145_2014_place.csv', encoding = \"ISO-8859-1\", usecols=['STATE','PLACE','ABA1E001','GISJOIN'])\n",
    "census_pop.columns = ['gisjoin','state','place','pop']\n",
    "\n",
    "popinc = pandas.merge(census_income, census_pop[['gisjoin','pop']], left_on='gisjoin', right_on='gisjoin')"
   ]
  },
  {
   "cell_type": "code",
   "execution_count": 83,
   "metadata": {
    "collapsed": false
   },
   "outputs": [
    {
     "data": {
      "text/html": [
       "<div style=\"max-height:1000px;max-width:1500px;overflow:auto;\">\n",
       "<table border=\"1\" class=\"dataframe\">\n",
       "  <thead>\n",
       "    <tr style=\"text-align: right;\">\n",
       "      <th></th>\n",
       "      <th>gisjoin</th>\n",
       "      <th>state</th>\n",
       "      <th>place</th>\n",
       "      <th>income</th>\n",
       "      <th>pop</th>\n",
       "    </tr>\n",
       "  </thead>\n",
       "  <tbody>\n",
       "    <tr>\n",
       "      <th>0</th>\n",
       "      <td> G01000100</td>\n",
       "      <td> Alabama</td>\n",
       "      <td>      Abanda CDP</td>\n",
       "      <td> 27989</td>\n",
       "      <td>   43</td>\n",
       "    </tr>\n",
       "    <tr>\n",
       "      <th>1</th>\n",
       "      <td> G01000124</td>\n",
       "      <td> Alabama</td>\n",
       "      <td>  Abbeville city</td>\n",
       "      <td> 27989</td>\n",
       "      <td> 2654</td>\n",
       "    </tr>\n",
       "    <tr>\n",
       "      <th>2</th>\n",
       "      <td> G01000460</td>\n",
       "      <td> Alabama</td>\n",
       "      <td> Adamsville city</td>\n",
       "      <td> 46005</td>\n",
       "      <td> 4472</td>\n",
       "    </tr>\n",
       "    <tr>\n",
       "      <th>3</th>\n",
       "      <td> G01000484</td>\n",
       "      <td> Alabama</td>\n",
       "      <td>    Addison town</td>\n",
       "      <td> 38194</td>\n",
       "      <td>  913</td>\n",
       "    </tr>\n",
       "    <tr>\n",
       "      <th>4</th>\n",
       "      <td> G01000676</td>\n",
       "      <td> Alabama</td>\n",
       "      <td>      Akron town</td>\n",
       "      <td> 22813</td>\n",
       "      <td>  302</td>\n",
       "    </tr>\n",
       "  </tbody>\n",
       "</table>\n",
       "</div>"
      ],
      "text/plain": [
       "     gisjoin    state            place  income   pop\n",
       "0  G01000100  Alabama       Abanda CDP   27989    43\n",
       "1  G01000124  Alabama   Abbeville city   27989  2654\n",
       "2  G01000460  Alabama  Adamsville city   46005  4472\n",
       "3  G01000484  Alabama     Addison town   38194   913\n",
       "4  G01000676  Alabama       Akron town   22813   302"
      ]
     },
     "execution_count": 83,
     "metadata": {},
     "output_type": "execute_result"
    }
   ],
   "source": [
    "popinc.head()"
   ]
  },
  {
   "cell_type": "code",
   "execution_count": 84,
   "metadata": {
    "collapsed": false,
    "scrolled": false
   },
   "outputs": [],
   "source": [
    "%%capture\n",
    "popinc['state_abbr'] = popinc['state'].apply(state_lookup)"
   ]
  },
  {
   "cell_type": "code",
   "execution_count": 85,
   "metadata": {
    "collapsed": false
   },
   "outputs": [],
   "source": [
    "census_abcs_map = {'Athens-Clarke County unified government (balance)': 'athens',\n",
    "               'Augusta-Richmond County consolidated government (balance)':'augusta',\n",
    "               'Boise City city':'boise',\n",
    "               'East Honolulu CDP':'honolulu',\n",
    "               'Indianapolis city (balance)':'indianapolis',\n",
    "               'Lexington-Fayette urban county':'lexington',\n",
    "               'Louisville/Jefferson County metro government (balance)':'louisville',\n",
    "               'Nashville-Davidson metropolitan government (balance)':'nashville',\n",
    "               'St. Augustine city': 'saint augustine',\n",
    "               'St. Louis city':'saint louis',\n",
    "               'St. Paul city':'saint paul',\n",
    "               'St. Petersburg city':'saint petersburg',\n",
    "               'San Buenaventura (Ventura) city':'ventura',\n",
    "               'Kailua CDP (Hawaii County)':'kailua-kona',\n",
    "                'South Lake Tahoe city':'south lake tahoe',\n",
    "                'Kailua CDP (Honolulu County)':'kailua',\n",
    "                  'El Paso de Robles (Paso Robles) city':'paso robles',\n",
    "                  'St. Louis city': 'st. louis',\n",
    "                  'Yosemite Lakes CDP':'yosemite national park',\n",
    "                  'Barnstable Town city':'barnstable',\n",
    "                  'Carmel Valley Village CDP':'carmel',\n",
    "                  'Sunnyside-Tahoe City CDP':'tahoe city'}\n",
    "\n",
    "missing_data = {'brooklyn_ny':{'pop':2504700,'income':46085},\n",
    "               'queens_ny':{'pop':2230722,'income':57001},\n",
    "               'venice_ca':{'pop':40605,'income':67909},\n",
    "                'bronx_ny':{'pop':1385108,'income':34388},\n",
    "                'astoria_ny':{'pop':154000,'income':57001},\n",
    "                'staten island_ny':{'pop':468730,'income':72569},\n",
    "                'weehawken_nj':{'pop':634266,'income':58442},\n",
    "                'long island city_ny':{'pop':68117,'income':57001},\n",
    "                'olympic valley_ca':{'pop':348432,'income':72725},\n",
    "                'la jolla_ca':{'pop':42017,'income':72962},\n",
    "               'wellfleet_ma':{'pop':2750,'income':43558},\n",
    "                'killington_vt':{'pop':811,'income':47500},\n",
    "               'saint louis_mo':{'pop':319294,'income':29156},\n",
    "                'north hollywood_ca':{'pop':77848,'income':42791},\n",
    "                'north bergen_nj':{'pop':60773,'income':29626},\n",
    "                'princeton_nj':{'pop':28572,'income':107071},\n",
    "                'eastsound_wa':{'pop':15769,'income':43491},\n",
    "                'waimea_hi':{'pop':9212 , 'income':51150 },\n",
    "                'santa rosa beach_fl':{'pop':55043 , 'income':32407 },\n",
    "                'eastham_ma':{'pop':4956 , 'income':42618 },\n",
    "                'watertown_ma':{'pop':31915, 'income':59764 },\n",
    "                'amherst_ma':{'pop': 37819, 'income':40017 }\n",
    "               }\n",
    "\n",
    "def norm_place(s):\n",
    "    try:\n",
    "        return census_abcs_map[s]\n",
    "    except KeyError:\n",
    "        end = s.split(\" \")[-1]\n",
    "        if end in ['city','CDP','town','village', 'borough', 'municipality']:\n",
    "            snorm = ' '.join(s.split(' ')[:-1])\n",
    "            return snorm.lower()\n",
    "        else:\n",
    "            return s"
   ]
  },
  {
   "cell_type": "code",
   "execution_count": 86,
   "metadata": {
    "collapsed": false,
    "scrolled": true
   },
   "outputs": [],
   "source": [
    "popinc['place_norm'] = popinc['place'].apply(norm_place)"
   ]
  },
  {
   "cell_type": "code",
   "execution_count": 87,
   "metadata": {
    "collapsed": false,
    "scrolled": true
   },
   "outputs": [],
   "source": [
    "popinc['citystate'] = popinc['place_norm'] + '_' + popinc['state_abbr']"
   ]
  },
  {
   "cell_type": "code",
   "execution_count": 88,
   "metadata": {
    "collapsed": false,
    "scrolled": true
   },
   "outputs": [],
   "source": [
    "popinc = popinc[['citystate', 'pop','income']]"
   ]
  },
  {
   "cell_type": "code",
   "execution_count": 89,
   "metadata": {
    "collapsed": false
   },
   "outputs": [
    {
     "data": {
      "text/html": [
       "<div style=\"max-height:1000px;max-width:1500px;overflow:auto;\">\n",
       "<table border=\"1\" class=\"dataframe\">\n",
       "  <thead>\n",
       "    <tr style=\"text-align: right;\">\n",
       "      <th></th>\n",
       "      <th>citystate</th>\n",
       "      <th>pop</th>\n",
       "      <th>income</th>\n",
       "    </tr>\n",
       "  </thead>\n",
       "  <tbody>\n",
       "    <tr>\n",
       "      <th>0</th>\n",
       "      <td>     abanda_al</td>\n",
       "      <td>   43</td>\n",
       "      <td> 27989</td>\n",
       "    </tr>\n",
       "    <tr>\n",
       "      <th>1</th>\n",
       "      <td>  abbeville_al</td>\n",
       "      <td> 2654</td>\n",
       "      <td> 27989</td>\n",
       "    </tr>\n",
       "    <tr>\n",
       "      <th>2</th>\n",
       "      <td> adamsville_al</td>\n",
       "      <td> 4472</td>\n",
       "      <td> 46005</td>\n",
       "    </tr>\n",
       "    <tr>\n",
       "      <th>3</th>\n",
       "      <td>    addison_al</td>\n",
       "      <td>  913</td>\n",
       "      <td> 38194</td>\n",
       "    </tr>\n",
       "    <tr>\n",
       "      <th>4</th>\n",
       "      <td>      akron_al</td>\n",
       "      <td>  302</td>\n",
       "      <td> 22813</td>\n",
       "    </tr>\n",
       "  </tbody>\n",
       "</table>\n",
       "</div>"
      ],
      "text/plain": [
       "       citystate   pop  income\n",
       "0      abanda_al    43   27989\n",
       "1   abbeville_al  2654   27989\n",
       "2  adamsville_al  4472   46005\n",
       "3     addison_al   913   38194\n",
       "4       akron_al   302   22813"
      ]
     },
     "execution_count": 89,
     "metadata": {},
     "output_type": "execute_result"
    }
   ],
   "source": [
    "popinc.head()"
   ]
  },
  {
   "cell_type": "code",
   "execution_count": 90,
   "metadata": {
    "collapsed": true
   },
   "outputs": [],
   "source": [
    "popinc_clean = popinc.dropna()"
   ]
  },
  {
   "cell_type": "code",
   "execution_count": 91,
   "metadata": {
    "collapsed": false
   },
   "outputs": [
    {
     "data": {
      "text/plain": [
       "28512"
      ]
     },
     "execution_count": 91,
     "metadata": {},
     "output_type": "execute_result"
    }
   ],
   "source": [
    "len(popinc_clean)"
   ]
  },
  {
   "cell_type": "code",
   "execution_count": 92,
   "metadata": {
    "collapsed": false
   },
   "outputs": [],
   "source": [
    "popinc_sorted = popinc_clean.sort(['citystate','income'])"
   ]
  },
  {
   "cell_type": "code",
   "execution_count": 93,
   "metadata": {
    "collapsed": false
   },
   "outputs": [
    {
     "data": {
      "text/html": [
       "<div style=\"max-height:1000px;max-width:1500px;overflow:auto;\">\n",
       "<table border=\"1\" class=\"dataframe\">\n",
       "  <thead>\n",
       "    <tr style=\"text-align: right;\">\n",
       "      <th></th>\n",
       "      <th>citystate</th>\n",
       "      <th>pop</th>\n",
       "      <th>income</th>\n",
       "    </tr>\n",
       "  </thead>\n",
       "  <tbody>\n",
       "    <tr>\n",
       "      <th>25930</th>\n",
       "      <td> santa rosa_tx</td>\n",
       "      <td>  130</td>\n",
       "      <td> 16250</td>\n",
       "    </tr>\n",
       "    <tr>\n",
       "      <th>25929</th>\n",
       "      <td> santa rosa_tx</td>\n",
       "      <td> 2881</td>\n",
       "      <td> 20500</td>\n",
       "    </tr>\n",
       "  </tbody>\n",
       "</table>\n",
       "</div>"
      ],
      "text/plain": [
       "           citystate   pop  income\n",
       "25930  santa rosa_tx   130   16250\n",
       "25929  santa rosa_tx  2881   20500"
      ]
     },
     "execution_count": 93,
     "metadata": {},
     "output_type": "execute_result"
    }
   ],
   "source": [
    "popinc_sorted[popinc_sorted['citystate']=='santa rosa_tx']"
   ]
  },
  {
   "cell_type": "code",
   "execution_count": 94,
   "metadata": {
    "collapsed": false
   },
   "outputs": [],
   "source": [
    "popinc_sorted.drop_duplicates(subset='citystate',take_last=False,inplace=True)"
   ]
  },
  {
   "cell_type": "code",
   "execution_count": 95,
   "metadata": {
    "collapsed": false
   },
   "outputs": [],
   "source": [
    "popinc_missing = pandas.DataFrame.from_dict(missing_data,orient='index')"
   ]
  },
  {
   "cell_type": "code",
   "execution_count": 96,
   "metadata": {
    "collapsed": false
   },
   "outputs": [],
   "source": [
    "popinc_missing['citystate'] = popinc_missing.index"
   ]
  },
  {
   "cell_type": "code",
   "execution_count": 97,
   "metadata": {
    "collapsed": false
   },
   "outputs": [],
   "source": [
    "popinc_combined = popinc_sorted.append(popinc_missing, ignore_index=True)"
   ]
  },
  {
   "cell_type": "code",
   "execution_count": 98,
   "metadata": {
    "collapsed": true
   },
   "outputs": [],
   "source": [
    "abcs_census_corr = pandas.merge(big_cities_corr_refver,popinc_combined, how='inner', left_index=True, right_on='citystate')"
   ]
  },
  {
   "cell_type": "code",
   "execution_count": 99,
   "metadata": {
    "collapsed": false
   },
   "outputs": [],
   "source": [
    "#these are the missing ones\n",
    "missing = list(big_cities_corr_refver.index - abcs_census_corr['citystate'])"
   ]
  },
  {
   "cell_type": "code",
   "execution_count": 100,
   "metadata": {
    "collapsed": false
   },
   "outputs": [],
   "source": [
    "#small_census_df = census_df[['ABDPE001','citystate']]\n",
    "#small_census_df.columns = ['income','citystate']\n",
    "#small_census_df.to_csv('census_income.csv')"
   ]
  },
  {
   "cell_type": "code",
   "execution_count": 101,
   "metadata": {
    "collapsed": false
   },
   "outputs": [
    {
     "data": {
      "text/plain": [
       "<matplotlib.axes._subplots.AxesSubplot at 0x7f6b3d53ab00>"
      ]
     },
     "execution_count": 101,
     "metadata": {},
     "output_type": "execute_result"
    },
    {
     "data": {
      "image/png": "[encoded data removed]",
      "text/plain": [
       "<matplotlib.figure.Figure at 0x7f6b3d53a4e0>"
      ]
     },
     "metadata": {},
     "output_type": "display_data"
    }
   ],
   "source": [
    "abcs_census_corr.plot(y= 'signup_abcs_correlation', x='income', kind='scatter')"
   ]
  },
  {
   "cell_type": "code",
   "execution_count": 102,
   "metadata": {
    "collapsed": false
   },
   "outputs": [],
   "source": [
    "#pandas.stats.ols.OLS(abcs_census['income'], abcs_census['signup_abcs_correlation'])"
   ]
  },
  {
   "cell_type": "code",
   "execution_count": 103,
   "metadata": {
    "collapsed": false
   },
   "outputs": [],
   "source": [
    "big_cities_size = big_cities_groups_refver.agg(sum)"
   ]
  },
  {
   "cell_type": "code",
   "execution_count": 104,
   "metadata": {
    "collapsed": false
   },
   "outputs": [],
   "source": [
    "abcs_census_size = pandas.merge(big_cities_size,popinc_combined, how='inner', left_index=True, right_on='citystate')"
   ]
  },
  {
   "cell_type": "code",
   "execution_count": 105,
   "metadata": {
    "collapsed": false
   },
   "outputs": [],
   "source": [
    "missing_cities = list(set(big_cities_size.index) - set(abcs_census_size['citystate']))"
   ]
  },
  {
   "cell_type": "code",
   "execution_count": 106,
   "metadata": {
    "collapsed": false
   },
   "outputs": [
    {
     "name": "stdout",
     "output_type": "stream",
     "text": [
      "947.0\n"
     ]
    }
   ],
   "source": [
    "missing_cities_df = big_cities_size.ix[missing_cities].sort('signups_ab', ascending=False)\n",
    "missing_cities_top = missing_cities_df[:20]\n",
    "missing_cities_top_size = missing_cities_top.sum().sum()\n",
    "print(missing_cities_top_size)"
   ]
  },
  {
   "cell_type": "code",
   "execution_count": 107,
   "metadata": {
    "collapsed": false,
    "scrolled": true
   },
   "outputs": [
    {
     "data": {
      "text/html": [
       "<div style=\"max-height:1000px;max-width:1500px;overflow:auto;\">\n",
       "<table border=\"1\" class=\"dataframe\">\n",
       "  <thead>\n",
       "    <tr style=\"text-align: right;\">\n",
       "      <th></th>\n",
       "      <th>signups_cs</th>\n",
       "      <th>signups_ab</th>\n",
       "    </tr>\n",
       "    <tr>\n",
       "      <th>citystate</th>\n",
       "      <th></th>\n",
       "      <th></th>\n",
       "    </tr>\n",
       "  </thead>\n",
       "  <tbody>\n",
       "    <tr>\n",
       "      <th>st petersburg_fl</th>\n",
       "      <td> 11</td>\n",
       "      <td> 57</td>\n",
       "    </tr>\n",
       "    <tr>\n",
       "      <th>warren_vt</th>\n",
       "      <td>  1</td>\n",
       "      <td> 57</td>\n",
       "    </tr>\n",
       "    <tr>\n",
       "      <th>carmel valley_ca</th>\n",
       "      <td>  1</td>\n",
       "      <td> 51</td>\n",
       "    </tr>\n",
       "    <tr>\n",
       "      <th>harwich_ma</th>\n",
       "      <td>  1</td>\n",
       "      <td> 50</td>\n",
       "    </tr>\n",
       "    <tr>\n",
       "      <th>narragansett_ri</th>\n",
       "      <td>  5</td>\n",
       "      <td> 48</td>\n",
       "    </tr>\n",
       "    <tr>\n",
       "      <th>flushing_ny</th>\n",
       "      <td>  5</td>\n",
       "      <td> 47</td>\n",
       "    </tr>\n",
       "    <tr>\n",
       "      <th>homewood_ca</th>\n",
       "      <td>  1</td>\n",
       "      <td> 47</td>\n",
       "    </tr>\n",
       "    <tr>\n",
       "      <th>yarmouth_ma</th>\n",
       "      <td>  1</td>\n",
       "      <td> 44</td>\n",
       "    </tr>\n",
       "    <tr>\n",
       "      <th>bushkill_pa</th>\n",
       "      <td>  1</td>\n",
       "      <td> 43</td>\n",
       "    </tr>\n",
       "    <tr>\n",
       "      <th>saint pete beach_fl</th>\n",
       "      <td>  1</td>\n",
       "      <td> 42</td>\n",
       "    </tr>\n",
       "    <tr>\n",
       "      <th>montclair_nj</th>\n",
       "      <td> 14</td>\n",
       "      <td> 42</td>\n",
       "    </tr>\n",
       "    <tr>\n",
       "      <th>rhododendron_or</th>\n",
       "      <td>  1</td>\n",
       "      <td> 41</td>\n",
       "    </tr>\n",
       "    <tr>\n",
       "      <th>heber city_ut</th>\n",
       "      <td>  6</td>\n",
       "      <td> 41</td>\n",
       "    </tr>\n",
       "    <tr>\n",
       "      <th>el prado_nm</th>\n",
       "      <td>  1</td>\n",
       "      <td> 40</td>\n",
       "    </tr>\n",
       "    <tr>\n",
       "      <th>sherman oaks_ca</th>\n",
       "      <td> 17</td>\n",
       "      <td> 39</td>\n",
       "    </tr>\n",
       "    <tr>\n",
       "      <th>middletown_ri</th>\n",
       "      <td>  4</td>\n",
       "      <td> 39</td>\n",
       "    </tr>\n",
       "    <tr>\n",
       "      <th>st. petersburg_fl</th>\n",
       "      <td>  2</td>\n",
       "      <td> 37</td>\n",
       "    </tr>\n",
       "    <tr>\n",
       "      <th>jamaica_vt</th>\n",
       "      <td>  1</td>\n",
       "      <td> 35</td>\n",
       "    </tr>\n",
       "    <tr>\n",
       "      <th>baywood-los osos_ca</th>\n",
       "      <td>  2</td>\n",
       "      <td> 35</td>\n",
       "    </tr>\n",
       "    <tr>\n",
       "      <th>bethel_me</th>\n",
       "      <td>  2</td>\n",
       "      <td> 34</td>\n",
       "    </tr>\n",
       "  </tbody>\n",
       "</table>\n",
       "</div>"
      ],
      "text/plain": [
       "                     signups_cs  signups_ab\n",
       "citystate                                  \n",
       "st petersburg_fl             11          57\n",
       "warren_vt                     1          57\n",
       "carmel valley_ca              1          51\n",
       "harwich_ma                    1          50\n",
       "narragansett_ri               5          48\n",
       "flushing_ny                   5          47\n",
       "homewood_ca                   1          47\n",
       "yarmouth_ma                   1          44\n",
       "bushkill_pa                   1          43\n",
       "saint pete beach_fl           1          42\n",
       "montclair_nj                 14          42\n",
       "rhododendron_or               1          41\n",
       "heber city_ut                 6          41\n",
       "el prado_nm                   1          40\n",
       "sherman oaks_ca              17          39\n",
       "middletown_ri                 4          39\n",
       "st. petersburg_fl             2          37\n",
       "jamaica_vt                    1          35\n",
       "baywood-los osos_ca           2          35\n",
       "bethel_me                     2          34"
      ]
     },
     "execution_count": 107,
     "metadata": {},
     "output_type": "execute_result"
    }
   ],
   "source": [
    "missing_cities_top"
   ]
  },
  {
   "cell_type": "code",
   "execution_count": 108,
   "metadata": {
    "collapsed": false
   },
   "outputs": [
    {
     "name": "stdout",
     "output_type": "stream",
     "text": [
      "number of hosts in abcs merged dataset\n",
      "248960.0\n",
      "number of hosts that dont have income data after merging with census\n",
      "6658.0\n",
      "as a percent\n",
      "0.973256748072\n",
      "top missing cities contribute\n",
      "947.0\n"
     ]
    }
   ],
   "source": [
    "print('number of hosts in abcs merged dataset')\n",
    "bcs=big_cities_size.sum().sum()\n",
    "print(bcs)\n",
    "print('number of hosts that dont have income data after merging with census')\n",
    "bccs = abcs_census_size[['signups_cs','signups_ab']].fillna(0).sum().sum()\n",
    "print(bcs - bccs)\n",
    "print('as a percent')\n",
    "print(bccs/bcs)\n",
    "print('top missing cities contribute')\n",
    "print(missing_cities_top_size)"
   ]
  },
  {
   "cell_type": "code",
   "execution_count": 109,
   "metadata": {
    "collapsed": false
   },
   "outputs": [
    {
     "data": {
      "image/png": "[encoded data removed]",
      "text/plain": [
       "<matplotlib.figure.Figure at 0x7f6b3d40ecf8>"
      ]
     },
     "metadata": {},
     "output_type": "display_data"
    }
   ],
   "source": [
    "abcs_census_size.plot(x='income', y='signups_ab', kind='scatter')\n",
    "plt.yscale('log')"
   ]
  },
  {
   "cell_type": "code",
   "execution_count": null,
   "metadata": {
    "collapsed": true
   },
   "outputs": [],
   "source": []
  },
  {
   "cell_type": "code",
   "execution_count": 110,
   "metadata": {
    "collapsed": false
   },
   "outputs": [
    {
     "data": {
      "image/png": "[encoded data removed]",
      "text/plain": [
       "<matplotlib.figure.Figure at 0x7f6b3cd9e240>"
      ]
     },
     "metadata": {},
     "output_type": "display_data"
    }
   ],
   "source": [
    "abcs_census_size.plot(x='income', y='signups_cs', kind='scatter')\n",
    "plt.yscale('log')"
   ]
  },
  {
   "cell_type": "code",
   "execution_count": 111,
   "metadata": {
    "collapsed": true
   },
   "outputs": [],
   "source": [
    "abcs_census_size['ratio'] = abcs_census_size['signups_cs'] / abcs_census_size['signups_ab']\n",
    "abcs_census_size['interaction'] = abcs_census_size['signups_ab'] * abcs_census_size['income']"
   ]
  },
  {
   "cell_type": "code",
   "execution_count": 112,
   "metadata": {
    "collapsed": false,
    "scrolled": false
   },
   "outputs": [
    {
     "data": {
      "text/plain": [
       "<matplotlib.axes._subplots.AxesSubplot at 0x7f6b3d4edfd0>"
      ]
     },
     "execution_count": 112,
     "metadata": {},
     "output_type": "execute_result"
    },
    {
     "data": {
      "image/png": "[encoded data removed]",
      "text/plain": [
       "<matplotlib.figure.Figure at 0x7f6b3d4eddd8>"
      ]
     },
     "metadata": {},
     "output_type": "display_data"
    }
   ],
   "source": [
    "abcs_census_size.plot(x='income', y='ratio', kind='scatter', title='CS/AB host ratio, by City \\n Household Income \\n Minimum {} users in both sites'.format(dual_min_refver))"
   ]
  },
  {
   "cell_type": "code",
   "execution_count": 113,
   "metadata": {
    "collapsed": false
   },
   "outputs": [
    {
     "data": {
      "text/plain": [
       "<matplotlib.axes._subplots.AxesSubplot at 0x7f6b3d4174a8>"
      ]
     },
     "execution_count": 113,
     "metadata": {},
     "output_type": "execute_result"
    },
    {
     "data": {
      "image/png": "[encoded data removed]",
      "text/plain": [
       "<matplotlib.figure.Figure at 0x7f6b3d3d60f0>"
      ]
     },
     "metadata": {},
     "output_type": "display_data"
    }
   ],
   "source": [
    "abcs_census_size.plot(x='signups_cs', y='interaction', kind='scatter', title='CS/AB host ratio, by City \\n Household Income \\n Minimum {} users in both sites'.format(dual_min_refver))"
   ]
  },
  {
   "cell_type": "code",
   "execution_count": 114,
   "metadata": {
    "collapsed": true
   },
   "outputs": [],
   "source": [
    "median_income = abcs_census_size['income'].median()"
   ]
  },
  {
   "cell_type": "code",
   "execution_count": 115,
   "metadata": {
    "collapsed": false
   },
   "outputs": [
    {
     "data": {
      "text/plain": [
       "50666.5"
      ]
     },
     "execution_count": 115,
     "metadata": {},
     "output_type": "execute_result"
    }
   ],
   "source": [
    "median_income"
   ]
  },
  {
   "cell_type": "code",
   "execution_count": 116,
   "metadata": {
    "collapsed": true
   },
   "outputs": [],
   "source": [
    "abcs_census_size['high_inc'] = abcs_census_size['income'].apply(lambda x: x > median_income)"
   ]
  },
  {
   "cell_type": "code",
   "execution_count": 117,
   "metadata": {
    "collapsed": false
   },
   "outputs": [
    {
     "data": {
      "text/plain": [
       "<matplotlib.axes._subplots.AxesSubplot at 0x7f6b3e054e48>"
      ]
     },
     "execution_count": 117,
     "metadata": {},
     "output_type": "execute_result"
    },
    {
     "data": {
      "image/png": "[encoded data removed]",
      "text/plain": [
       "<matplotlib.figure.Figure at 0x7f6b3b568cc0>"
      ]
     },
     "metadata": {},
     "output_type": "display_data"
    }
   ],
   "source": [
    "abcs_census_size[abcs_census_size['high_inc']==True].plot(x='signups_ab',y='signups_cs',kind='scatter')"
   ]
  },
  {
   "cell_type": "code",
   "execution_count": 118,
   "metadata": {
    "collapsed": false
   },
   "outputs": [
    {
     "data": {
      "text/html": [
       "<div style=\"max-height:1000px;max-width:1500px;overflow:auto;\">\n",
       "<table border=\"1\" class=\"dataframe\">\n",
       "  <thead>\n",
       "    <tr style=\"text-align: right;\">\n",
       "      <th></th>\n",
       "      <th>signups_cs</th>\n",
       "      <th>signups_ab</th>\n",
       "      <th>citystate</th>\n",
       "      <th>income</th>\n",
       "      <th>pop</th>\n",
       "      <th>ratio</th>\n",
       "      <th>interaction</th>\n",
       "      <th>high_inc</th>\n",
       "    </tr>\n",
       "  </thead>\n",
       "  <tbody>\n",
       "    <tr>\n",
       "      <th>133</th>\n",
       "      <td>  1</td>\n",
       "      <td> 2</td>\n",
       "      <td> abbeville_la</td>\n",
       "      <td> 28939</td>\n",
       "      <td>  12341</td>\n",
       "      <td>  0.500000</td>\n",
       "      <td>  57878</td>\n",
       "      <td> False</td>\n",
       "    </tr>\n",
       "    <tr>\n",
       "      <th>147</th>\n",
       "      <td>  3</td>\n",
       "      <td> 9</td>\n",
       "      <td>  aberdeen_nc</td>\n",
       "      <td> 38721</td>\n",
       "      <td>   6702</td>\n",
       "      <td>  0.333333</td>\n",
       "      <td> 348489</td>\n",
       "      <td> False</td>\n",
       "    </tr>\n",
       "    <tr>\n",
       "      <th>149</th>\n",
       "      <td> 13</td>\n",
       "      <td> 1</td>\n",
       "      <td>  aberdeen_sd</td>\n",
       "      <td> 47540</td>\n",
       "      <td>  26979</td>\n",
       "      <td> 13.000000</td>\n",
       "      <td>  47540</td>\n",
       "      <td> False</td>\n",
       "    </tr>\n",
       "    <tr>\n",
       "      <th>150</th>\n",
       "      <td>  2</td>\n",
       "      <td> 5</td>\n",
       "      <td>  aberdeen_wa</td>\n",
       "      <td> 39735</td>\n",
       "      <td>  16544</td>\n",
       "      <td>  0.400000</td>\n",
       "      <td> 198675</td>\n",
       "      <td> False</td>\n",
       "    </tr>\n",
       "    <tr>\n",
       "      <th>155</th>\n",
       "      <td> 14</td>\n",
       "      <td> 6</td>\n",
       "      <td>   abilene_tx</td>\n",
       "      <td> 42766</td>\n",
       "      <td> 120776</td>\n",
       "      <td>  2.333333</td>\n",
       "      <td> 256596</td>\n",
       "      <td> False</td>\n",
       "    </tr>\n",
       "  </tbody>\n",
       "</table>\n",
       "</div>"
      ],
      "text/plain": [
       "     signups_cs  signups_ab     citystate  income     pop      ratio  \\\n",
       "133           1           2  abbeville_la   28939   12341   0.500000   \n",
       "147           3           9   aberdeen_nc   38721    6702   0.333333   \n",
       "149          13           1   aberdeen_sd   47540   26979  13.000000   \n",
       "150           2           5   aberdeen_wa   39735   16544   0.400000   \n",
       "155          14           6    abilene_tx   42766  120776   2.333333   \n",
       "\n",
       "     interaction high_inc  \n",
       "133        57878    False  \n",
       "147       348489    False  \n",
       "149        47540    False  \n",
       "150       198675    False  \n",
       "155       256596    False  "
      ]
     },
     "execution_count": 118,
     "metadata": {},
     "output_type": "execute_result"
    }
   ],
   "source": [
    "abcs_census_size.head()"
   ]
  },
  {
   "cell_type": "code",
   "execution_count": 119,
   "metadata": {
    "collapsed": false
   },
   "outputs": [
    {
     "data": {
      "text/plain": [
       "<matplotlib.axes._subplots.AxesSubplot at 0x7f6b3b5fc668>"
      ]
     },
     "execution_count": 119,
     "metadata": {},
     "output_type": "execute_result"
    },
    {
     "data": {
      "image/png": "[encoded data removed]",
      "text/plain": [
       "<matplotlib.figure.Figure at 0x7f6b3d553128>"
      ]
     },
     "metadata": {},
     "output_type": "display_data"
    }
   ],
   "source": [
    "abcs_census_size.plot(x='pop', y='signups_ab', kind='scatter', title='CS/AB host ratio, by City \\n Population \\n Minimum {} users in both sites'.format(dual_min_refver))"
   ]
  },
  {
   "cell_type": "code",
   "execution_count": 120,
   "metadata": {
    "collapsed": false
   },
   "outputs": [
    {
     "data": {
      "text/plain": [
       "\n",
       "-------------------------Summary of Regression Analysis-------------------------\n",
       "\n",
       "Formula: Y ~ <x> + <intercept>\n",
       "\n",
       "Number of Observations:         3884\n",
       "Number of Degrees of Freedom:   2\n",
       "\n",
       "R-squared:         0.0143\n",
       "Adj R-squared:     0.0140\n",
       "\n",
       "Rmse:              1.1685\n",
       "\n",
       "F-stat (1, 3882):    56.2525, p-value:     0.0000\n",
       "\n",
       "Degrees of Freedom: model 1, resid 3882\n",
       "\n",
       "-----------------------Summary of Estimated Coefficients------------------------\n",
       "      Variable       Coef    Std Err     t-stat    p-value    CI 2.5%   CI 97.5%\n",
       "--------------------------------------------------------------------------------\n",
       "             x    -0.0000     0.0000      -7.50     0.0000    -0.0000    -0.0000\n",
       "     intercept     1.1615     0.0461      25.18     0.0000     1.0711     1.2519\n",
       "---------------------------------End of Summary---------------------------------"
      ]
     },
     "execution_count": 120,
     "metadata": {},
     "output_type": "execute_result"
    }
   ],
   "source": [
    "pandas.stats.ols.OLS(abcs_census_size['ratio'], abcs_census_size['income'])"
   ]
  },
  {
   "cell_type": "markdown",
   "metadata": {},
   "source": [
    "# Mutliple Linear Regression Mixed Effects"
   ]
  },
  {
   "cell_type": "code",
   "execution_count": 121,
   "metadata": {
    "collapsed": false
   },
   "outputs": [],
   "source": [
    "popinc_description = popinc_combined.describe()\n",
    "inc25, inc50, inc75, inc100 = popinc_description.ix['25%']['income'], \\\n",
    "                              popinc_description.ix['50%']['income'], \\\n",
    "                              popinc_description.ix['75%']['income'], \\\n",
    "                              popinc_description.ix['max']['income']\n",
    "def quartile(inc):\n",
    "    if inc < inc25:\n",
    "        return 'a'\n",
    "    elif inc < inc50:\n",
    "        return 'b'\n",
    "    elif inc < inc75:\n",
    "        return 'c'\n",
    "    elif inc <= inc100:\n",
    "        return 'd'"
   ]
  },
  {
   "cell_type": "code",
   "execution_count": 122,
   "metadata": {
    "collapsed": false
   },
   "outputs": [],
   "source": [
    "popinc_combined['quartile'] = popinc_combined['income'].apply(lambda x: quartile(x))"
   ]
  },
  {
   "cell_type": "code",
   "execution_count": 123,
   "metadata": {
    "collapsed": false
   },
   "outputs": [],
   "source": [
    "abcs_citystate_refver_flat = abcs_citystate_refver.reset_index()"
   ]
  },
  {
   "cell_type": "code",
   "execution_count": 124,
   "metadata": {
    "collapsed": false
   },
   "outputs": [],
   "source": [
    "abcs_citystate_refver_flat = abcs_citystate_refver_flat[(abcs_citystate_refver_flat['year']>=2008) & (abcs_citystate_refver_flat['year']<=2015)]"
   ]
  },
  {
   "cell_type": "code",
   "execution_count": 125,
   "metadata": {
    "collapsed": false
   },
   "outputs": [],
   "source": [
    "abcs_popinc = pandas.merge(abcs_citystate_refver_flat, popinc_combined, how='inner', left_on='citystate', right_on='citystate')"
   ]
  },
  {
   "cell_type": "code",
   "execution_count": 126,
   "metadata": {
    "collapsed": false
   },
   "outputs": [
    {
     "data": {
      "text/html": [
       "<div style=\"max-height:1000px;max-width:1500px;overflow:auto;\">\n",
       "<table border=\"1\" class=\"dataframe\">\n",
       "  <thead>\n",
       "    <tr style=\"text-align: right;\">\n",
       "      <th></th>\n",
       "      <th>citystate</th>\n",
       "      <th>year</th>\n",
       "      <th>signups_cs</th>\n",
       "      <th>signups_ab</th>\n",
       "      <th>income</th>\n",
       "      <th>pop</th>\n",
       "      <th>quartile</th>\n",
       "    </tr>\n",
       "  </thead>\n",
       "  <tbody>\n",
       "    <tr>\n",
       "      <th>0</th>\n",
       "      <td> abbeville_la</td>\n",
       "      <td> 2009</td>\n",
       "      <td> 1</td>\n",
       "      <td> 0</td>\n",
       "      <td> 28939</td>\n",
       "      <td> 12341</td>\n",
       "      <td> a</td>\n",
       "    </tr>\n",
       "    <tr>\n",
       "      <th>1</th>\n",
       "      <td> abbeville_la</td>\n",
       "      <td> 2012</td>\n",
       "      <td> 0</td>\n",
       "      <td> 1</td>\n",
       "      <td> 28939</td>\n",
       "      <td> 12341</td>\n",
       "      <td> a</td>\n",
       "    </tr>\n",
       "    <tr>\n",
       "      <th>2</th>\n",
       "      <td> abbeville_la</td>\n",
       "      <td> 2013</td>\n",
       "      <td> 0</td>\n",
       "      <td> 1</td>\n",
       "      <td> 28939</td>\n",
       "      <td> 12341</td>\n",
       "      <td> a</td>\n",
       "    </tr>\n",
       "    <tr>\n",
       "      <th>3</th>\n",
       "      <td> abbeville_sc</td>\n",
       "      <td> 2015</td>\n",
       "      <td> 1</td>\n",
       "      <td> 0</td>\n",
       "      <td> 19869</td>\n",
       "      <td>  5207</td>\n",
       "      <td> a</td>\n",
       "    </tr>\n",
       "    <tr>\n",
       "      <th>4</th>\n",
       "      <td>  aberdeen_md</td>\n",
       "      <td> 2012</td>\n",
       "      <td> 1</td>\n",
       "      <td> 0</td>\n",
       "      <td> 50327</td>\n",
       "      <td> 15137</td>\n",
       "      <td> c</td>\n",
       "    </tr>\n",
       "  </tbody>\n",
       "</table>\n",
       "</div>"
      ],
      "text/plain": [
       "      citystate  year  signups_cs  signups_ab  income    pop quartile\n",
       "0  abbeville_la  2009           1           0   28939  12341        a\n",
       "1  abbeville_la  2012           0           1   28939  12341        a\n",
       "2  abbeville_la  2013           0           1   28939  12341        a\n",
       "3  abbeville_sc  2015           1           0   19869   5207        a\n",
       "4   aberdeen_md  2012           1           0   50327  15137        c"
      ]
     },
     "execution_count": 126,
     "metadata": {},
     "output_type": "execute_result"
    }
   ],
   "source": [
    "abcs_popinc.head()"
   ]
  },
  {
   "cell_type": "code",
   "execution_count": 127,
   "metadata": {
    "collapsed": false
   },
   "outputs": [],
   "source": [
    "abcs_popinc.to_csv('cleaned csv/abcs_popinc.csv')"
   ]
  },
  {
   "cell_type": "code",
   "execution_count": 128,
   "metadata": {
    "collapsed": false
   },
   "outputs": [],
   "source": [
    "citystate_inc = abcs_popinc[['citystate','signups_cs','signups_ab','pop', 'quartile']].groupby(by='citystate').agg({'signups_cs':sum,'signups_ab':sum, 'pop':min,'quartile':min})"
   ]
  },
  {
   "cell_type": "code",
   "execution_count": 129,
   "metadata": {
    "collapsed": false
   },
   "outputs": [],
   "source": [
    "citystate_inc['cs_thou'] = (citystate_inc['signups_cs'] / citystate_inc['pop'] ) *1000\n",
    "citystate_inc['ab_thou'] = (citystate_inc['signups_ab'] / citystate_inc['pop']) *1000"
   ]
  },
  {
   "cell_type": "code",
   "execution_count": 130,
   "metadata": {
    "collapsed": false
   },
   "outputs": [],
   "source": [
    "%load_ext rpy2.ipython"
   ]
  },
  {
   "cell_type": "code",
   "execution_count": 131,
   "metadata": {
    "collapsed": false
   },
   "outputs": [],
   "source": [
    "%Rpush abcs_popinc"
   ]
  },
  {
   "cell_type": "code",
   "execution_count": 135,
   "metadata": {
    "collapsed": false
   },
   "outputs": [
    {
     "name": "stderr",
     "output_type": "stream",
     "text": [
      "/usr/local/lib/python3.4/dist-packages/rpy2/robjects/functions.py:106: UserWarning: Loading required package: Formula\n",
      "\n",
      "  res = super(Function, self).__call__(*new_args, **new_kwargs)\n"
     ]
    }
   ],
   "source": [
    "%%R\n",
    "library(lme4)\n",
    "library(lmerTest)\n",
    "library(ggplot2)\n",
    "library(effects)\n",
    "library(sjPlot)\n",
    "library(sjmisc)\n",
    "library(plm)"
   ]
  },
  {
   "cell_type": "code",
   "execution_count": 133,
   "metadata": {
    "collapsed": false,
    "scrolled": true
   },
   "outputs": [
    {
     "data": {
      "text/plain": [
       "     citystate year signups_cs signups_ab income   pop quartile\n",
       "0 abbeville_la 2009          1          0  28939 12341        a\n",
       "1 abbeville_la 2012          0          1  28939 12341        a\n",
       "2 abbeville_la 2013          0          1  28939 12341        a\n",
       "3 abbeville_sc 2015          1          0  19869  5207        a\n",
       "4  aberdeen_md 2012          1          0  50327 15137        c\n",
       "5  aberdeen_nc 2008          1          0  38721  6702        b\n"
      ]
     },
     "metadata": {},
     "output_type": "display_data"
    },
    {
     "data": {
      "image/png": "[encoded data removed]"
     },
     "metadata": {},
     "output_type": "display_data"
    }
   ],
   "source": [
    "%%R\n",
    "print(head(abcs_popinc))\n",
    "p = ggplot(abcs_popinc, aes(x=signups_ab, y=signups_cs, colour=quartile)) + geom_point()\n",
    "print(p)"
   ]
  },
  {
   "cell_type": "code",
   "execution_count": 138,
   "metadata": {
    "collapsed": false
   },
   "outputs": [
    {
     "data": {
      "text/plain": [
       "Oneway (individual) effect Within Model\n",
       "\n",
       "Call:\n",
       "plm(formula = signups_cs ~ signups_ab, data = abcs_popinc, model = \"within\", \n",
       "    index = c(\"citystate\", \"year\"))\n",
       "\n",
       "Unbalanced Panel: n=8841, T=1-8, N=25873\n",
       "\n",
       "Residuals :\n",
       "   Min. 1st Qu.  Median 3rd Qu.    Max. \n",
       "-85.700  -0.333   0.000   0.252  92.000 \n",
       "\n",
       "Coefficients :\n",
       "              Estimate  Std. Error t-value  Pr(>|t|)    \n",
       "signups_ab -0.02224096  0.00044848 -49.592 < 2.2e-16 ***\n",
       "---\n",
       "Signif. codes:  0 ‘***’ 0.001 ‘**’ 0.01 ‘*’ 0.05 ‘.’ 0.1 ‘ ’ 1\n",
       "\n",
       "Total Sum of Squares:    160110\n",
       "Residual Sum of Squares: 139900\n",
       "R-Squared:      0.12618\n",
       "Adj. R-Squared: 0.083061\n",
       "F-statistic: 2459.36 on 1 and 17031 DF, p-value: < 2.22e-16\n"
      ]
     },
     "metadata": {},
     "output_type": "display_data"
    }
   ],
   "source": [
    "%%R\n",
    "crowd.fe = plm(signups_cs ~ signups_ab, index=c(\"citystate\",\"year\"), data=abcs_popinc, model=\"within\")\n",
    "print(summary(crowd.fe))"
   ]
  },
  {
   "cell_type": "code",
   "execution_count": null,
   "metadata": {
    "collapsed": false
   },
   "outputs": [],
   "source": [
    "%%R\n",
    "\n",
    "crowd.model = lmer(signups_cs ~ signups_ab + (1|citystate), data=abcs_popinc)\n",
    "print(summary(crowd.model))"
   ]
  },
  {
   "cell_type": "code",
   "execution_count": null,
   "metadata": {
    "collapsed": false,
    "scrolled": false
   },
   "outputs": [],
   "source": [
    "%%R\n",
    "\n",
    "\n",
    "#thoughts, pop a random effect? can it be if it's continuous\n",
    "#compare signs per pop instead?\n",
    "#try interactions signs*pop, signs*income\n",
    "#try randome slopes too 1+ab|citystat 1+ab|year\n",
    "#consider rescaling\n",
    "crowd.model = lmer(signups_cs ~ signups_ab + year + citystate + pop, data=abcs_popinc, REML=FALSE)\n",
    "print(summary(crowd.model))\n",
    "\n",
    "\n",
    "plot(Effect('signups_ab', crowd.model))"
   ]
  },
  {
   "cell_type": "code",
   "execution_count": null,
   "metadata": {
    "collapsed": false,
    "scrolled": true
   },
   "outputs": [],
   "source": [
    "%%R\n",
    "\n",
    "crowd_quartile_i.model = lmer(signups_cs ~  quartile*signups_ab  + (1|citystate) + year + pop, data=abcs_popinc, REML=FALSE)\n",
    "crowd_income_i.model = lmer(signups_cs ~  income*signups_ab  + (1|citystate) + year + pop, data=abcs_popinc, REML=FALSE)\n",
    "\n",
    "#crowd_income_pop.model = lmer(signups_cs ~  income*signups_ab*pop  + (1|citystate) + year, data=abcs_popinc, REML=FALSE)\n",
    "\n",
    "\n",
    "crowd_quartile.model = lmer(signups_cs ~  quartile + signups_ab  + (1|citystate) + year + pop, data=abcs_popinc, REML=FALSE)\n",
    "crowd_income.model = lmer(signups_cs ~  income + signups_ab  + (1|citystate) + year + pop, data=abcs_popinc, REML=FALSE)\n",
    "crowd_income_ab.model = lmer(signups_ab ~  income + signups_cs  + (1|citystate) + year + pop, data=abcs_popinc, REML=FALSE)\n",
    "\n",
    "\n",
    "print(summary(crowd_quartile_i.model))\n",
    "print(summary(crowd_income_i.model))\n",
    "\n",
    "#print(summary(crowd_income_pop.model))\n",
    "print(summary(crowd_income_ab.model))\n",
    "\n",
    "print(summary(crowd_quartile.model))\n",
    "print(summary(crowd_income.model))\n"
   ]
  },
  {
   "cell_type": "code",
   "execution_count": null,
   "metadata": {
    "collapsed": false,
    "scrolled": false
   },
   "outputs": [],
   "source": [
    "%%R\n",
    "\n",
    "sjp.lmer(crowd_income.model,type = \"fe.pred\", vars='signups_ab')\n",
    "sjp.lmer(crowd_income_ab.model,type = \"fe.pred\", vars='signups_ab')\n"
   ]
  },
  {
   "cell_type": "code",
   "execution_count": null,
   "metadata": {
    "collapsed": false
   },
   "outputs": [],
   "source": [
    "%%R\n",
    "sjp.lmer(crowd_income.model, type ='eff')"
   ]
  },
  {
   "cell_type": "markdown",
   "metadata": {
    "collapsed": true
   },
   "source": [
    "# Cities to check for overlap\n",
    "highest and lowest correlations, ratios, and income for harman and zhiyi"
   ]
  },
  {
   "cell_type": "code",
   "execution_count": null,
   "metadata": {
    "collapsed": false
   },
   "outputs": [],
   "source": [
    "corr_sorted = big_cities_corr_refver.sort('signup_abcs_correlation')\n",
    "least_corr, most_corr = corr_sorted[:10], corr_sorted[-10:]\n",
    "print(least_corr)\n",
    "print(most_corr)"
   ]
  },
  {
   "cell_type": "code",
   "execution_count": null,
   "metadata": {
    "collapsed": false
   },
   "outputs": [],
   "source": [
    "sorted_ratio = abcs_census_size.sort('ratio')\n",
    "least_ratio, most_ratio = sorted_ratio[:10], sorted_ratio[-10:]\n",
    "print(least_ratio)\n",
    "print(most_ratio)"
   ]
  },
  {
   "cell_type": "code",
   "execution_count": null,
   "metadata": {
    "collapsed": false
   },
   "outputs": [],
   "source": [
    "sorted_income = abcs_census_size.sort('income')\n",
    "least_income, most_income = sorted_income[:10], sorted_income[-10:]\n",
    "print(least_income)\n",
    "print(most_income)"
   ]
  },
  {
   "cell_type": "markdown",
   "metadata": {},
   "source": [
    "# mulitlisters, multicities"
   ]
  },
  {
   "cell_type": "code",
   "execution_count": null,
   "metadata": {
    "collapsed": false
   },
   "outputs": [],
   "source": [
    "ab_df.head()"
   ]
  },
  {
   "cell_type": "code",
   "execution_count": null,
   "metadata": {
    "collapsed": false
   },
   "outputs": [],
   "source": [
    "host_num_cities = ab_df[['host_id','smart_location']].groupby(by='host_id').agg({'host_id':len,\n",
    "                                                                                 'smart_location':lambda x: len(set(x))})"
   ]
  },
  {
   "cell_type": "code",
   "execution_count": null,
   "metadata": {
    "collapsed": false,
    "scrolled": false
   },
   "outputs": [],
   "source": [
    "host_num_cities"
   ]
  },
  {
   "cell_type": "code",
   "execution_count": null,
   "metadata": {
    "collapsed": true
   },
   "outputs": [],
   "source": [
    "multi_city_hosts = host_num_cities[host_num_cities['smart_location'] > 1]"
   ]
  },
  {
   "cell_type": "code",
   "execution_count": null,
   "metadata": {
    "collapsed": false
   },
   "outputs": [],
   "source": [
    "multi_city_hosts.plot(kind='hist')\n",
    "plt.yscale('log')"
   ]
  },
  {
   "cell_type": "code",
   "execution_count": null,
   "metadata": {
    "collapsed": false,
    "scrolled": true
   },
   "outputs": [],
   "source": [
    "multi_city_hosts.sort('smart_location',ascending=False).head()"
   ]
  },
  {
   "cell_type": "code",
   "execution_count": null,
   "metadata": {
    "collapsed": false
   },
   "outputs": [],
   "source": [
    "multilisters = host_num_cities[host_num_cities['host_id'] > 2]"
   ]
  },
  {
   "cell_type": "code",
   "execution_count": null,
   "metadata": {
    "collapsed": false
   },
   "outputs": [],
   "source": [
    "len(multilisters)/len(host_num_cities)"
   ]
  },
  {
   "cell_type": "code",
   "execution_count": null,
   "metadata": {
    "collapsed": false
   },
   "outputs": [],
   "source": [
    "len(multi_city_hosts)/len(multilisters)"
   ]
  },
  {
   "cell_type": "markdown",
   "metadata": {},
   "source": [
    "# 58% of multilisters have listings in more than 1 city too"
   ]
  },
  {
   "cell_type": "code",
   "execution_count": null,
   "metadata": {
    "collapsed": true
   },
   "outputs": [],
   "source": [
    "    "
   ]
  }
 ],
 "metadata": {
  "kernelspec": {
   "display_name": "Python 3",
   "language": "python",
   "name": "python3"
  },
  "language_info": {
   "codemirror_mode": {
    "name": "ipython",
    "version": 3
   },
   "file_extension": ".py",
   "mimetype": "text/x-python",
   "name": "python",
   "nbconvert_exporter": "python",
   "pygments_lexer": "ipython3",
   "version": "3.4.3+"
  }
 },
 "nbformat": 4,
 "nbformat_minor": 0
}
