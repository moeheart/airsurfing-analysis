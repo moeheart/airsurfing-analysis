{
 "cells": [
  {
   "cell_type": "code",
   "execution_count": 2,
   "metadata": {
    "collapsed": false
   },
   "outputs": [
    {
     "name": "stdout",
     "output_type": "stream",
     "text": [
      "6.615796089172363\n",
      "9.886282920837402\n",
      "6.162352085113525\n",
      "7.577890396118164\n",
      "8.25105\n",
      "6.87013\n"
     ]
    },
    {
     "data": {
      "text/plain": [
       "Ttest_indResult(statistic=13.14237603765282, pvalue=3.9688791261788878e-39)"
      ]
     },
     "execution_count": 2,
     "metadata": {},
     "output_type": "execute_result"
    }
   ],
   "source": [
    "import pandas as pd\n",
    "from scipy.stats import ttest_ind\n",
    "import numpy as np\n",
    "\n",
    "import csv\n",
    "\n",
    "file = open(\"cleaned csv/LIWC2015 Results (data10k).csv\", \"r\", encoding = \"utf-8\")\n",
    "csvreader = csv.reader(file)\n",
    "FIRST = 2\n",
    "abh2g = []\n",
    "abg2h = []\n",
    "csh2g = []\n",
    "csg2h = []\n",
    "#column = 15 #ppron\n",
    "#column = 57 #body\n",
    "column = 72 #space\n",
    "#column = 76 #home\n",
    "#column = 41 # family\n",
    "for line in csvreader:\n",
    "    if FIRST > 0:\n",
    "        FIRST -= 1\n",
    "        continue\n",
    "    if line[2] == \"AB\" and line[3] == \"HTG\":\n",
    "        abh2g += [line[column]]\n",
    "    elif line[2] == \"AB\" and line[3] == \"GTH\":\n",
    "        abg2h += [line[column]]\n",
    "    elif line[2] == \"CS\" and line[3] == \"HTG\":\n",
    "        csh2g += [line[column]]\n",
    "    elif line[2] == \"CS\" and line[3] == \"GTH\":\n",
    "        csg2h += [line[column]]\n",
    "        \n",
    "data = np.array([abh2g, abg2h, csh2g, csg2h], dtype=\"float32\").transpose((1,0))\n",
    "\n",
    "df = pd.DataFrame(data, columns=['ABH2G', 'ABG2H', 'CSH2G', 'CSG2H'])\n",
    "\n",
    "print(df['ABH2G'].mean())\n",
    "print(df['ABG2H'].mean())\n",
    "print(df['CSH2G'].mean())\n",
    "print(df['CSG2H'].mean())\n",
    "ab = np.concatenate((df['ABH2G'],df['ABG2H']))\n",
    "cs = np.concatenate((df['CSH2G'],df['CSG2H']))\n",
    "print(ab.mean())\n",
    "print(cs.mean())\n",
    "ttest_ind(ab, cs)\n"
   ]
  },
  {
   "cell_type": "code",
   "execution_count": 4,
   "metadata": {
    "collapsed": false
   },
   "outputs": [
    {
     "name": "stdout",
     "output_type": "stream",
     "text": [
      "11.115610122680664\n",
      "6.461567401885986\n",
      "12.376913070678711\n",
      "13.214217185974121\n"
     ]
    }
   ],
   "source": []
  },
  {
   "cell_type": "code",
   "execution_count": 6,
   "metadata": {
    "collapsed": false
   },
   "outputs": [
    {
     "data": {
      "text/plain": [
       "Ttest_indResult(statistic=-36.132031774517941, pvalue=3.3653147663034561e-254)"
      ]
     },
     "execution_count": 6,
     "metadata": {},
     "output_type": "execute_result"
    }
   ],
   "source": []
  },
  {
   "cell_type": "code",
   "execution_count": null,
   "metadata": {
    "collapsed": false
   },
   "outputs": [],
   "source": []
  },
  {
   "cell_type": "markdown",
   "metadata": {},
   "source": [
    "# Are directions different?"
   ]
  },
  {
   "cell_type": "markdown",
   "metadata": {},
   "source": [
    "### Are AB G2H and H2G significantly differnet? "
   ]
  },
  {
   "cell_type": "code",
   "execution_count": 5,
   "metadata": {
    "collapsed": false
   },
   "outputs": [
    {
     "data": {
      "text/plain": [
       "Ttest_indResult(statistic=-7.4966664214483858, pvalue=3.0187691986824056e-13)"
      ]
     },
     "execution_count": 5,
     "metadata": {},
     "output_type": "execute_result"
    }
   ],
   "source": [
    "ttest_ind(df['ABG2H'], df['ABH2G'])"
   ]
  },
  {
   "cell_type": "markdown",
   "metadata": {},
   "source": [
    "### Are CS G2H and H2G significantly different?"
   ]
  },
  {
   "cell_type": "code",
   "execution_count": 70,
   "metadata": {
    "collapsed": false
   },
   "outputs": [
    {
     "data": {
      "text/plain": [
       "Ttest_indResult(statistic=3.6957101216497454, pvalue=0.00024359464722401136)"
      ]
     },
     "execution_count": 70,
     "metadata": {},
     "output_type": "execute_result"
    }
   ],
   "source": [
    "ttest_ind(df['CSG2H'], df['CSH2G'])"
   ]
  },
  {
   "cell_type": "markdown",
   "metadata": {},
   "source": [
    "# Are the sites different?"
   ]
  },
  {
   "cell_type": "markdown",
   "metadata": {},
   "source": [
    "###  G2H, are AB and CS different?"
   ]
  },
  {
   "cell_type": "code",
   "execution_count": 71,
   "metadata": {
    "collapsed": false
   },
   "outputs": [
    {
     "data": {
      "text/plain": [
       "Ttest_indResult(statistic=2.5537975340609735, pvalue=0.010952240931057244)"
      ]
     },
     "execution_count": 71,
     "metadata": {},
     "output_type": "execute_result"
    }
   ],
   "source": [
    "ttest_ind(df['ABG2H'], df['CSG2H'])"
   ]
  },
  {
   "cell_type": "markdown",
   "metadata": {},
   "source": [
    "### H2G are AB and CS different?"
   ]
  },
  {
   "cell_type": "code",
   "execution_count": 72,
   "metadata": {
    "collapsed": false
   },
   "outputs": [
    {
     "data": {
      "text/plain": [
       "Ttest_indResult(statistic=-10.844564485859513, pvalue=9.6136964049131893e-25)"
      ]
     },
     "execution_count": 72,
     "metadata": {},
     "output_type": "execute_result"
    }
   ],
   "source": [
    "ttest_ind(df['CSH2G'], df['ABH2G'])"
   ]
  },
  {
   "cell_type": "code",
   "execution_count": null,
   "metadata": {
    "collapsed": true
   },
   "outputs": [],
   "source": []
  }
 ],
 "metadata": {
  "kernelspec": {
   "display_name": "Python 3",
   "language": "python",
   "name": "python3"
  },
  "language_info": {
   "codemirror_mode": {
    "name": "ipython",
    "version": 3
   },
   "file_extension": ".py",
   "mimetype": "text/x-python",
   "name": "python",
   "nbconvert_exporter": "python",
   "pygments_lexer": "ipython3",
   "version": "3.5.1"
  }
 },
 "nbformat": 4,
 "nbformat_minor": 2
}
