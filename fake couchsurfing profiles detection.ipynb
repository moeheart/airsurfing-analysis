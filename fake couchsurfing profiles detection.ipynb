{
 "cells": [
  {
   "cell_type": "code",
   "execution_count": 1,
   "metadata": {
    "collapsed": true
   },
   "outputs": [],
   "source": [
    "import numpy as np"
   ]
  },
  {
   "cell_type": "code",
   "execution_count": 2,
   "metadata": {
    "collapsed": false
   },
   "outputs": [
    {
     "name": "stdout",
     "output_type": "stream",
     "text": [
      "Populating the interactive namespace from numpy and matplotlib\n"
     ]
    }
   ],
   "source": [
    "%pylab inline"
   ]
  },
  {
   "cell_type": "code",
   "execution_count": 3,
   "metadata": {
    "collapsed": true
   },
   "outputs": [],
   "source": [
    "import pandas"
   ]
  },
  {
   "cell_type": "code",
   "execution_count": 4,
   "metadata": {
    "collapsed": false
   },
   "outputs": [],
   "source": [
    "cs_df = pandas.read_csv('couchsurfing/clean_hosts.csv')\n",
    "\n",
    "def get_year(s):\n",
    "    try:\n",
    "        return datetime.datetime(int(s.split(\"Member since \")[1]), 1, 1)\n",
    "    except:\n",
    "        return None\n",
    "    \n",
    "cs_df['member_since'] = cs_df['member_since'].apply(get_year)"
   ]
  },
  {
   "cell_type": "code",
   "execution_count": 5,
   "metadata": {
    "collapsed": false
   },
   "outputs": [
    {
     "data": {
      "text/html": [
       "<div style=\"max-height:1000px;max-width:1500px;overflow:auto;\">\n",
       "<table border=\"1\" class=\"dataframe\">\n",
       "  <thead>\n",
       "    <tr style=\"text-align: right;\">\n",
       "      <th></th>\n",
       "      <th>_id</th>\n",
       "      <th>city</th>\n",
       "      <th>address_verify</th>\n",
       "      <th>country</th>\n",
       "      <th>education</th>\n",
       "      <th>hometown</th>\n",
       "      <th>language</th>\n",
       "      <th>last_login</th>\n",
       "      <th>member_since</th>\n",
       "      <th>occupation</th>\n",
       "      <th>...</th>\n",
       "      <th>phone_verify</th>\n",
       "      <th>profile_rate</th>\n",
       "      <th>references</th>\n",
       "      <th>response_rate</th>\n",
       "      <th>state</th>\n",
       "      <th>status</th>\n",
       "      <th>verified_status</th>\n",
       "      <th>member_since_int</th>\n",
       "      <th>references_int</th>\n",
       "      <th>convert_state</th>\n",
       "    </tr>\n",
       "  </thead>\n",
       "  <tbody>\n",
       "    <tr>\n",
       "      <th>0</th>\n",
       "      <td> ObjectId(56de216cc1c31ade04679190)</td>\n",
       "      <td>     Wadley</td>\n",
       "      <td> Address Not Verified</td>\n",
       "      <td> United States</td>\n",
       "      <td> No education listed</td>\n",
       "      <td> No hometown listed</td>\n",
       "      <td>   Fluent in English</td>\n",
       "      <td>  Last login over 6 years ago</td>\n",
       "      <td>2009-01-01</td>\n",
       "      <td> No occupation listed</td>\n",
       "      <td>...</td>\n",
       "      <td> Phone Not Verified</td>\n",
       "      <td> Profile 15% complete</td>\n",
       "      <td> 0 references</td>\n",
       "      <td> NaN</td>\n",
       "      <td>      AL</td>\n",
       "      <td>       Accepting Guests</td>\n",
       "      <td> Not Verified</td>\n",
       "      <td> 2009</td>\n",
       "      <td> 0</td>\n",
       "      <td> Alabama</td>\n",
       "    </tr>\n",
       "    <tr>\n",
       "      <th>1</th>\n",
       "      <td> ObjectId(56de2170c1c31ade04679191)</td>\n",
       "      <td> Adamsville</td>\n",
       "      <td> Address Not Verified</td>\n",
       "      <td> United States</td>\n",
       "      <td> No education listed</td>\n",
       "      <td> No hometown listed</td>\n",
       "      <td> No languages listed</td>\n",
       "      <td>  Last login over 2 years ago</td>\n",
       "      <td>2013-01-01</td>\n",
       "      <td> No occupation listed</td>\n",
       "      <td>...</td>\n",
       "      <td> Phone Not Verified</td>\n",
       "      <td> Profile 10% complete</td>\n",
       "      <td> 0 references</td>\n",
       "      <td> NaN</td>\n",
       "      <td>      AL</td>\n",
       "      <td>       Accepting Guests</td>\n",
       "      <td> Not Verified</td>\n",
       "      <td> 2013</td>\n",
       "      <td> 0</td>\n",
       "      <td> Alabama</td>\n",
       "    </tr>\n",
       "    <tr>\n",
       "      <th>2</th>\n",
       "      <td> ObjectId(56de2170c1c31ade04679192)</td>\n",
       "      <td> Graysville</td>\n",
       "      <td> Address Not Verified</td>\n",
       "      <td> United States</td>\n",
       "      <td> No education listed</td>\n",
       "      <td> No hometown listed</td>\n",
       "      <td>   Fluent in English</td>\n",
       "      <td> Last login about 4 years ago</td>\n",
       "      <td>2012-01-01</td>\n",
       "      <td> No occupation listed</td>\n",
       "      <td>...</td>\n",
       "      <td> Phone Not Verified</td>\n",
       "      <td> Profile 10% complete</td>\n",
       "      <td> 0 references</td>\n",
       "      <td> NaN</td>\n",
       "      <td>      AL</td>\n",
       "      <td> Maybe Accepting Guests</td>\n",
       "      <td> Not Verified</td>\n",
       "      <td> 2012</td>\n",
       "      <td> 0</td>\n",
       "      <td> Alabama</td>\n",
       "    </tr>\n",
       "    <tr>\n",
       "      <th>3</th>\n",
       "      <td> ObjectId(56de2177c1c31ade04679194)</td>\n",
       "      <td>  Abbeville</td>\n",
       "      <td> Address Not Verified</td>\n",
       "      <td> United States</td>\n",
       "      <td> No education listed</td>\n",
       "      <td> No hometown listed</td>\n",
       "      <td>   Fluent in English</td>\n",
       "      <td>  Last login over 3 years ago</td>\n",
       "      <td>2012-01-01</td>\n",
       "      <td> No occupation listed</td>\n",
       "      <td>...</td>\n",
       "      <td> Phone Not Verified</td>\n",
       "      <td> Profile 10% complete</td>\n",
       "      <td> 0 references</td>\n",
       "      <td> NaN</td>\n",
       "      <td> Alabama</td>\n",
       "      <td> Maybe Accepting Guests</td>\n",
       "      <td> Not Verified</td>\n",
       "      <td> 2012</td>\n",
       "      <td> 0</td>\n",
       "      <td> Alabama</td>\n",
       "    </tr>\n",
       "    <tr>\n",
       "      <th>4</th>\n",
       "      <td> ObjectId(56de2178c1c31ade04679195)</td>\n",
       "      <td>  Abbeville</td>\n",
       "      <td> Address Not Verified</td>\n",
       "      <td> United States</td>\n",
       "      <td> No education listed</td>\n",
       "      <td>     From Abbeville</td>\n",
       "      <td>   Fluent in English</td>\n",
       "      <td>  Last login over 6 years ago</td>\n",
       "      <td>2009-01-01</td>\n",
       "      <td> No occupation listed</td>\n",
       "      <td>...</td>\n",
       "      <td> Phone Not Verified</td>\n",
       "      <td> Profile 25% complete</td>\n",
       "      <td> 0 references</td>\n",
       "      <td> NaN</td>\n",
       "      <td> Alabama</td>\n",
       "      <td>       Accepting Guests</td>\n",
       "      <td> Not Verified</td>\n",
       "      <td> 2009</td>\n",
       "      <td> 0</td>\n",
       "      <td> Alabama</td>\n",
       "    </tr>\n",
       "  </tbody>\n",
       "</table>\n",
       "<p>5 rows × 25 columns</p>\n",
       "</div>"
      ],
      "text/plain": [
       "                                  _id        city        address_verify  \\\n",
       "0  ObjectId(56de216cc1c31ade04679190)      Wadley  Address Not Verified   \n",
       "1  ObjectId(56de2170c1c31ade04679191)  Adamsville  Address Not Verified   \n",
       "2  ObjectId(56de2170c1c31ade04679192)  Graysville  Address Not Verified   \n",
       "3  ObjectId(56de2177c1c31ade04679194)   Abbeville  Address Not Verified   \n",
       "4  ObjectId(56de2178c1c31ade04679195)   Abbeville  Address Not Verified   \n",
       "\n",
       "         country            education            hometown  \\\n",
       "0  United States  No education listed  No hometown listed   \n",
       "1  United States  No education listed  No hometown listed   \n",
       "2  United States  No education listed  No hometown listed   \n",
       "3  United States  No education listed  No hometown listed   \n",
       "4  United States  No education listed      From Abbeville   \n",
       "\n",
       "              language                    last_login member_since  \\\n",
       "0    Fluent in English   Last login over 6 years ago   2009-01-01   \n",
       "1  No languages listed   Last login over 2 years ago   2013-01-01   \n",
       "2    Fluent in English  Last login about 4 years ago   2012-01-01   \n",
       "3    Fluent in English   Last login over 3 years ago   2012-01-01   \n",
       "4    Fluent in English   Last login over 6 years ago   2009-01-01   \n",
       "\n",
       "             occupation      ...             phone_verify  \\\n",
       "0  No occupation listed      ...       Phone Not Verified   \n",
       "1  No occupation listed      ...       Phone Not Verified   \n",
       "2  No occupation listed      ...       Phone Not Verified   \n",
       "3  No occupation listed      ...       Phone Not Verified   \n",
       "4  No occupation listed      ...       Phone Not Verified   \n",
       "\n",
       "           profile_rate    references response_rate    state  \\\n",
       "0  Profile 15% complete  0 references           NaN       AL   \n",
       "1  Profile 10% complete  0 references           NaN       AL   \n",
       "2  Profile 10% complete  0 references           NaN       AL   \n",
       "3  Profile 10% complete  0 references           NaN  Alabama   \n",
       "4  Profile 25% complete  0 references           NaN  Alabama   \n",
       "\n",
       "                   status verified_status member_since_int references_int  \\\n",
       "0        Accepting Guests    Not Verified             2009              0   \n",
       "1        Accepting Guests    Not Verified             2013              0   \n",
       "2  Maybe Accepting Guests    Not Verified             2012              0   \n",
       "3  Maybe Accepting Guests    Not Verified             2012              0   \n",
       "4        Accepting Guests    Not Verified             2009              0   \n",
       "\n",
       "  convert_state  \n",
       "0       Alabama  \n",
       "1       Alabama  \n",
       "2       Alabama  \n",
       "3       Alabama  \n",
       "4       Alabama  \n",
       "\n",
       "[5 rows x 25 columns]"
      ]
     },
     "execution_count": 5,
     "metadata": {},
     "output_type": "execute_result"
    }
   ],
   "source": [
    "cs_df.head()"
   ]
  },
  {
   "cell_type": "code",
   "execution_count": 6,
   "metadata": {
    "collapsed": false
   },
   "outputs": [
    {
     "data": {
      "text/plain": [
       "Index(['_id', 'city', 'address_verify', 'country', 'education', 'hometown', 'language', 'last_login', 'member_since', 'occupation', 'payment_verify', 'people_age', 'people_id', 'people_name', 'people_sex', 'phone_verify', 'profile_rate', 'references', 'response_rate', 'state', 'status', 'verified_status', 'member_since_int', 'references_int', 'convert_state'], dtype='object')"
      ]
     },
     "execution_count": 6,
     "metadata": {},
     "output_type": "execute_result"
    }
   ],
   "source": [
    "cs_df.columns"
   ]
  },
  {
   "cell_type": "code",
   "execution_count": 7,
   "metadata": {
    "collapsed": false
   },
   "outputs": [
    {
     "data": {
      "text/plain": [
       "0      Last login over 6 years ago\n",
       "1      Last login over 2 years ago\n",
       "2     Last login about 4 years ago\n",
       "3      Last login over 3 years ago\n",
       "4      Last login over 6 years ago\n",
       "5      Last login over 3 years ago\n",
       "6      Last login over 6 years ago\n",
       "7      Last login over 3 years ago\n",
       "8      Last login over 3 years ago\n",
       "9      Last login over 3 years ago\n",
       "10     Last login over 6 years ago\n",
       "11     Last login over 6 years ago\n",
       "12     Last login over 6 years ago\n",
       "13     Last login over 3 years ago\n",
       "14     Last login over 6 years ago\n",
       "...\n",
       "1462660          Last login 6 months ago\n",
       "1462661          Last login 5 months ago\n",
       "1462662          Last login 6 months ago\n",
       "1462663          Last login 7 months ago\n",
       "1462664     Last login about 7 hours ago\n",
       "1462665     Last login about 7 hours ago\n",
       "1462666             Last login 1 day ago\n",
       "1462667            Last login 2 days ago\n",
       "1462668    Last login about 15 hours ago\n",
       "1462669             Last login 1 day ago\n",
       "1462670    Last login about 21 hours ago\n",
       "1462671     Last login about 3 hours ago\n",
       "1462672            Last login 4 days ago\n",
       "1462673     Last login about 2 hours ago\n",
       "1462674            Last login 2 days ago\n",
       "Name: last_login, Length: 1462675, dtype: object"
      ]
     },
     "execution_count": 7,
     "metadata": {},
     "output_type": "execute_result"
    }
   ],
   "source": [
    "cs_df['last_login']"
   ]
  },
  {
   "cell_type": "code",
   "execution_count": 8,
   "metadata": {
    "collapsed": false,
    "scrolled": true
   },
   "outputs": [
    {
     "data": {
      "text/plain": [
       "0 references                           1351926\n",
       "1  Reference 1Confirmed & Positive       23595\n",
       "1  Reference                             22892\n",
       "2  References 1Confirmed & Positive       6922\n",
       "2  References 2Confirmed & Positive       6034\n",
       "2  References                             4423\n",
       "3  References 2Confirmed & Positive       3275\n",
       "3  References 1Confirmed & Positive       2674\n",
       "3  References 3Confirmed & Positive       2465\n",
       "4  References 3Confirmed & Positive       1863\n",
       "4  References 2Confirmed & Positive       1710\n",
       "3  References                             1445\n",
       "4  References 4Confirmed & Positive       1292\n",
       "4  References 1Confirmed & Positive       1202\n",
       "5  References 3Confirmed & Positive       1181\n",
       "...\n",
       "66  References 52Confirmed & Positive      1\n",
       "70  References 68Confirmed & Positive      1\n",
       "111  References 92Confirmed & Positive     1\n",
       "68  References 24Confirmed & Positive      1\n",
       "164  References 101Confirmed & Positive    1\n",
       "125  References 80Confirmed & Positive     1\n",
       "244  References 157Confirmed & Positive    1\n",
       "80  References 69Confirmed & Positive      1\n",
       "82  References 69Confirmed & Positive      1\n",
       "154  References 134Confirmed & Positive    1\n",
       "111  References 19Confirmed & Positive     1\n",
       "57  References 22Confirmed & Positive      1\n",
       "96  References 66Confirmed & Positive      1\n",
       "62  References 33Confirmed & Positive      1\n",
       "33  References 32Confirmed & Positive      1\n",
       "Length: 2140, dtype: int64"
      ]
     },
     "execution_count": 8,
     "metadata": {},
     "output_type": "execute_result"
    }
   ],
   "source": [
    "cs_df['references'].value_counts()"
   ]
  },
  {
   "cell_type": "code",
   "execution_count": 9,
   "metadata": {
    "collapsed": false
   },
   "outputs": [
    {
     "data": {
      "text/plain": [
       "0.9242832481583401"
      ]
     },
     "execution_count": 9,
     "metadata": {},
     "output_type": "execute_result"
    }
   ],
   "source": [
    "len(cs_df[cs_df['references_int']==0]) / len(cs_df)"
   ]
  },
  {
   "cell_type": "markdown",
   "metadata": {},
   "source": [
    "# 92% of cs profiles have 0 references!"
   ]
  },
  {
   "cell_type": "code",
   "execution_count": 10,
   "metadata": {
    "collapsed": false
   },
   "outputs": [],
   "source": [
    "def make_time_ago(s):\n",
    "    time_ago = None\n",
    "    num = None\n",
    "    unit = None\n",
    "    num_str, unit = s.split(' ')[-3:-1]\n",
    "    try:\n",
    "        num = int(num_str)\n",
    "    except ValueError:\n",
    "        if num_str  == 'a':\n",
    "            num, unit = 1, 'minute'\n",
    "        elif num_str == 'long':\n",
    "            num, unit = 10, 'year'\n",
    "    unit = unit[:-1] if unit.endswith('s') else unit\n",
    "    if unit == 'year':\n",
    "        time_ago = datetime.timedelta(days = num*365)\n",
    "    elif unit == 'month':\n",
    "        time_ago = datetime.timedelta(days = num*30)\n",
    "    elif unit == 'day':\n",
    "        time_ago = datetime.timedelta(days = num)\n",
    "    elif unit == 'hour':\n",
    "        time_ago = datetime.timedelta(hours = num)\n",
    "    elif unit == 'minute':\n",
    "        time_ago = datetime.timedelta(minutes = num)\n",
    "    return time_ago.days"
   ]
  },
  {
   "cell_type": "code",
   "execution_count": 11,
   "metadata": {
    "collapsed": true
   },
   "outputs": [],
   "source": [
    "cs_hosts = cs_df[cs_df['status'] == 'Accepting Guests']"
   ]
  },
  {
   "cell_type": "code",
   "execution_count": 12,
   "metadata": {
    "collapsed": false
   },
   "outputs": [
    {
     "data": {
      "text/plain": [
       "<matplotlib.axes._subplots.AxesSubplot at 0x7f210c1f77b8>"
      ]
     },
     "execution_count": 12,
     "metadata": {},
     "output_type": "execute_result"
    },
    {
     "data": {
      "image/png": "[encoded data removed]",
      "text/plain": [
       "<matplotlib.figure.Figure at 0x7f210c208630>"
      ]
     },
     "metadata": {},
     "output_type": "display_data"
    }
   ],
   "source": [
    "cs_df['any_verification'] = cs_df['verified_status'].apply(lambda x: x != 'Not Verified')\n",
    "cs_df['any_references'] = cs_df['references_int'].apply(lambda x: int(x != 0))\n",
    "any_ver_ref = cs_df[['member_since_int','any_verification','any_references']].groupby(by='member_since_int').aggregate(np.mean)\n",
    "any_ver_ref.plot(title='Couchsurfing, rate of: \\n verificaion and references \\n over time')"
   ]
  },
  {
   "cell_type": "code",
   "execution_count": 13,
   "metadata": {
    "collapsed": false,
    "scrolled": true
   },
   "outputs": [
    {
     "name": "stderr",
     "output_type": "stream",
     "text": [
      "/usr/local/lib/python3.4/dist-packages/ipykernel/__main__.py:1: SettingWithCopyWarning: \n",
      "A value is trying to be set on a copy of a slice from a DataFrame.\n",
      "Try using .loc[row_indexer,col_indexer] = value instead\n",
      "\n",
      "See the the caveats in the documentation: http://pandas.pydata.org/pandas-docs/stable/indexing.html#indexing-view-versus-copy\n",
      "  if __name__ == '__main__':\n",
      "/usr/local/lib/python3.4/dist-packages/ipykernel/__main__.py:2: SettingWithCopyWarning: \n",
      "A value is trying to be set on a copy of a slice from a DataFrame.\n",
      "Try using .loc[row_indexer,col_indexer] = value instead\n",
      "\n",
      "See the the caveats in the documentation: http://pandas.pydata.org/pandas-docs/stable/indexing.html#indexing-view-versus-copy\n",
      "  from ipykernel import kernelapp as app\n",
      "/usr/local/lib/python3.4/dist-packages/ipykernel/__main__.py:3: SettingWithCopyWarning: \n",
      "A value is trying to be set on a copy of a slice from a DataFrame.\n",
      "Try using .loc[row_indexer,col_indexer] = value instead\n",
      "\n",
      "See the the caveats in the documentation: http://pandas.pydata.org/pandas-docs/stable/indexing.html#indexing-view-versus-copy\n",
      "  app.launch_new_instance()\n"
     ]
    },
    {
     "data": {
      "text/plain": [
       "<matplotlib.axes._subplots.AxesSubplot at 0x7f210c208128>"
      ]
     },
     "execution_count": 13,
     "metadata": {},
     "output_type": "execute_result"
    },
    {
     "data": {
      "image/png": "[encoded data removed]",
      "text/plain": [
       "<matplotlib.figure.Figure at 0x7f212dae2f28>"
      ]
     },
     "metadata": {},
     "output_type": "display_data"
    }
   ],
   "source": [
    "cs_hosts['any_verification'] = cs_hosts['verified_status'].apply(lambda x: int(x != 'Not Verified'))\n",
    "cs_hosts['any_references'] = cs_hosts['references_int'].apply(lambda x: int(x != 0))\n",
    "cs_hosts['any_safety'] = cs_hosts[['any_references','any_verification']].apply(lambda row: row[0] or row[1], axis=1)\n",
    "\n",
    "any_ver_ref_hosts = cs_hosts[['member_since_int','any_verification','any_references','any_safety','people_id']].groupby(\n",
    "        by='member_since_int').aggregate(\n",
    "        {'any_verification':np.mean, 'any_references':np.mean, 'people_id':lambda x: len(x)/160000})\n",
    "any_ver_ref_hosts.columns = ['% any_references','% any_verification','normed signups']\n",
    "any_ver_ref_hosts.ix[2003:2015].plot(title='Couchsurfing, rate of: \\n verificaion and references \\n by signup year \\n for \"Accepting Guests only\"')"
   ]
  },
  {
   "cell_type": "code",
   "execution_count": null,
   "metadata": {
    "collapsed": true
   },
   "outputs": [],
   "source": []
  },
  {
   "cell_type": "code",
   "execution_count": 14,
   "metadata": {
    "collapsed": false
   },
   "outputs": [
    {
     "data": {
      "text/plain": [
       "<matplotlib.axes._subplots.AxesSubplot at 0x7f21413e92e8>"
      ]
     },
     "execution_count": 14,
     "metadata": {},
     "output_type": "execute_result"
    },
    {
     "data": {
      "image/png": "[encoded data removed]",
      "text/plain": [
       "<matplotlib.figure.Figure at 0x7f21413ed160>"
      ]
     },
     "metadata": {},
     "output_type": "display_data"
    }
   ],
   "source": [
    "any_ver_ref_hosts_total = cs_hosts[['member_since_int','any_verification','any_references','any_safety','people_id']].groupby(\n",
    "    by='member_since_int').aggregate(\n",
    "    {'any_verification':sum, 'any_references':sum, 'any_safety':sum, 'people_id':len})\n",
    "colnames = list(any_ver_ref_hosts_total.columns)\n",
    "rep_colnames = ['signups' if c == 'people_id' else c for c in colnames]\n",
    "any_ver_ref_hosts_total.columns = rep_colnames\n",
    "any_ver_ref_hosts_total.ix[2003:2015].plot(title='Couchsurfing, total: \\n verificaion, references and signups\\n by signup year \\n for \"Accepting Guests only\"')"
   ]
  },
  {
   "cell_type": "code",
   "execution_count": 15,
   "metadata": {
    "collapsed": false
   },
   "outputs": [
    {
     "ename": "KeyError",
     "evalue": "\"['last_login_obj'] not in index\"",
     "output_type": "error",
     "traceback": [
      "\u001b[1;31m---------------------------------------------------------------------------\u001b[0m",
      "\u001b[1;31mKeyError\u001b[0m                                  Traceback (most recent call last)",
      "\u001b[1;32m<ipython-input-15-ecacf7fe2085>\u001b[0m in \u001b[0;36m<module>\u001b[1;34m()\u001b[0m\n\u001b[0;32m      1\u001b[0m \u001b[0mcs_df\u001b[0m\u001b[1;33m[\u001b[0m\u001b[1;34m'last_login_days'\u001b[0m\u001b[1;33m]\u001b[0m \u001b[1;33m=\u001b[0m \u001b[0mcs_df\u001b[0m\u001b[1;33m[\u001b[0m\u001b[1;34m'last_login'\u001b[0m\u001b[1;33m]\u001b[0m\u001b[1;33m.\u001b[0m\u001b[0mapply\u001b[0m\u001b[1;33m(\u001b[0m\u001b[0mmake_time_ago\u001b[0m\u001b[1;33m)\u001b[0m\u001b[1;33m\u001b[0m\u001b[0m\n\u001b[1;32m----> 2\u001b[1;33m \u001b[0mlast_login\u001b[0m \u001b[1;33m=\u001b[0m \u001b[0mcs_df\u001b[0m\u001b[1;33m[\u001b[0m\u001b[1;33m[\u001b[0m\u001b[1;34m'member_since_int'\u001b[0m\u001b[1;33m,\u001b[0m\u001b[1;34m'last_login_obj'\u001b[0m\u001b[1;33m]\u001b[0m\u001b[1;33m]\u001b[0m\u001b[1;33m.\u001b[0m\u001b[0mgroupby\u001b[0m\u001b[1;33m(\u001b[0m\u001b[0mby\u001b[0m\u001b[1;33m=\u001b[0m\u001b[1;34m'member_since_int'\u001b[0m\u001b[1;33m)\u001b[0m\u001b[1;33m.\u001b[0m\u001b[0maggregate\u001b[0m\u001b[1;33m(\u001b[0m\u001b[0mnp\u001b[0m\u001b[1;33m.\u001b[0m\u001b[0mmean\u001b[0m\u001b[1;33m)\u001b[0m\u001b[1;33m\u001b[0m\u001b[0m\n\u001b[0m\u001b[0;32m      3\u001b[0m \u001b[0mlast_login\u001b[0m\u001b[1;33m.\u001b[0m\u001b[0mplot\u001b[0m\u001b[1;33m(\u001b[0m\u001b[0mtitle\u001b[0m\u001b[1;33m=\u001b[0m\u001b[1;34m'Average amount of days since last login'\u001b[0m\u001b[1;33m)\u001b[0m\u001b[1;33m\u001b[0m\u001b[0m\n",
      "\u001b[1;32m/usr/lib/python3/dist-packages/pandas/core/frame.py\u001b[0m in \u001b[0;36m__getitem__\u001b[1;34m(self, key)\u001b[0m\n\u001b[0;32m   1735\u001b[0m         \u001b[1;32mif\u001b[0m \u001b[0misinstance\u001b[0m\u001b[1;33m(\u001b[0m\u001b[0mkey\u001b[0m\u001b[1;33m,\u001b[0m \u001b[1;33m(\u001b[0m\u001b[0mSeries\u001b[0m\u001b[1;33m,\u001b[0m \u001b[0mnp\u001b[0m\u001b[1;33m.\u001b[0m\u001b[0mndarray\u001b[0m\u001b[1;33m,\u001b[0m \u001b[0mIndex\u001b[0m\u001b[1;33m,\u001b[0m \u001b[0mlist\u001b[0m\u001b[1;33m)\u001b[0m\u001b[1;33m)\u001b[0m\u001b[1;33m:\u001b[0m\u001b[1;33m\u001b[0m\u001b[0m\n\u001b[0;32m   1736\u001b[0m             \u001b[1;31m# either boolean or fancy integer index\u001b[0m\u001b[1;33m\u001b[0m\u001b[1;33m\u001b[0m\u001b[0m\n\u001b[1;32m-> 1737\u001b[1;33m             \u001b[1;32mreturn\u001b[0m \u001b[0mself\u001b[0m\u001b[1;33m.\u001b[0m\u001b[0m_getitem_array\u001b[0m\u001b[1;33m(\u001b[0m\u001b[0mkey\u001b[0m\u001b[1;33m)\u001b[0m\u001b[1;33m\u001b[0m\u001b[0m\n\u001b[0m\u001b[0;32m   1738\u001b[0m         \u001b[1;32melif\u001b[0m \u001b[0misinstance\u001b[0m\u001b[1;33m(\u001b[0m\u001b[0mkey\u001b[0m\u001b[1;33m,\u001b[0m \u001b[0mDataFrame\u001b[0m\u001b[1;33m)\u001b[0m\u001b[1;33m:\u001b[0m\u001b[1;33m\u001b[0m\u001b[0m\n\u001b[0;32m   1739\u001b[0m             \u001b[1;32mreturn\u001b[0m \u001b[0mself\u001b[0m\u001b[1;33m.\u001b[0m\u001b[0m_getitem_frame\u001b[0m\u001b[1;33m(\u001b[0m\u001b[0mkey\u001b[0m\u001b[1;33m)\u001b[0m\u001b[1;33m\u001b[0m\u001b[0m\n",
      "\u001b[1;32m/usr/lib/python3/dist-packages/pandas/core/frame.py\u001b[0m in \u001b[0;36m_getitem_array\u001b[1;34m(self, key)\u001b[0m\n\u001b[0;32m   1779\u001b[0m             \u001b[1;32mreturn\u001b[0m \u001b[0mself\u001b[0m\u001b[1;33m.\u001b[0m\u001b[0mtake\u001b[0m\u001b[1;33m(\u001b[0m\u001b[0mindexer\u001b[0m\u001b[1;33m,\u001b[0m \u001b[0maxis\u001b[0m\u001b[1;33m=\u001b[0m\u001b[1;36m0\u001b[0m\u001b[1;33m,\u001b[0m \u001b[0mconvert\u001b[0m\u001b[1;33m=\u001b[0m\u001b[1;32mFalse\u001b[0m\u001b[1;33m)\u001b[0m\u001b[1;33m\u001b[0m\u001b[0m\n\u001b[0;32m   1780\u001b[0m         \u001b[1;32melse\u001b[0m\u001b[1;33m:\u001b[0m\u001b[1;33m\u001b[0m\u001b[0m\n\u001b[1;32m-> 1781\u001b[1;33m             \u001b[0mindexer\u001b[0m \u001b[1;33m=\u001b[0m \u001b[0mself\u001b[0m\u001b[1;33m.\u001b[0m\u001b[0mix\u001b[0m\u001b[1;33m.\u001b[0m\u001b[0m_convert_to_indexer\u001b[0m\u001b[1;33m(\u001b[0m\u001b[0mkey\u001b[0m\u001b[1;33m,\u001b[0m \u001b[0maxis\u001b[0m\u001b[1;33m=\u001b[0m\u001b[1;36m1\u001b[0m\u001b[1;33m)\u001b[0m\u001b[1;33m\u001b[0m\u001b[0m\n\u001b[0m\u001b[0;32m   1782\u001b[0m             \u001b[1;32mreturn\u001b[0m \u001b[0mself\u001b[0m\u001b[1;33m.\u001b[0m\u001b[0mtake\u001b[0m\u001b[1;33m(\u001b[0m\u001b[0mindexer\u001b[0m\u001b[1;33m,\u001b[0m \u001b[0maxis\u001b[0m\u001b[1;33m=\u001b[0m\u001b[1;36m1\u001b[0m\u001b[1;33m,\u001b[0m \u001b[0mconvert\u001b[0m\u001b[1;33m=\u001b[0m\u001b[1;32mTrue\u001b[0m\u001b[1;33m)\u001b[0m\u001b[1;33m\u001b[0m\u001b[0m\n\u001b[0;32m   1783\u001b[0m \u001b[1;33m\u001b[0m\u001b[0m\n",
      "\u001b[1;32m/usr/lib/python3/dist-packages/pandas/core/indexing.py\u001b[0m in \u001b[0;36m_convert_to_indexer\u001b[1;34m(self, obj, axis, is_setter)\u001b[0m\n\u001b[0;32m   1133\u001b[0m                     \u001b[1;32mif\u001b[0m \u001b[0misinstance\u001b[0m\u001b[1;33m(\u001b[0m\u001b[0mobj\u001b[0m\u001b[1;33m,\u001b[0m \u001b[0mtuple\u001b[0m\u001b[1;33m)\u001b[0m \u001b[1;32mand\u001b[0m \u001b[0mis_setter\u001b[0m\u001b[1;33m:\u001b[0m\u001b[1;33m\u001b[0m\u001b[0m\n\u001b[0;32m   1134\u001b[0m                         \u001b[1;32mreturn\u001b[0m \u001b[1;33m{\u001b[0m\u001b[1;34m'key'\u001b[0m\u001b[1;33m:\u001b[0m \u001b[0mobj\u001b[0m\u001b[1;33m}\u001b[0m\u001b[1;33m\u001b[0m\u001b[0m\n\u001b[1;32m-> 1135\u001b[1;33m                     \u001b[1;32mraise\u001b[0m \u001b[0mKeyError\u001b[0m\u001b[1;33m(\u001b[0m\u001b[1;34m'%s not in index'\u001b[0m \u001b[1;33m%\u001b[0m \u001b[0mobjarr\u001b[0m\u001b[1;33m[\u001b[0m\u001b[0mmask\u001b[0m\u001b[1;33m]\u001b[0m\u001b[1;33m)\u001b[0m\u001b[1;33m\u001b[0m\u001b[0m\n\u001b[0m\u001b[0;32m   1136\u001b[0m \u001b[1;33m\u001b[0m\u001b[0m\n\u001b[0;32m   1137\u001b[0m                 \u001b[1;32mreturn\u001b[0m \u001b[0m_values_from_object\u001b[0m\u001b[1;33m(\u001b[0m\u001b[0mindexer\u001b[0m\u001b[1;33m)\u001b[0m\u001b[1;33m\u001b[0m\u001b[0m\n",
      "\u001b[1;31mKeyError\u001b[0m: \"['last_login_obj'] not in index\""
     ]
    }
   ],
   "source": [
    "cs_df['last_login_days'] = cs_df['last_login'].apply(make_time_ago)\n",
    "last_login = cs_df[['member_since_int','last_login_obj']].groupby(by='member_since_int').aggregate(np.mean)\n",
    "last_login.plot(title='Average amount of days since last login')\n"
   ]
  },
  {
   "cell_type": "code",
   "execution_count": null,
   "metadata": {
    "collapsed": false
   },
   "outputs": [],
   "source": [
    "cs_hosts['last_login_days'] = cs_hosts['last_login'].apply(make_time_ago)\n",
    "last_login_hosts = cs_hosts[['member_since_int','last_login_obj']].groupby(by='member_since_int').aggregate(np.mean)\n",
    "last_login_hosts.plot(title='Average amount of days since last login')"
   ]
  },
  {
   "cell_type": "code",
   "execution_count": 17,
   "metadata": {
    "collapsed": true
   },
   "outputs": [],
   "source": [
    "ab_df = pandas.read_csv('2016-02-16/listings.csv.gz', compression='gzip', usecols=['host_id','number_of_reviews','host_since'])"
   ]
  },
  {
   "cell_type": "code",
   "execution_count": 18,
   "metadata": {
    "collapsed": true
   },
   "outputs": [],
   "source": [
    "ab_df['any_reviews']  = ab_df['number_of_reviews'].apply(lambda x: int(x!=0))"
   ]
  },
  {
   "cell_type": "code",
   "execution_count": 45,
   "metadata": {
    "collapsed": false
   },
   "outputs": [
    {
     "data": {
      "text/plain": [
       "156934"
      ]
     },
     "execution_count": 45,
     "metadata": {},
     "output_type": "execute_result"
    }
   ],
   "source": [
    "len(ab_df[ab_df['any_reviews']==True].groupby('host_id').agg(len))"
   ]
  },
  {
   "cell_type": "code",
   "execution_count": 25,
   "metadata": {
    "collapsed": false
   },
   "outputs": [],
   "source": [
    "from collections import defaultdict"
   ]
  },
  {
   "cell_type": "code",
   "execution_count": 29,
   "metadata": {
    "collapsed": false
   },
   "outputs": [],
   "source": [
    "compdict = defaultdict(dict)"
   ]
  },
  {
   "cell_type": "code",
   "execution_count": 50,
   "metadata": {
    "collapsed": false
   },
   "outputs": [
    {
     "data": {
      "text/plain": [
       "337213"
      ]
     },
     "execution_count": 50,
     "metadata": {},
     "output_type": "execute_result"
    }
   ],
   "source": [
    "len(ab_df)"
   ]
  },
  {
   "cell_type": "code",
   "execution_count": 51,
   "metadata": {
    "collapsed": false
   },
   "outputs": [],
   "source": [
    "compdict['Total listings']['Couchsurfing'] = len(cs_df)\n",
    "compdict['Total listings']['Airbnb'] = len(ab_df)"
   ]
  },
  {
   "cell_type": "code",
   "execution_count": 33,
   "metadata": {
    "collapsed": false
   },
   "outputs": [],
   "source": [
    "compdict['Total hosts']['Airbnb'] = len(ab_df.groupby('host_id').agg(len))"
   ]
  },
  {
   "cell_type": "code",
   "execution_count": 35,
   "metadata": {
    "collapsed": false
   },
   "outputs": [],
   "source": [
    "compdict['Total hosts']['Couchsurfing'] = len(cs_hosts)"
   ]
  },
  {
   "cell_type": "code",
   "execution_count": 46,
   "metadata": {
    "collapsed": false
   },
   "outputs": [],
   "source": [
    "compdict['Trusted hosts']['Couchsurfing'] = len(cs_hosts[cs_hosts['any_safety']>=1])\n",
    "compdict['Trusted hosts']['Airbnb'] = len(ab_df[ab_df['any_reviews']==True].groupby('host_id').agg(len))"
   ]
  },
  {
   "cell_type": "code",
   "execution_count": 52,
   "metadata": {
    "collapsed": true
   },
   "outputs": [],
   "source": [
    "comptable = pandas.DataFrame.from_dict(compdict,orient='index')"
   ]
  },
  {
   "cell_type": "code",
   "execution_count": null,
   "metadata": {
    "collapsed": true
   },
   "outputs": [],
   "source": [
    "pandas.DataFrame.to_latex(float)"
   ]
  },
  {
   "cell_type": "code",
   "execution_count": 60,
   "metadata": {
    "collapsed": false
   },
   "outputs": [
    {
     "data": {
      "text/plain": [
       "'999,999'"
      ]
     },
     "execution_count": 60,
     "metadata": {},
     "output_type": "execute_result"
    }
   ],
   "source": [
    "'{:,}'.format(999999)"
   ]
  },
  {
   "cell_type": "code",
   "execution_count": 61,
   "metadata": {
    "collapsed": false
   },
   "outputs": [
    {
     "name": "stdout",
     "output_type": "stream",
     "text": [
      "\\begin{tabular}{lrr}\n",
      "\\toprule\n",
      "{} &  Airbnb & Couchsurfing \\\\\n",
      "\\midrule\n",
      "Total listings & 337,213 &    1,462,675 \\\\\n",
      "Total hosts    & 220,434 &      249,443 \\\\\n",
      "Trusted hosts  & 156,934 &       54,258 \\\\\n",
      "\\bottomrule\n",
      "\\end{tabular}\n",
      "\n"
     ]
    }
   ],
   "source": [
    "nform = lambda x: '{:,}'.format(x)\n",
    "print(comptable.ix[['Total listings', 'Total hosts', 'Trusted hosts']].to_latex(formatters=[nform, nform]))"
   ]
  },
  {
   "cell_type": "code",
   "execution_count": null,
   "metadata": {
    "collapsed": false,
    "scrolled": true
   },
   "outputs": [],
   "source": [
    "ab_signup_year = ab_df.groupby(by='host_since').aggregate({'any_reviews':sum, 'host_id':len})"
   ]
  },
  {
   "cell_type": "code",
   "execution_count": null,
   "metadata": {
    "collapsed": false
   },
   "outputs": [],
   "source": [
    "ab_signup_year.plot(figsize(8,6),title='Airbnb hosts:\\n signups over time \\n all, versus at least 1 review')"
   ]
  },
  {
   "cell_type": "code",
   "execution_count": null,
   "metadata": {
    "collapsed": false
   },
   "outputs": [],
   "source": [
    "len(ab_df[ab_df['number_of_reviews']==0]) / len(ab_df)"
   ]
  }
 ],
 "metadata": {
  "kernelspec": {
   "display_name": "Python 3",
   "language": "python",
   "name": "python3"
  },
  "language_info": {
   "codemirror_mode": {
    "name": "ipython",
    "version": 3
   },
   "file_extension": ".py",
   "mimetype": "text/x-python",
   "name": "python",
   "nbconvert_exporter": "python",
   "pygments_lexer": "ipython3",
   "version": "3.4.3+"
  }
 },
 "nbformat": 4,
 "nbformat_minor": 0
}
