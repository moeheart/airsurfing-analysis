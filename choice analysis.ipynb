{
 "cells": [
  {
   "cell_type": "code",
   "execution_count": 1,
   "metadata": {
    "collapsed": false
   },
   "outputs": [
    {
     "name": "stdout",
     "output_type": "stream",
     "text": [
      "Populating the interactive namespace from numpy and matplotlib\n"
     ]
    }
   ],
   "source": [
    "import pandas\n",
    "import datetime\n",
    "%pylab inline"
   ]
  },
  {
   "cell_type": "code",
   "execution_count": 2,
   "metadata": {
    "collapsed": false
   },
   "outputs": [],
   "source": [
    "ab_loc = pandas.read_csv('2016-02-16/listings.csv.gz', compression='gzip', usecols=['host_id','city','state','price','number_of_reviews'])"
   ]
  },
  {
   "cell_type": "code",
   "execution_count": 3,
   "metadata": {
    "collapsed": false
   },
   "outputs": [
    {
     "name": "stdout",
     "output_type": "stream",
     "text": [
      "337213\n",
      "336360\n"
     ]
    }
   ],
   "source": [
    "print(len(ab_loc))\n",
    "ab_loc.dropna(inplace=True)\n",
    "print(len(ab_loc))"
   ]
  },
  {
   "cell_type": "code",
   "execution_count": 4,
   "metadata": {
    "collapsed": false
   },
   "outputs": [],
   "source": [
    "ab_loc['city'] = ab_loc['city'].apply(lambda x: x.strip().lower())\n",
    "ab_loc['state'] = ab_loc['state'].apply(lambda x: x.strip().lower())\n",
    "ab_loc['citystate'] = ab_loc['city'] + '_' + ab_loc['state']\n",
    "ab_loc['price'] = ab_loc['price'].apply(lambda x: float(x.split('$')[1].replace(',','')) )"
   ]
  },
  {
   "cell_type": "code",
   "execution_count": 5,
   "metadata": {
    "collapsed": false
   },
   "outputs": [
    {
     "data": {
      "text/html": [
       "<div style=\"max-height:1000px;max-width:1500px;overflow:auto;\">\n",
       "<table border=\"1\" class=\"dataframe\">\n",
       "  <thead>\n",
       "    <tr style=\"text-align: right;\">\n",
       "      <th></th>\n",
       "      <th>host_id</th>\n",
       "      <th>city</th>\n",
       "      <th>state</th>\n",
       "      <th>price</th>\n",
       "      <th>number_of_reviews</th>\n",
       "      <th>citystate</th>\n",
       "    </tr>\n",
       "  </thead>\n",
       "  <tbody>\n",
       "    <tr>\n",
       "      <th>0</th>\n",
       "      <td>  5803</td>\n",
       "      <td>    washington</td>\n",
       "      <td> dc</td>\n",
       "      <td>  55</td>\n",
       "      <td> 13</td>\n",
       "      <td>    washington_dc</td>\n",
       "    </tr>\n",
       "    <tr>\n",
       "      <th>2</th>\n",
       "      <td> 36016</td>\n",
       "      <td> hollidaysburg</td>\n",
       "      <td> pa</td>\n",
       "      <td>  95</td>\n",
       "      <td> 18</td>\n",
       "      <td> hollidaysburg_pa</td>\n",
       "    </tr>\n",
       "    <tr>\n",
       "      <th>3</th>\n",
       "      <td> 38067</td>\n",
       "      <td>         kihei</td>\n",
       "      <td> hi</td>\n",
       "      <td> 100</td>\n",
       "      <td>  4</td>\n",
       "      <td>         kihei_hi</td>\n",
       "    </tr>\n",
       "    <tr>\n",
       "      <th>6</th>\n",
       "      <td> 49162</td>\n",
       "      <td>       paauilo</td>\n",
       "      <td> hi</td>\n",
       "      <td> 120</td>\n",
       "      <td>  2</td>\n",
       "      <td>       paauilo_hi</td>\n",
       "    </tr>\n",
       "    <tr>\n",
       "      <th>7</th>\n",
       "      <td> 55469</td>\n",
       "      <td>     key largo</td>\n",
       "      <td> fl</td>\n",
       "      <td> 200</td>\n",
       "      <td> 12</td>\n",
       "      <td>     key largo_fl</td>\n",
       "    </tr>\n",
       "  </tbody>\n",
       "</table>\n",
       "</div>"
      ],
      "text/plain": [
       "   host_id           city state  price  number_of_reviews         citystate\n",
       "0     5803     washington    dc     55                 13     washington_dc\n",
       "2    36016  hollidaysburg    pa     95                 18  hollidaysburg_pa\n",
       "3    38067          kihei    hi    100                  4          kihei_hi\n",
       "6    49162        paauilo    hi    120                  2        paauilo_hi\n",
       "7    55469      key largo    fl    200                 12      key largo_fl"
      ]
     },
     "execution_count": 5,
     "metadata": {},
     "output_type": "execute_result"
    }
   ],
   "source": [
    "ab_refver = ab_loc[ab_loc['number_of_reviews']>=1]\n",
    "ab_refver.head()"
   ]
  },
  {
   "cell_type": "code",
   "execution_count": 6,
   "metadata": {
    "collapsed": true
   },
   "outputs": [],
   "source": [
    "ab_lookup = ab_refver[['citystate','price']]"
   ]
  },
  {
   "cell_type": "code",
   "execution_count": 7,
   "metadata": {
    "collapsed": false,
    "scrolled": true
   },
   "outputs": [],
   "source": [
    "ab_lookup = ab_lookup.reset_index(drop=True)"
   ]
  },
  {
   "cell_type": "code",
   "execution_count": null,
   "metadata": {
    "collapsed": true
   },
   "outputs": [],
   "source": []
  },
  {
   "cell_type": "markdown",
   "metadata": {},
   "source": [
    "# Q: at what max_price does an AB city have n hosts?"
   ]
  },
  {
   "cell_type": "code",
   "execution_count": 8,
   "metadata": {
    "collapsed": false,
    "scrolled": true
   },
   "outputs": [
    {
     "data": {
      "text/html": [
       "<div style=\"max-height:1000px;max-width:1500px;overflow:auto;\">\n",
       "<table border=\"1\" class=\"dataframe\">\n",
       "  <thead>\n",
       "    <tr style=\"text-align: right;\">\n",
       "      <th></th>\n",
       "      <th>host_id</th>\n",
       "      <th>city</th>\n",
       "      <th>state</th>\n",
       "      <th>price</th>\n",
       "      <th>number_of_reviews</th>\n",
       "      <th>citystate</th>\n",
       "    </tr>\n",
       "  </thead>\n",
       "  <tbody>\n",
       "    <tr>\n",
       "      <th>201242</th>\n",
       "      <td> 1682188</td>\n",
       "      <td> san francisco</td>\n",
       "      <td> ca</td>\n",
       "      <td> 30</td>\n",
       "      <td> 11</td>\n",
       "      <td> san francisco_ca</td>\n",
       "    </tr>\n",
       "    <tr>\n",
       "      <th>32566 </th>\n",
       "      <td> 1682188</td>\n",
       "      <td> san francisco</td>\n",
       "      <td> ca</td>\n",
       "      <td> 30</td>\n",
       "      <td> 13</td>\n",
       "      <td> san francisco_ca</td>\n",
       "    </tr>\n",
       "    <tr>\n",
       "      <th>159221</th>\n",
       "      <td> 1682188</td>\n",
       "      <td> san francisco</td>\n",
       "      <td> ca</td>\n",
       "      <td> 30</td>\n",
       "      <td> 15</td>\n",
       "      <td> san francisco_ca</td>\n",
       "    </tr>\n",
       "    <tr>\n",
       "      <th>327785</th>\n",
       "      <td> 1682188</td>\n",
       "      <td> san francisco</td>\n",
       "      <td> ca</td>\n",
       "      <td> 30</td>\n",
       "      <td> 16</td>\n",
       "      <td> san francisco_ca</td>\n",
       "    </tr>\n",
       "    <tr>\n",
       "      <th>327782</th>\n",
       "      <td> 1682188</td>\n",
       "      <td> san francisco</td>\n",
       "      <td> ca</td>\n",
       "      <td> 30</td>\n",
       "      <td> 11</td>\n",
       "      <td> san francisco_ca</td>\n",
       "    </tr>\n",
       "  </tbody>\n",
       "</table>\n",
       "</div>"
      ],
      "text/plain": [
       "        host_id           city state  price  number_of_reviews  \\\n",
       "201242  1682188  san francisco    ca     30                 11   \n",
       "32566   1682188  san francisco    ca     30                 13   \n",
       "159221  1682188  san francisco    ca     30                 15   \n",
       "327785  1682188  san francisco    ca     30                 16   \n",
       "327782  1682188  san francisco    ca     30                 11   \n",
       "\n",
       "               citystate  \n",
       "201242  san francisco_ca  \n",
       "32566   san francisco_ca  \n",
       "159221  san francisco_ca  \n",
       "327785  san francisco_ca  \n",
       "327782  san francisco_ca  "
      ]
     },
     "execution_count": 8,
     "metadata": {},
     "output_type": "execute_result"
    }
   ],
   "source": [
    "price_sort = ab_refver[ab_refver['citystate'] == 'san francisco_ca'].sort('price')\n",
    "\n",
    "price_sort.head()"
   ]
  },
  {
   "cell_type": "code",
   "execution_count": 9,
   "metadata": {
    "collapsed": false
   },
   "outputs": [
    {
     "name": "stderr",
     "output_type": "stream",
     "text": [
      "/usr/local/lib/python3.4/dist-packages/ipykernel/__main__.py:11: SettingWithCopyWarning: \n",
      "A value is trying to be set on a copy of a slice from a DataFrame.\n",
      "Try using .loc[row_indexer,col_indexer] = value instead\n",
      "\n",
      "See the the caveats in the documentation: http://pandas.pydata.org/pandas-docs/stable/indexing.html#indexing-view-versus-copy\n",
      "/usr/local/lib/python3.4/dist-packages/ipykernel/__main__.py:12: SettingWithCopyWarning: \n",
      "A value is trying to be set on a copy of a slice from a DataFrame.\n",
      "Try using .loc[row_indexer,col_indexer] = value instead\n",
      "\n",
      "See the the caveats in the documentation: http://pandas.pydata.org/pandas-docs/stable/indexing.html#indexing-view-versus-copy\n",
      "/usr/local/lib/python3.4/dist-packages/ipykernel/__main__.py:13: SettingWithCopyWarning: \n",
      "A value is trying to be set on a copy of a slice from a DataFrame.\n",
      "Try using .loc[row_indexer,col_indexer] = value instead\n",
      "\n",
      "See the the caveats in the documentation: http://pandas.pydata.org/pandas-docs/stable/indexing.html#indexing-view-versus-copy\n"
     ]
    }
   ],
   "source": [
    "cs_df = pandas.read_csv('couchsurfing/clean_hosts.csv',usecols=['people_id','member_since','city','state','status','verified_status','references_int'])\n",
    "\n",
    "def get_year(s):\n",
    "    try:\n",
    "        return datetime.datetime(int(s.split(\"Member since \")[1]), 1, 1)\n",
    "    except:\n",
    "        return None\n",
    "    \n",
    "cs_df['member_since'] = cs_df['member_since'].apply(get_year)\n",
    "cs_defhosts = cs_df[(cs_df['status'] == 'Accepting Guests')]\n",
    "cs_defhosts['any_verification'] = cs_defhosts['verified_status'].apply(lambda x: int(x != 'Not Verified'))\n",
    "cs_defhosts['any_references'] = cs_defhosts['references_int'].apply(lambda x: int(x != 0))\n",
    "cs_defhosts['any_refver'] = cs_defhosts[['any_references','any_verification']].apply(lambda row: row[0] or row[1], axis=1)"
   ]
  },
  {
   "cell_type": "code",
   "execution_count": 10,
   "metadata": {
    "collapsed": false
   },
   "outputs": [],
   "source": [
    "cs_refver = cs_defhosts[cs_defhosts['any_refver']==True]"
   ]
  },
  {
   "cell_type": "code",
   "execution_count": 11,
   "metadata": {
    "collapsed": false
   },
   "outputs": [
    {
     "data": {
      "text/plain": [
       "54258"
      ]
     },
     "execution_count": 11,
     "metadata": {},
     "output_type": "execute_result"
    }
   ],
   "source": [
    "len(cs_refver)"
   ]
  },
  {
   "cell_type": "code",
   "execution_count": 12,
   "metadata": {
    "collapsed": false
   },
   "outputs": [
    {
     "name": "stderr",
     "output_type": "stream",
     "text": [
      "/usr/local/lib/python3.4/dist-packages/ipykernel/__main__.py:64: SettingWithCopyWarning: \n",
      "A value is trying to be set on a copy of a slice from a DataFrame.\n",
      "Try using .loc[row_indexer,col_indexer] = value instead\n",
      "\n",
      "See the the caveats in the documentation: http://pandas.pydata.org/pandas-docs/stable/indexing.html#indexing-view-versus-copy\n",
      "/usr/local/lib/python3.4/dist-packages/ipykernel/__main__.py:65: SettingWithCopyWarning: \n",
      "A value is trying to be set on a copy of a slice from a DataFrame\n",
      "\n",
      "See the the caveats in the documentation: http://pandas.pydata.org/pandas-docs/stable/indexing.html#indexing-view-versus-copy\n",
      "/usr/local/lib/python3.4/dist-packages/ipykernel/__main__.py:66: SettingWithCopyWarning: \n",
      "A value is trying to be set on a copy of a slice from a DataFrame.\n",
      "Try using .loc[row_indexer,col_indexer] = value instead\n",
      "\n",
      "See the the caveats in the documentation: http://pandas.pydata.org/pandas-docs/stable/indexing.html#indexing-view-versus-copy\n",
      "/usr/local/lib/python3.4/dist-packages/ipykernel/__main__.py:67: SettingWithCopyWarning: \n",
      "A value is trying to be set on a copy of a slice from a DataFrame\n",
      "\n",
      "See the the caveats in the documentation: http://pandas.pydata.org/pandas-docs/stable/indexing.html#indexing-view-versus-copy\n"
     ]
    },
    {
     "name": "stdout",
     "output_type": "stream",
     "text": [
      "Birmingham\n",
      "Ames\n"
     ]
    },
    {
     "name": "stderr",
     "output_type": "stream",
     "text": [
      "/usr/local/lib/python3.4/dist-packages/ipykernel/__main__.py:68: SettingWithCopyWarning: \n",
      "A value is trying to be set on a copy of a slice from a DataFrame.\n",
      "Try using .loc[row_indexer,col_indexer] = value instead\n",
      "\n",
      "See the the caveats in the documentation: http://pandas.pydata.org/pandas-docs/stable/indexing.html#indexing-view-versus-copy\n",
      "/usr/local/lib/python3.4/dist-packages/ipykernel/__main__.py:69: SettingWithCopyWarning: \n",
      "A value is trying to be set on a copy of a slice from a DataFrame.\n",
      "Try using .loc[row_indexer,col_indexer] = value instead\n",
      "\n",
      "See the the caveats in the documentation: http://pandas.pydata.org/pandas-docs/stable/indexing.html#indexing-view-versus-copy\n"
     ]
    }
   ],
   "source": [
    "state_dict = dict( (('Alabama', 'AL'),\n",
    "       ('Alaska', 'AK'),\n",
    "       ('Arizona', 'AZ'),\n",
    "       ('Arkansas', 'AR'),\n",
    "       ('California', 'CA'),\n",
    "       ('Colorado', 'CO'),\n",
    "       ('Connecticut', 'CT'),\n",
    "       ('Delaware', 'DE'),\n",
    "       ('District of Columbia', 'DC'),\n",
    "       ('Florida', 'FL'),\n",
    "       ('Georgia', 'GA'),\n",
    "       ('Hawaii', 'HI'),\n",
    "       ('Idaho', 'ID'),\n",
    "       ('Illinois', 'IL'),\n",
    "       ('Indiana', 'IN'),\n",
    "       ('Iowa', 'IA'),\n",
    "       ('Kansas', 'KS'),\n",
    "       ('Kentucky', 'KY'),\n",
    "       ('Louisiana', 'LA'),\n",
    "       ('Maine', 'ME'),\n",
    "       ('Maryland', 'MD'),\n",
    "       ('Massachusetts', 'MA'),\n",
    "       ('Michigan', 'MI'),\n",
    "       ('Minnesota', 'MN'),\n",
    "       ('Mississippi', 'MS'),\n",
    "       ('Missouri', 'MO'),\n",
    "       ('Montana', 'MT'),\n",
    "       ('Nebraska', 'NE'),\n",
    "       ('Nevada', 'NV'),\n",
    "       ('New Hampshire', 'NH'),\n",
    "       ('New Jersey', 'NJ'),\n",
    "       ('New Mexico', 'NM'),\n",
    "       ('New York', 'NY'),\n",
    "       ('North Carolina', 'NC'),\n",
    "       ('North Dakota', 'ND'),\n",
    "       ('Ohio', 'OH'),\n",
    "       ('Oklahoma', 'OK'),\n",
    "       ('Oregon', 'OR'),\n",
    "       ('Pennsylvania', 'PA'),\n",
    "       ('Rhode Island', 'RI'),\n",
    "       ('South Carolina', 'SC'),\n",
    "       ('South Dakota', 'SD'),\n",
    "       ('Tennessee', 'TN'),\n",
    "       ('Texas', 'TX'),\n",
    "       ('Utah', 'UT'),\n",
    "       ('Vermont', 'VT'),\n",
    "       ('Virginia', 'VA'),\n",
    "       ('Washington', 'WA'),\n",
    "       ('West Virginia', 'WV'),\n",
    "       ('Wisconsin', 'WI'),\n",
    "       ('Wyoming', 'WY')) )\n",
    "\n",
    "def state_lookup(s):\n",
    "\n",
    "    if len(s) ==2:\n",
    "        return s.lower()\n",
    "    else:\n",
    "        try:\n",
    "            return state_dict[s].lower()\n",
    "        except KeyError:\n",
    "            print(s)\n",
    "            return float('nan')\n",
    "        \n",
    "cs_refver['state'] = cs_refver['state'].map(state_lookup)\n",
    "cs_refver.dropna(inplace=True)\n",
    "cs_refver['city'] = cs_refver['city'].apply(lambda x: x.strip().lower())\n",
    "cs_refver.dropna(inplace=True)\n",
    "cs_refver['state'] = cs_refver['state'].apply(lambda x: x.strip().lower())\n",
    "cs_refver['citystate'] = cs_refver['city'] + '_' + cs_refver['state']"
   ]
  },
  {
   "cell_type": "code",
   "execution_count": 13,
   "metadata": {
    "collapsed": true
   },
   "outputs": [],
   "source": [
    "cs_citystate = cs_refver.groupby(by='citystate').agg({'people_id':len})"
   ]
  },
  {
   "cell_type": "code",
   "execution_count": 14,
   "metadata": {
    "collapsed": false
   },
   "outputs": [],
   "source": [
    "cs_citystate = cs_citystate.reset_index()\n",
    "cs_citystate.columns = ['citystate','num_hosts']"
   ]
  },
  {
   "cell_type": "code",
   "execution_count": 15,
   "metadata": {
    "collapsed": true
   },
   "outputs": [],
   "source": [
    "def price_for_n_hosts(citystate, n):\n",
    "    ab_citystate = ab_lookup[ab_lookup['citystate']==citystate].sort('price')\n",
    "    #print(citystate, n)\n",
    "    #print(ab_citystate)\n",
    "    total_ab = len(ab_citystate)\n",
    "    if total_ab==0:\n",
    "        return False\n",
    "    if n > total_ab:\n",
    "        return max(ab_citystate['price'])\n",
    "    else:\n",
    "        min_price = ab_citystate.iloc[n-1]['price']#n-1 because if cs has one person, we want the price of the zeroeth cheapest ab\n",
    "        return min_price"
   ]
  },
  {
   "cell_type": "code",
   "execution_count": 16,
   "metadata": {
    "collapsed": false,
    "scrolled": true
   },
   "outputs": [],
   "source": [
    "cs_citystate['ab_min_price'] = cs_citystate.apply(lambda x: price_for_n_hosts(x['citystate'], x['num_hosts']), axis=1)"
   ]
  },
  {
   "cell_type": "code",
   "execution_count": 17,
   "metadata": {
    "collapsed": false,
    "scrolled": false
   },
   "outputs": [
    {
     "data": {
      "text/html": [
       "<div style=\"max-height:1000px;max-width:1500px;overflow:auto;\">\n",
       "<table border=\"1\" class=\"dataframe\">\n",
       "  <thead>\n",
       "    <tr style=\"text-align: right;\">\n",
       "      <th></th>\n",
       "      <th>citystate</th>\n",
       "      <th>num_hosts</th>\n",
       "      <th>ab_min_price</th>\n",
       "    </tr>\n",
       "  </thead>\n",
       "  <tbody>\n",
       "    <tr>\n",
       "      <th>0 </th>\n",
       "      <td>     abbeville_la</td>\n",
       "      <td>  1</td>\n",
       "      <td>   110</td>\n",
       "    </tr>\n",
       "    <tr>\n",
       "      <th>1 </th>\n",
       "      <td>     abbeville_sc</td>\n",
       "      <td>  1</td>\n",
       "      <td> False</td>\n",
       "    </tr>\n",
       "    <tr>\n",
       "      <th>2 </th>\n",
       "      <td>      aberdeen_md</td>\n",
       "      <td>  1</td>\n",
       "      <td> False</td>\n",
       "    </tr>\n",
       "    <tr>\n",
       "      <th>3 </th>\n",
       "      <td>      aberdeen_nc</td>\n",
       "      <td>  3</td>\n",
       "      <td>    75</td>\n",
       "    </tr>\n",
       "    <tr>\n",
       "      <th>4 </th>\n",
       "      <td>      aberdeen_oh</td>\n",
       "      <td>  1</td>\n",
       "      <td> False</td>\n",
       "    </tr>\n",
       "    <tr>\n",
       "      <th>5 </th>\n",
       "      <td>      aberdeen_sd</td>\n",
       "      <td> 13</td>\n",
       "      <td>    75</td>\n",
       "    </tr>\n",
       "    <tr>\n",
       "      <th>6 </th>\n",
       "      <td>      aberdeen_wa</td>\n",
       "      <td>  2</td>\n",
       "      <td>    46</td>\n",
       "    </tr>\n",
       "    <tr>\n",
       "      <th>7 </th>\n",
       "      <td>       abilene_tx</td>\n",
       "      <td> 14</td>\n",
       "      <td>   350</td>\n",
       "    </tr>\n",
       "    <tr>\n",
       "      <th>8 </th>\n",
       "      <td>      abingdon_va</td>\n",
       "      <td>  4</td>\n",
       "      <td>    50</td>\n",
       "    </tr>\n",
       "    <tr>\n",
       "      <th>9 </th>\n",
       "      <td>      abington_ma</td>\n",
       "      <td>  2</td>\n",
       "      <td> False</td>\n",
       "    </tr>\n",
       "    <tr>\n",
       "      <th>10</th>\n",
       "      <td> abita springs_la</td>\n",
       "      <td>  1</td>\n",
       "      <td> False</td>\n",
       "    </tr>\n",
       "    <tr>\n",
       "      <th>11</th>\n",
       "      <td>       absecon_nj</td>\n",
       "      <td>  1</td>\n",
       "      <td>    39</td>\n",
       "    </tr>\n",
       "    <tr>\n",
       "      <th>12</th>\n",
       "      <td>        acampo_ca</td>\n",
       "      <td>  1</td>\n",
       "      <td>    79</td>\n",
       "    </tr>\n",
       "    <tr>\n",
       "      <th>13</th>\n",
       "      <td>      accident_md</td>\n",
       "      <td>  1</td>\n",
       "      <td>   175</td>\n",
       "    </tr>\n",
       "    <tr>\n",
       "      <th>14</th>\n",
       "      <td>      accokeek_md</td>\n",
       "      <td>  1</td>\n",
       "      <td>    40</td>\n",
       "    </tr>\n",
       "    <tr>\n",
       "      <th>15</th>\n",
       "      <td>         acton_ma</td>\n",
       "      <td>  2</td>\n",
       "      <td>   100</td>\n",
       "    </tr>\n",
       "    <tr>\n",
       "      <th>16</th>\n",
       "      <td>       acworth_ga</td>\n",
       "      <td>  7</td>\n",
       "      <td>    59</td>\n",
       "    </tr>\n",
       "    <tr>\n",
       "      <th>17</th>\n",
       "      <td>       acworth_nh</td>\n",
       "      <td>  1</td>\n",
       "      <td>    75</td>\n",
       "    </tr>\n",
       "    <tr>\n",
       "      <th>18</th>\n",
       "      <td>           ada_mi</td>\n",
       "      <td>  2</td>\n",
       "      <td>    68</td>\n",
       "    </tr>\n",
       "    <tr>\n",
       "      <th>19</th>\n",
       "      <td>           ada_oh</td>\n",
       "      <td>  3</td>\n",
       "      <td> False</td>\n",
       "    </tr>\n",
       "  </tbody>\n",
       "</table>\n",
       "</div>"
      ],
      "text/plain": [
       "           citystate  num_hosts ab_min_price\n",
       "0       abbeville_la          1          110\n",
       "1       abbeville_sc          1        False\n",
       "2        aberdeen_md          1        False\n",
       "3        aberdeen_nc          3           75\n",
       "4        aberdeen_oh          1        False\n",
       "5        aberdeen_sd         13           75\n",
       "6        aberdeen_wa          2           46\n",
       "7         abilene_tx         14          350\n",
       "8        abingdon_va          4           50\n",
       "9        abington_ma          2        False\n",
       "10  abita springs_la          1        False\n",
       "11        absecon_nj          1           39\n",
       "12         acampo_ca          1           79\n",
       "13       accident_md          1          175\n",
       "14       accokeek_md          1           40\n",
       "15          acton_ma          2          100\n",
       "16        acworth_ga          7           59\n",
       "17        acworth_nh          1           75\n",
       "18            ada_mi          2           68\n",
       "19            ada_oh          3        False"
      ]
     },
     "execution_count": 17,
     "metadata": {},
     "output_type": "execute_result"
    }
   ],
   "source": [
    "cs_citystate.head(20)"
   ]
  },
  {
   "cell_type": "code",
   "execution_count": 18,
   "metadata": {
    "collapsed": true
   },
   "outputs": [],
   "source": [
    "cs_citystate_abequiv  = cs_citystate[cs_citystate['ab_min_price']!= False]\n",
    "cs_citystate_noequiv  = cs_citystate[cs_citystate['ab_min_price']== False]"
   ]
  },
  {
   "cell_type": "code",
   "execution_count": 45,
   "metadata": {
    "collapsed": false
   },
   "outputs": [
    {
     "data": {
      "text/html": [
       "<div style=\"max-height:1000px;max-width:1500px;overflow:auto;\">\n",
       "<table border=\"1\" class=\"dataframe\">\n",
       "  <thead>\n",
       "    <tr style=\"text-align: right;\">\n",
       "      <th></th>\n",
       "      <th>citystate</th>\n",
       "      <th>num_hosts</th>\n",
       "      <th>ab_min_price</th>\n",
       "    </tr>\n",
       "  </thead>\n",
       "  <tbody>\n",
       "    <tr>\n",
       "      <th>6392</th>\n",
       "      <td> west hollywood_ca</td>\n",
       "      <td> 40</td>\n",
       "      <td> 65</td>\n",
       "    </tr>\n",
       "  </tbody>\n",
       "</table>\n",
       "</div>"
      ],
      "text/plain": [
       "              citystate  num_hosts ab_min_price\n",
       "6392  west hollywood_ca         40           65"
      ]
     },
     "execution_count": 45,
     "metadata": {},
     "output_type": "execute_result"
    }
   ],
   "source": [
    "cs_citystate_abequiv[cs_citystate_abequiv['citystate']=='west hollywood_ca']"
   ]
  },
  {
   "cell_type": "code",
   "execution_count": 20,
   "metadata": {
    "collapsed": false
   },
   "outputs": [
    {
     "data": {
      "text/plain": [
       "0.3116126139590495"
      ]
     },
     "execution_count": 20,
     "metadata": {},
     "output_type": "execute_result"
    }
   ],
   "source": [
    "len(cs_citystate_noequiv)/len(cs_citystate)"
   ]
  },
  {
   "cell_type": "code",
   "execution_count": 21,
   "metadata": {
    "collapsed": false
   },
   "outputs": [
    {
     "data": {
      "text/plain": [
       "0.055055722166685181"
      ]
     },
     "execution_count": 21,
     "metadata": {},
     "output_type": "execute_result"
    }
   ],
   "source": [
    "cs_citystate_noequiv['num_hosts'].sum() / cs_citystate['num_hosts'].sum()"
   ]
  },
  {
   "cell_type": "code",
   "execution_count": 37,
   "metadata": {
    "collapsed": false
   },
   "outputs": [
    {
     "data": {
      "text/html": [
       "<div style=\"max-height:1000px;max-width:1500px;overflow:auto;\">\n",
       "<table border=\"1\" class=\"dataframe\">\n",
       "  <thead>\n",
       "    <tr style=\"text-align: right;\">\n",
       "      <th></th>\n",
       "      <th>num_hosts</th>\n",
       "    </tr>\n",
       "  </thead>\n",
       "  <tbody>\n",
       "    <tr>\n",
       "      <th>count</th>\n",
       "      <td> 4606.000000</td>\n",
       "    </tr>\n",
       "    <tr>\n",
       "      <th>mean</th>\n",
       "      <td>   11.082067</td>\n",
       "    </tr>\n",
       "    <tr>\n",
       "      <th>std</th>\n",
       "      <td>   56.626392</td>\n",
       "    </tr>\n",
       "    <tr>\n",
       "      <th>min</th>\n",
       "      <td>    1.000000</td>\n",
       "    </tr>\n",
       "    <tr>\n",
       "      <th>25%</th>\n",
       "      <td>    1.000000</td>\n",
       "    </tr>\n",
       "    <tr>\n",
       "      <th>50%</th>\n",
       "      <td>    2.000000</td>\n",
       "    </tr>\n",
       "    <tr>\n",
       "      <th>75%</th>\n",
       "      <td>    5.000000</td>\n",
       "    </tr>\n",
       "    <tr>\n",
       "      <th>max</th>\n",
       "      <td> 1456.000000</td>\n",
       "    </tr>\n",
       "  </tbody>\n",
       "</table>\n",
       "</div>"
      ],
      "text/plain": [
       "         num_hosts\n",
       "count  4606.000000\n",
       "mean     11.082067\n",
       "std      56.626392\n",
       "min       1.000000\n",
       "25%       1.000000\n",
       "50%       2.000000\n",
       "75%       5.000000\n",
       "max    1456.000000"
      ]
     },
     "execution_count": 37,
     "metadata": {},
     "output_type": "execute_result"
    }
   ],
   "source": [
    "cs_citystate_abequiv.describe()"
   ]
  },
  {
   "cell_type": "markdown",
   "metadata": {},
   "source": [
    "$11"
   ]
  },
  {
   "cell_type": "code",
   "execution_count": 23,
   "metadata": {
    "collapsed": false
   },
   "outputs": [],
   "source": [
    "%load_ext rpy2.ipython"
   ]
  },
  {
   "cell_type": "code",
   "execution_count": 24,
   "metadata": {
    "collapsed": true
   },
   "outputs": [],
   "source": [
    "%Rpush cs_citystate_abequiv"
   ]
  },
  {
   "cell_type": "code",
   "execution_count": null,
   "metadata": {
    "collapsed": true
   },
   "outputs": [],
   "source": []
  },
  {
   "cell_type": "code",
   "execution_count": 25,
   "metadata": {
    "collapsed": false
   },
   "outputs": [
    {
     "name": "stdout",
     "output_type": "stream",
     "text": [
      "\n",
      "Error: StatBin requires a continuous x variable the x variable is discrete. Perhaps you want stat=\"count\"?\n"
     ]
    },
    {
     "name": "stderr",
     "output_type": "stream",
     "text": [
      "/usr/local/lib/python3.4/dist-packages/rpy2/robjects/functions.py:106: UserWarning: Error: StatBin requires a continuous x variable the x variable is discrete. Perhaps you want stat=\"count\"?\n",
      "\n",
      "  res = super(Function, self).__call__(*new_args, **new_kwargs)\n"
     ]
    }
   ],
   "source": [
    "%%R\n",
    "library(ggplot2)\n",
    "\n",
    "p = ggplot(cs_citystate_abequiv, aes(x=ab_min_price)) + geom_histogram()\n",
    "print(p)"
   ]
  },
  {
   "cell_type": "code",
   "execution_count": null,
   "metadata": {
    "collapsed": true
   },
   "outputs": [],
   "source": []
  }
 ],
 "metadata": {
  "kernelspec": {
   "display_name": "Python 3",
   "language": "python",
   "name": "python3"
  },
  "language_info": {
   "codemirror_mode": {
    "name": "ipython",
    "version": 3
   },
   "file_extension": ".py",
   "mimetype": "text/x-python",
   "name": "python",
   "nbconvert_exporter": "python",
   "pygments_lexer": "ipython3",
   "version": "3.4.3+"
  }
 },
 "nbformat": 4,
 "nbformat_minor": 0
}
